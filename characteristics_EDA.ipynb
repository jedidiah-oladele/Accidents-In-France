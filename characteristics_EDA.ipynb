{
 "cells": [
  {
   "cell_type": "markdown",
   "id": "3ede9dd6",
   "metadata": {},
   "source": [
    "### Importing libraries"
   ]
  },
  {
   "cell_type": "code",
   "execution_count": 33,
   "id": "1eb4f23f",
   "metadata": {},
   "outputs": [],
   "source": [
    "import pandas as pd\n",
    "import seaborn as sns\n",
    "import matplotlib.pyplot as plt\n",
    "import scipy.stats as ss\n",
    "import numpy as np\n",
    "\n",
    "import warnings\n",
    "warnings.filterwarnings('ignore')"
   ]
  },
  {
   "cell_type": "markdown",
   "id": "d2ac8938",
   "metadata": {},
   "source": [
    "### Renaming columns"
   ]
  },
  {
   "cell_type": "code",
   "execution_count": 35,
   "id": "a4065ac9",
   "metadata": {},
   "outputs": [],
   "source": [
    "df = pd.read_csv('archive/caracteristics.csv', encoding='ISO-8859-1')\n",
    "\n",
    "columns = {\"Num_Acc\":\"accident_ID\",\n",
    "          \"an\":\"year\",\n",
    "          \"mois\":\"month\",\n",
    "          \"jour\":\"day\",\n",
    "          \"hrmn\":\"time\",\n",
    "          \"lum\":\"lighting\",\n",
    "          \"agg\":\"agg\",\n",
    "          \"int\":\"intersection\",\n",
    "          \"atm\":\"atmosphere\",\n",
    "          \"col\":\"collision\",\n",
    "          \"com\":\"municipality\",\n",
    "          \"adr\":\"postal_address\",\n",
    "          \"gps\":\"GPS\",\n",
    "          \"lat\":\"latitude\",\n",
    "          \"long\":\"longitude\",\n",
    "          \"dep\":\"department\"}\n",
    "\n",
    "df.rename(columns=columns, inplace=True)"
   ]
  },
  {
   "cell_type": "code",
   "execution_count": 343,
   "id": "eca3b064",
   "metadata": {},
   "outputs": [],
   "source": [
    "# Dropping some irrelevant columns\n",
    "df.drop(columns=[\"agg\", \"department\", \"municipality\"], inplace=True)"
   ]
  },
  {
   "cell_type": "code",
   "execution_count": 344,
   "id": "33b05385",
   "metadata": {},
   "outputs": [
    {
     "data": {
      "text/html": [
       "<div>\n",
       "<style scoped>\n",
       "    .dataframe tbody tr th:only-of-type {\n",
       "        vertical-align: middle;\n",
       "    }\n",
       "\n",
       "    .dataframe tbody tr th {\n",
       "        vertical-align: top;\n",
       "    }\n",
       "\n",
       "    .dataframe thead th {\n",
       "        text-align: right;\n",
       "    }\n",
       "</style>\n",
       "<table border=\"1\" class=\"dataframe\">\n",
       "  <thead>\n",
       "    <tr style=\"text-align: right;\">\n",
       "      <th></th>\n",
       "      <th>accident_ID</th>\n",
       "      <th>year</th>\n",
       "      <th>month</th>\n",
       "      <th>day</th>\n",
       "      <th>time</th>\n",
       "      <th>lighting</th>\n",
       "      <th>intersection</th>\n",
       "      <th>atmosphere</th>\n",
       "      <th>collision</th>\n",
       "      <th>postal_address</th>\n",
       "      <th>GPS</th>\n",
       "      <th>latitude</th>\n",
       "      <th>longitude</th>\n",
       "    </tr>\n",
       "  </thead>\n",
       "  <tbody>\n",
       "    <tr>\n",
       "      <th>0</th>\n",
       "      <td>201600000001</td>\n",
       "      <td>16</td>\n",
       "      <td>2</td>\n",
       "      <td>1</td>\n",
       "      <td>1445</td>\n",
       "      <td>1</td>\n",
       "      <td>1</td>\n",
       "      <td>8.0</td>\n",
       "      <td>3.0</td>\n",
       "      <td>46, rue Sonneville</td>\n",
       "      <td>M</td>\n",
       "      <td>0.0</td>\n",
       "      <td>0.0</td>\n",
       "    </tr>\n",
       "    <tr>\n",
       "      <th>1</th>\n",
       "      <td>201600000002</td>\n",
       "      <td>16</td>\n",
       "      <td>3</td>\n",
       "      <td>16</td>\n",
       "      <td>1800</td>\n",
       "      <td>1</td>\n",
       "      <td>6</td>\n",
       "      <td>1.0</td>\n",
       "      <td>6.0</td>\n",
       "      <td>1a rue du cimetière</td>\n",
       "      <td>M</td>\n",
       "      <td>0.0</td>\n",
       "      <td>0.0</td>\n",
       "    </tr>\n",
       "    <tr>\n",
       "      <th>2</th>\n",
       "      <td>201600000003</td>\n",
       "      <td>16</td>\n",
       "      <td>7</td>\n",
       "      <td>13</td>\n",
       "      <td>1900</td>\n",
       "      <td>1</td>\n",
       "      <td>1</td>\n",
       "      <td>1.0</td>\n",
       "      <td>6.0</td>\n",
       "      <td>NaN</td>\n",
       "      <td>M</td>\n",
       "      <td>0.0</td>\n",
       "      <td>0.0</td>\n",
       "    </tr>\n",
       "    <tr>\n",
       "      <th>3</th>\n",
       "      <td>201600000004</td>\n",
       "      <td>16</td>\n",
       "      <td>8</td>\n",
       "      <td>15</td>\n",
       "      <td>1930</td>\n",
       "      <td>2</td>\n",
       "      <td>1</td>\n",
       "      <td>7.0</td>\n",
       "      <td>3.0</td>\n",
       "      <td>52 rue victor hugo</td>\n",
       "      <td>M</td>\n",
       "      <td>0.0</td>\n",
       "      <td>0.0</td>\n",
       "    </tr>\n",
       "    <tr>\n",
       "      <th>4</th>\n",
       "      <td>201600000005</td>\n",
       "      <td>16</td>\n",
       "      <td>12</td>\n",
       "      <td>23</td>\n",
       "      <td>1100</td>\n",
       "      <td>1</td>\n",
       "      <td>3</td>\n",
       "      <td>1.0</td>\n",
       "      <td>3.0</td>\n",
       "      <td>rue Joliot curie</td>\n",
       "      <td>M</td>\n",
       "      <td>0.0</td>\n",
       "      <td>0.0</td>\n",
       "    </tr>\n",
       "  </tbody>\n",
       "</table>\n",
       "</div>"
      ],
      "text/plain": [
       "    accident_ID  year  month  day  time  lighting  intersection  atmosphere  \\\n",
       "0  201600000001    16      2    1  1445         1             1         8.0   \n",
       "1  201600000002    16      3   16  1800         1             6         1.0   \n",
       "2  201600000003    16      7   13  1900         1             1         1.0   \n",
       "3  201600000004    16      8   15  1930         2             1         7.0   \n",
       "4  201600000005    16     12   23  1100         1             3         1.0   \n",
       "\n",
       "   collision       postal_address GPS  latitude longitude  \n",
       "0        3.0   46, rue Sonneville   M       0.0       0.0  \n",
       "1        6.0  1a rue du cimetière   M       0.0       0.0  \n",
       "2        6.0                  NaN   M       0.0       0.0  \n",
       "3        3.0   52 rue victor hugo   M       0.0       0.0  \n",
       "4        3.0     rue Joliot curie   M       0.0       0.0  "
      ]
     },
     "execution_count": 344,
     "metadata": {},
     "output_type": "execute_result"
    }
   ],
   "source": [
    "df.head()"
   ]
  },
  {
   "cell_type": "code",
   "execution_count": 345,
   "id": "ad4de33a",
   "metadata": {},
   "outputs": [
    {
     "name": "stdout",
     "output_type": "stream",
     "text": [
      "<class 'pandas.core.frame.DataFrame'>\n",
      "RangeIndex: 839985 entries, 0 to 839984\n",
      "Data columns (total 13 columns):\n",
      " #   Column          Non-Null Count   Dtype  \n",
      "---  ------          --------------   -----  \n",
      " 0   accident_ID     839985 non-null  int64  \n",
      " 1   year            839985 non-null  int64  \n",
      " 2   month           839985 non-null  int64  \n",
      " 3   day             839985 non-null  int64  \n",
      " 4   time            839985 non-null  int64  \n",
      " 5   lighting        839985 non-null  int64  \n",
      " 6   intersection    839985 non-null  int64  \n",
      " 7   atmosphere      839930 non-null  float64\n",
      " 8   collision       839974 non-null  float64\n",
      " 9   postal_address  699443 non-null  object \n",
      " 10  GPS             366226 non-null  object \n",
      " 11  latitude        362471 non-null  float64\n",
      " 12  longitude       362467 non-null  object \n",
      "dtypes: float64(3), int64(7), object(3)\n",
      "memory usage: 83.3+ MB\n"
     ]
    }
   ],
   "source": [
    "df.info()"
   ]
  },
  {
   "cell_type": "code",
   "execution_count": 346,
   "id": "09c43a4c",
   "metadata": {},
   "outputs": [],
   "source": [
    "# Creating the localisation column\n",
    "df[\"localisation\"] = df[\"postal_address\"].isnull()"
   ]
  },
  {
   "cell_type": "markdown",
   "id": "70eca4c3",
   "metadata": {},
   "source": [
    "### Mapping of feature's values"
   ]
  },
  {
   "cell_type": "code",
   "execution_count": 347,
   "id": "562f6746",
   "metadata": {},
   "outputs": [],
   "source": [
    "localisation_map = {True:\"Out of agglomeration\", False:\"In built-up areas\"}\n",
    "\n",
    "lighting_map = {1:\"Full day\", 2:\"Twilight or dawn\", 3:\"Night without public lighting\",\n",
    "            4:\"Night with public lighting not lit\", 5:\"Night with public lighting on\"}\n",
    "\n",
    "intersection_map ={1:\"Out of intersection\", 2:\"X Intersection\", 3:\" T Intersection\",\n",
    "                   4:\"Y Intersection\", 5:\"More than 4 branches\", 6:\"Giratory\",\n",
    "                   7:\"Place\", 8:\"Level crossing\", 9:\"Other intersection\"}\n",
    "\n",
    "atmosphere_map = {1:\"Normal\", 2:\"Light rain\", 3:\"Heavy rain\",\n",
    "                  4:\"Snow - hail\", 5:\"Fog - smoke\", 6:\"Strong wind - storm\",\n",
    "                  7:\"Dazzling weather\", 8:\"Cloudy weather\", 9:\"Other\"}\n",
    "\n",
    "collision_map = {1:\"Frontal\", 2:\"Rear\", 3:\"By the side\", 4:\"Chain\",\n",
    "                 5:\"Multiple\", 6:\"Other\", 7:\"Without\"}\n",
    "\n",
    "GPS_map = {\"M\":\"Métropole\", \"A\":\"Antilles (Martinique or Guadeloupe)\",\n",
    "           \"G\":\"Guyane\", \"R\":\"Réunion\", \"Y\":\"Mayotte\"}\n",
    "\n",
    "df[\"localisation\"] = df[\"localisation\"].map(localisation_map)\n",
    "df[\"lighting\"] = df[\"lighting\"].map(lighting_map)\n",
    "df[\"intersection\"] = df[\"intersection\"].map(intersection_map)\n",
    "df[\"atmosphere\"] = df[\"atmosphere\"].map(atmosphere_map)\n",
    "df[\"collision\"] = df[\"collision\"].map(collision_map)\n",
    "df[\"GPS\"] = df[\"GPS\"].map(GPS_map)"
   ]
  },
  {
   "cell_type": "markdown",
   "id": "28513e94",
   "metadata": {},
   "source": [
    "### Handling date and time"
   ]
  },
  {
   "cell_type": "code",
   "execution_count": 348,
   "id": "4b2f0c00",
   "metadata": {},
   "outputs": [
    {
     "data": {
      "text/html": [
       "<div>\n",
       "<style scoped>\n",
       "    .dataframe tbody tr th:only-of-type {\n",
       "        vertical-align: middle;\n",
       "    }\n",
       "\n",
       "    .dataframe tbody tr th {\n",
       "        vertical-align: top;\n",
       "    }\n",
       "\n",
       "    .dataframe thead th {\n",
       "        text-align: right;\n",
       "    }\n",
       "</style>\n",
       "<table border=\"1\" class=\"dataframe\">\n",
       "  <thead>\n",
       "    <tr style=\"text-align: right;\">\n",
       "      <th></th>\n",
       "      <th>accident_ID</th>\n",
       "      <th>date</th>\n",
       "      <th>time</th>\n",
       "      <th>lighting</th>\n",
       "      <th>intersection</th>\n",
       "      <th>atmosphere</th>\n",
       "      <th>collision</th>\n",
       "      <th>postal_address</th>\n",
       "      <th>GPS</th>\n",
       "      <th>latitude</th>\n",
       "      <th>longitude</th>\n",
       "      <th>localisation</th>\n",
       "    </tr>\n",
       "  </thead>\n",
       "  <tbody>\n",
       "    <tr>\n",
       "      <th>0</th>\n",
       "      <td>201600000001</td>\n",
       "      <td>2016-01-02</td>\n",
       "      <td>1445</td>\n",
       "      <td>Full day</td>\n",
       "      <td>Out of intersection</td>\n",
       "      <td>Cloudy weather</td>\n",
       "      <td>By the side</td>\n",
       "      <td>46, rue Sonneville</td>\n",
       "      <td>Métropole</td>\n",
       "      <td>0.0</td>\n",
       "      <td>0.0</td>\n",
       "      <td>In built-up areas</td>\n",
       "    </tr>\n",
       "    <tr>\n",
       "      <th>1</th>\n",
       "      <td>201600000002</td>\n",
       "      <td>2016-03-16</td>\n",
       "      <td>1800</td>\n",
       "      <td>Full day</td>\n",
       "      <td>Giratory</td>\n",
       "      <td>Normal</td>\n",
       "      <td>Other</td>\n",
       "      <td>1a rue du cimetière</td>\n",
       "      <td>Métropole</td>\n",
       "      <td>0.0</td>\n",
       "      <td>0.0</td>\n",
       "      <td>In built-up areas</td>\n",
       "    </tr>\n",
       "    <tr>\n",
       "      <th>2</th>\n",
       "      <td>201600000003</td>\n",
       "      <td>2016-07-13</td>\n",
       "      <td>1900</td>\n",
       "      <td>Full day</td>\n",
       "      <td>Out of intersection</td>\n",
       "      <td>Normal</td>\n",
       "      <td>Other</td>\n",
       "      <td>NaN</td>\n",
       "      <td>Métropole</td>\n",
       "      <td>0.0</td>\n",
       "      <td>0.0</td>\n",
       "      <td>Out of agglomeration</td>\n",
       "    </tr>\n",
       "    <tr>\n",
       "      <th>3</th>\n",
       "      <td>201600000004</td>\n",
       "      <td>2016-08-15</td>\n",
       "      <td>1930</td>\n",
       "      <td>Twilight or dawn</td>\n",
       "      <td>Out of intersection</td>\n",
       "      <td>Dazzling weather</td>\n",
       "      <td>By the side</td>\n",
       "      <td>52 rue victor hugo</td>\n",
       "      <td>Métropole</td>\n",
       "      <td>0.0</td>\n",
       "      <td>0.0</td>\n",
       "      <td>In built-up areas</td>\n",
       "    </tr>\n",
       "    <tr>\n",
       "      <th>4</th>\n",
       "      <td>201600000005</td>\n",
       "      <td>2016-12-23</td>\n",
       "      <td>1100</td>\n",
       "      <td>Full day</td>\n",
       "      <td>T Intersection</td>\n",
       "      <td>Normal</td>\n",
       "      <td>By the side</td>\n",
       "      <td>rue Joliot curie</td>\n",
       "      <td>Métropole</td>\n",
       "      <td>0.0</td>\n",
       "      <td>0.0</td>\n",
       "      <td>In built-up areas</td>\n",
       "    </tr>\n",
       "  </tbody>\n",
       "</table>\n",
       "</div>"
      ],
      "text/plain": [
       "    accident_ID       date  time          lighting         intersection  \\\n",
       "0  201600000001 2016-01-02  1445          Full day  Out of intersection   \n",
       "1  201600000002 2016-03-16  1800          Full day             Giratory   \n",
       "2  201600000003 2016-07-13  1900          Full day  Out of intersection   \n",
       "3  201600000004 2016-08-15  1930  Twilight or dawn  Out of intersection   \n",
       "4  201600000005 2016-12-23  1100          Full day       T Intersection   \n",
       "\n",
       "         atmosphere    collision       postal_address        GPS  latitude  \\\n",
       "0    Cloudy weather  By the side   46, rue Sonneville  Métropole       0.0   \n",
       "1            Normal        Other  1a rue du cimetière  Métropole       0.0   \n",
       "2            Normal        Other                  NaN  Métropole       0.0   \n",
       "3  Dazzling weather  By the side   52 rue victor hugo  Métropole       0.0   \n",
       "4            Normal  By the side     rue Joliot curie  Métropole       0.0   \n",
       "\n",
       "  longitude          localisation  \n",
       "0       0.0     In built-up areas  \n",
       "1       0.0     In built-up areas  \n",
       "2       0.0  Out of agglomeration  \n",
       "3       0.0     In built-up areas  \n",
       "4       0.0     In built-up areas  "
      ]
     },
     "execution_count": 348,
     "metadata": {},
     "output_type": "execute_result"
    }
   ],
   "source": [
    "# Combine day, month and year to a datetime type\n",
    "df[\"date\"] = pd.to_datetime(df[\"day\"].astype(str) + \"/\" + df[\"month\"].astype(str) + \"/\" + df[\"year\"].astype(str))\n",
    "df.drop(columns=[\"day\", \"month\", \"year\"], inplace=True)\n",
    "\n",
    "# Move the column to the front\n",
    "df.insert(1, \"date\", df.pop(\"date\"))\n",
    "\n",
    "df.head()"
   ]
  },
  {
   "cell_type": "code",
   "execution_count": 349,
   "id": "88795870",
   "metadata": {},
   "outputs": [
    {
     "data": {
      "text/html": [
       "<div>\n",
       "<style scoped>\n",
       "    .dataframe tbody tr th:only-of-type {\n",
       "        vertical-align: middle;\n",
       "    }\n",
       "\n",
       "    .dataframe tbody tr th {\n",
       "        vertical-align: top;\n",
       "    }\n",
       "\n",
       "    .dataframe thead th {\n",
       "        text-align: right;\n",
       "    }\n",
       "</style>\n",
       "<table border=\"1\" class=\"dataframe\">\n",
       "  <thead>\n",
       "    <tr style=\"text-align: right;\">\n",
       "      <th></th>\n",
       "      <th>accident_ID</th>\n",
       "      <th>date</th>\n",
       "      <th>hour</th>\n",
       "      <th>minute</th>\n",
       "      <th>lighting</th>\n",
       "      <th>intersection</th>\n",
       "      <th>atmosphere</th>\n",
       "      <th>collision</th>\n",
       "      <th>postal_address</th>\n",
       "      <th>GPS</th>\n",
       "      <th>latitude</th>\n",
       "      <th>longitude</th>\n",
       "      <th>localisation</th>\n",
       "    </tr>\n",
       "  </thead>\n",
       "  <tbody>\n",
       "    <tr>\n",
       "      <th>0</th>\n",
       "      <td>201600000001</td>\n",
       "      <td>2016-01-02</td>\n",
       "      <td>14</td>\n",
       "      <td>45</td>\n",
       "      <td>Full day</td>\n",
       "      <td>Out of intersection</td>\n",
       "      <td>Cloudy weather</td>\n",
       "      <td>By the side</td>\n",
       "      <td>46, rue Sonneville</td>\n",
       "      <td>Métropole</td>\n",
       "      <td>0.0</td>\n",
       "      <td>0.0</td>\n",
       "      <td>In built-up areas</td>\n",
       "    </tr>\n",
       "    <tr>\n",
       "      <th>1</th>\n",
       "      <td>201600000002</td>\n",
       "      <td>2016-03-16</td>\n",
       "      <td>18</td>\n",
       "      <td>00</td>\n",
       "      <td>Full day</td>\n",
       "      <td>Giratory</td>\n",
       "      <td>Normal</td>\n",
       "      <td>Other</td>\n",
       "      <td>1a rue du cimetière</td>\n",
       "      <td>Métropole</td>\n",
       "      <td>0.0</td>\n",
       "      <td>0.0</td>\n",
       "      <td>In built-up areas</td>\n",
       "    </tr>\n",
       "    <tr>\n",
       "      <th>2</th>\n",
       "      <td>201600000003</td>\n",
       "      <td>2016-07-13</td>\n",
       "      <td>19</td>\n",
       "      <td>00</td>\n",
       "      <td>Full day</td>\n",
       "      <td>Out of intersection</td>\n",
       "      <td>Normal</td>\n",
       "      <td>Other</td>\n",
       "      <td>NaN</td>\n",
       "      <td>Métropole</td>\n",
       "      <td>0.0</td>\n",
       "      <td>0.0</td>\n",
       "      <td>Out of agglomeration</td>\n",
       "    </tr>\n",
       "    <tr>\n",
       "      <th>3</th>\n",
       "      <td>201600000004</td>\n",
       "      <td>2016-08-15</td>\n",
       "      <td>19</td>\n",
       "      <td>30</td>\n",
       "      <td>Twilight or dawn</td>\n",
       "      <td>Out of intersection</td>\n",
       "      <td>Dazzling weather</td>\n",
       "      <td>By the side</td>\n",
       "      <td>52 rue victor hugo</td>\n",
       "      <td>Métropole</td>\n",
       "      <td>0.0</td>\n",
       "      <td>0.0</td>\n",
       "      <td>In built-up areas</td>\n",
       "    </tr>\n",
       "    <tr>\n",
       "      <th>4</th>\n",
       "      <td>201600000005</td>\n",
       "      <td>2016-12-23</td>\n",
       "      <td>11</td>\n",
       "      <td>00</td>\n",
       "      <td>Full day</td>\n",
       "      <td>T Intersection</td>\n",
       "      <td>Normal</td>\n",
       "      <td>By the side</td>\n",
       "      <td>rue Joliot curie</td>\n",
       "      <td>Métropole</td>\n",
       "      <td>0.0</td>\n",
       "      <td>0.0</td>\n",
       "      <td>In built-up areas</td>\n",
       "    </tr>\n",
       "  </tbody>\n",
       "</table>\n",
       "</div>"
      ],
      "text/plain": [
       "    accident_ID       date hour minute          lighting         intersection  \\\n",
       "0  201600000001 2016-01-02   14     45          Full day  Out of intersection   \n",
       "1  201600000002 2016-03-16   18     00          Full day             Giratory   \n",
       "2  201600000003 2016-07-13   19     00          Full day  Out of intersection   \n",
       "3  201600000004 2016-08-15   19     30  Twilight or dawn  Out of intersection   \n",
       "4  201600000005 2016-12-23   11     00          Full day       T Intersection   \n",
       "\n",
       "         atmosphere    collision       postal_address        GPS  latitude  \\\n",
       "0    Cloudy weather  By the side   46, rue Sonneville  Métropole       0.0   \n",
       "1            Normal        Other  1a rue du cimetière  Métropole       0.0   \n",
       "2            Normal        Other                  NaN  Métropole       0.0   \n",
       "3  Dazzling weather  By the side   52 rue victor hugo  Métropole       0.0   \n",
       "4            Normal  By the side     rue Joliot curie  Métropole       0.0   \n",
       "\n",
       "  longitude          localisation  \n",
       "0       0.0     In built-up areas  \n",
       "1       0.0     In built-up areas  \n",
       "2       0.0  Out of agglomeration  \n",
       "3       0.0     In built-up areas  \n",
       "4       0.0     In built-up areas  "
      ]
     },
     "execution_count": 349,
     "metadata": {},
     "output_type": "execute_result"
    }
   ],
   "source": [
    "df['time'] = df['time'].astype(str)\n",
    "\n",
    "hour = df['time'].apply(lambda x: x[:-2])\n",
    "minute = df['time'].apply(lambda x: x[-2:])\n",
    "\n",
    "df.insert(2, \"hour\", hour)\n",
    "df.insert(3, \"minute\", minute)\n",
    "\n",
    "# Filling in missing hour values\n",
    "df[\"hour\"].replace(to_replace=\"\", value=\"0\", inplace=True)\n",
    "df[df[\"hour\"]==\"\"].shape\n",
    "\n",
    "df.drop(columns=[\"time\"], inplace=True)\n",
    "df.head()"
   ]
  },
  {
   "cell_type": "markdown",
   "id": "1eee9b43",
   "metadata": {},
   "source": [
    "### Checking for missing values"
   ]
  },
  {
   "cell_type": "code",
   "execution_count": 350,
   "id": "71c7005f",
   "metadata": {},
   "outputs": [
    {
     "name": "stdout",
     "output_type": "stream",
     "text": [
      "Percentage of missing values in intersection: 0.012619272963207678\n",
      "Percentage of missing values in atmosphere: 0.006547735971475681\n",
      "Percentage of missing values in collision: 0.0013095471942951363\n",
      "Percentage of missing values in postal_address: 16.731489252784275\n",
      "Percentage of missing values in GPS: 56.40303100650607\n",
      "Percentage of missing values in latitude: 56.847919903331615\n",
      "Percentage of missing values in longitude: 56.84839610231135\n"
     ]
    }
   ],
   "source": [
    "def check_missing_val(df):\n",
    "    for column in df.columns:\n",
    "        null_count = df.isnull()[column].sum()\n",
    "\n",
    "        # Skips over complete coloumns\n",
    "        if null_count == 0:\n",
    "            continue\n",
    "\n",
    "        total_count = df[column].shape[0]\n",
    "        percentage = (null_count / total_count) * 100\n",
    "\n",
    "        print(f'Percentage of missing values in {column}: {percentage}')\n",
    "    \n",
    "check_missing_val(df)"
   ]
  },
  {
   "cell_type": "code",
   "execution_count": 351,
   "id": "d9f72dd3",
   "metadata": {},
   "outputs": [
    {
     "data": {
      "image/png": "[encoded data removed]",
      "text/plain": [
       "<Figure size 720x360 with 1 Axes>"
      ]
     },
     "metadata": {},
     "output_type": "display_data"
    }
   ],
   "source": [
    "plt.figure(figsize=(10,5))\n",
    "sns.heatmap(df.isnull(), yticklabels=False, cbar=False)\n",
    "plt.show()"
   ]
  },
  {
   "cell_type": "markdown",
   "id": "09d91abb",
   "metadata": {},
   "source": [
    "### Handling missing values"
   ]
  },
  {
   "cell_type": "code",
   "execution_count": 352,
   "id": "e03d116c",
   "metadata": {},
   "outputs": [],
   "source": [
    "# The Lattitude, Longitude and GPS columns can be dropped, as there have over 50% missing values\n",
    "df.drop(columns=['GPS', 'latitude', 'longitude'], inplace=True)"
   ]
  },
  {
   "cell_type": "code",
   "execution_count": 353,
   "id": "c63fe5be",
   "metadata": {},
   "outputs": [],
   "source": [
    "# Others can be filled with the mode\n",
    "df['intersection'].fillna(value=df['intersection'].mode()[0], inplace=True)\n",
    "df['atmosphere'].fillna(value=df['atmosphere'].mode()[0], inplace=True)\n",
    "df['collision'].fillna(value=df['collision'].mode()[0], inplace=True)\n",
    "# Can be left blank\n",
    "df['postal_address'].fillna(value=\"None\", inplace=True)\n",
    "\n",
    "check_missing_val(df)"
   ]
  },
  {
   "cell_type": "code",
   "execution_count": 354,
   "id": "deb41e61",
   "metadata": {},
   "outputs": [
    {
     "data": {
      "text/html": [
       "<div>\n",
       "<style scoped>\n",
       "    .dataframe tbody tr th:only-of-type {\n",
       "        vertical-align: middle;\n",
       "    }\n",
       "\n",
       "    .dataframe tbody tr th {\n",
       "        vertical-align: top;\n",
       "    }\n",
       "\n",
       "    .dataframe thead th {\n",
       "        text-align: right;\n",
       "    }\n",
       "</style>\n",
       "<table border=\"1\" class=\"dataframe\">\n",
       "  <thead>\n",
       "    <tr style=\"text-align: right;\">\n",
       "      <th></th>\n",
       "      <th>accident_ID</th>\n",
       "      <th>date</th>\n",
       "      <th>hour</th>\n",
       "      <th>minute</th>\n",
       "      <th>lighting</th>\n",
       "      <th>intersection</th>\n",
       "      <th>atmosphere</th>\n",
       "      <th>collision</th>\n",
       "      <th>postal_address</th>\n",
       "      <th>localisation</th>\n",
       "    </tr>\n",
       "  </thead>\n",
       "  <tbody>\n",
       "    <tr>\n",
       "      <th>0</th>\n",
       "      <td>201600000001</td>\n",
       "      <td>2016-01-02</td>\n",
       "      <td>14</td>\n",
       "      <td>45</td>\n",
       "      <td>Full day</td>\n",
       "      <td>Out of intersection</td>\n",
       "      <td>Cloudy weather</td>\n",
       "      <td>By the side</td>\n",
       "      <td>46, rue Sonneville</td>\n",
       "      <td>In built-up areas</td>\n",
       "    </tr>\n",
       "    <tr>\n",
       "      <th>1</th>\n",
       "      <td>201600000002</td>\n",
       "      <td>2016-03-16</td>\n",
       "      <td>18</td>\n",
       "      <td>00</td>\n",
       "      <td>Full day</td>\n",
       "      <td>Giratory</td>\n",
       "      <td>Normal</td>\n",
       "      <td>Other</td>\n",
       "      <td>1a rue du cimetière</td>\n",
       "      <td>In built-up areas</td>\n",
       "    </tr>\n",
       "    <tr>\n",
       "      <th>2</th>\n",
       "      <td>201600000003</td>\n",
       "      <td>2016-07-13</td>\n",
       "      <td>19</td>\n",
       "      <td>00</td>\n",
       "      <td>Full day</td>\n",
       "      <td>Out of intersection</td>\n",
       "      <td>Normal</td>\n",
       "      <td>Other</td>\n",
       "      <td>None</td>\n",
       "      <td>Out of agglomeration</td>\n",
       "    </tr>\n",
       "    <tr>\n",
       "      <th>3</th>\n",
       "      <td>201600000004</td>\n",
       "      <td>2016-08-15</td>\n",
       "      <td>19</td>\n",
       "      <td>30</td>\n",
       "      <td>Twilight or dawn</td>\n",
       "      <td>Out of intersection</td>\n",
       "      <td>Dazzling weather</td>\n",
       "      <td>By the side</td>\n",
       "      <td>52 rue victor hugo</td>\n",
       "      <td>In built-up areas</td>\n",
       "    </tr>\n",
       "    <tr>\n",
       "      <th>4</th>\n",
       "      <td>201600000005</td>\n",
       "      <td>2016-12-23</td>\n",
       "      <td>11</td>\n",
       "      <td>00</td>\n",
       "      <td>Full day</td>\n",
       "      <td>T Intersection</td>\n",
       "      <td>Normal</td>\n",
       "      <td>By the side</td>\n",
       "      <td>rue Joliot curie</td>\n",
       "      <td>In built-up areas</td>\n",
       "    </tr>\n",
       "  </tbody>\n",
       "</table>\n",
       "</div>"
      ],
      "text/plain": [
       "    accident_ID       date hour minute          lighting         intersection  \\\n",
       "0  201600000001 2016-01-02   14     45          Full day  Out of intersection   \n",
       "1  201600000002 2016-03-16   18     00          Full day             Giratory   \n",
       "2  201600000003 2016-07-13   19     00          Full day  Out of intersection   \n",
       "3  201600000004 2016-08-15   19     30  Twilight or dawn  Out of intersection   \n",
       "4  201600000005 2016-12-23   11     00          Full day       T Intersection   \n",
       "\n",
       "         atmosphere    collision       postal_address          localisation  \n",
       "0    Cloudy weather  By the side   46, rue Sonneville     In built-up areas  \n",
       "1            Normal        Other  1a rue du cimetière     In built-up areas  \n",
       "2            Normal        Other                 None  Out of agglomeration  \n",
       "3  Dazzling weather  By the side   52 rue victor hugo     In built-up areas  \n",
       "4            Normal  By the side     rue Joliot curie     In built-up areas  "
      ]
     },
     "execution_count": 354,
     "metadata": {},
     "output_type": "execute_result"
    }
   ],
   "source": [
    "df.head()"
   ]
  },
  {
   "cell_type": "markdown",
   "id": "61dac611",
   "metadata": {},
   "source": [
    "# Visualizations"
   ]
  },
  {
   "cell_type": "code",
   "execution_count": 355,
   "id": "7dcee8c0",
   "metadata": {},
   "outputs": [],
   "source": [
    "sns.set_style(\"whitegrid\")"
   ]
  },
  {
   "cell_type": "code",
   "execution_count": 356,
   "id": "0be2ef9c",
   "metadata": {},
   "outputs": [
    {
     "data": {
      "image/png": "[encoded data removed]",
      "text/plain": [
       "<Figure size 1080x360 with 1 Axes>"
      ]
     },
     "metadata": {},
     "output_type": "display_data"
    }
   ],
   "source": [
    "plt.figure(figsize=(15,5))\n",
    "sns.countplot(x=df[\"date\"].dt.month,\n",
    "              ec=\"Black\",\n",
    "              palette=\"twilight\")\n",
    "plt.show()"
   ]
  },
  {
   "cell_type": "code",
   "execution_count": 357,
   "id": "a3235603",
   "metadata": {},
   "outputs": [
    {
     "data": {
      "image/png": "[encoded data removed]",
      "text/plain": [
       "<Figure size 1080x360 with 1 Axes>"
      ]
     },
     "metadata": {},
     "output_type": "display_data"
    }
   ],
   "source": [
    "plt.figure(figsize=(15,5))\n",
    "sns.countplot(x=df[\"date\"].dt.year,\n",
    "              ec=\"Black\",\n",
    "              palette=\"twilight\")\n",
    "plt.show()"
   ]
  },
  {
   "cell_type": "code",
   "execution_count": 358,
   "id": "4e7f6359",
   "metadata": {},
   "outputs": [
    {
     "data": {
      "image/png": "[encoded data removed]",
      "text/plain": [
       "<Figure size 1080x360 with 1 Axes>"
      ]
     },
     "metadata": {},
     "output_type": "display_data"
    }
   ],
   "source": [
    "plt.figure(figsize=(15,5))\n",
    "sns.countplot(x=df[\"date\"].dt.weekday,\n",
    "              ec=\"Black\",\n",
    "              palette=\"twilight\")\n",
    "# Monday=0 \n",
    "plt.show()"
   ]
  },
  {
   "cell_type": "code",
   "execution_count": null,
   "id": "a603249e",
   "metadata": {},
   "outputs": [],
   "source": []
  },
  {
   "cell_type": "code",
   "execution_count": 359,
   "id": "a05c4284",
   "metadata": {},
   "outputs": [
    {
     "data": {
      "image/png": "[encoded data removed]",
      "text/plain": [
       "<Figure size 1080x360 with 1 Axes>"
      ]
     },
     "metadata": {},
     "output_type": "display_data"
    }
   ],
   "source": [
    "df[\"hour\"] = df[\"hour\"].astype(int)\n",
    "\n",
    "plt.figure(figsize=(15,5))\n",
    "sns.countplot(x=df[\"hour\"],\n",
    "              palette=\"magma\")\n",
    "# Monday=0 \n",
    "plt.show()"
   ]
  },
  {
   "cell_type": "code",
   "execution_count": 360,
   "id": "3a9d6390",
   "metadata": {},
   "outputs": [
    {
     "data": {
      "image/png": "[encoded data removed]",
      "text/plain": [
       "<Figure size 936x360 with 1 Axes>"
      ]
     },
     "metadata": {},
     "output_type": "display_data"
    }
   ],
   "source": [
    "plt.figure(figsize=(13,5))\n",
    "sns.countplot(x=df[\"lighting\"],\n",
    "              order=df[\"lighting\"].value_counts().index,\n",
    "              ec=\"Black\",\n",
    "              palette=\"Blues\")\n",
    "plt.show()"
   ]
  },
  {
   "cell_type": "code",
   "execution_count": 361,
   "id": "fd7e4330",
   "metadata": {},
   "outputs": [
    {
     "data": {
      "image/png": "[encoded data removed]",
      "text/plain": [
       "<Figure size 1080x360 with 1 Axes>"
      ]
     },
     "metadata": {},
     "output_type": "display_data"
    }
   ],
   "source": [
    "plt.figure(figsize=(15,5))\n",
    "sns.countplot(x=df[\"intersection\"],\n",
    "              order=df[\"intersection\"].value_counts().index,\n",
    "              ec=\"Black\",\n",
    "              palette=\"Oranges\")\n",
    "plt.show()"
   ]
  },
  {
   "cell_type": "code",
   "execution_count": 362,
   "id": "b0b4a967",
   "metadata": {},
   "outputs": [
    {
     "data": {
      "image/png": "[encoded data removed]",
      "text/plain": [
       "<Figure size 936x360 with 1 Axes>"
      ]
     },
     "metadata": {},
     "output_type": "display_data"
    }
   ],
   "source": [
    "plt.figure(figsize=(13,5))\n",
    "sns.countplot(x=df[\"atmosphere\"],\n",
    "              order=df[\"atmosphere\"].value_counts().index,\n",
    "              ec=\"Black\",\n",
    "              palette=\"Greens\")\n",
    "plt.show()"
   ]
  },
  {
   "cell_type": "code",
   "execution_count": 363,
   "id": "6bb186aa",
   "metadata": {},
   "outputs": [
    {
     "data": {
      "image/png": "[encoded data removed]",
      "text/plain": [
       "<Figure size 1080x360 with 1 Axes>"
      ]
     },
     "metadata": {},
     "output_type": "display_data"
    }
   ],
   "source": [
    "plt.figure(figsize=(15,5))\n",
    "sns.countplot(x=df[\"collision\"],\n",
    "              order=df[\"collision\"].value_counts().index,\n",
    "              ec=\"Black\",\n",
    "              palette=\"Reds\")\n",
    "plt.show()"
   ]
  },
  {
   "cell_type": "code",
   "execution_count": 364,
   "id": "69fda01f",
   "metadata": {},
   "outputs": [
    {
     "name": "stdout",
     "output_type": "stream",
     "text": [
      "None                        140542\n",
      "AUTOROUTE A1                  2816\n",
      "AUTOROUTE A86                 2495\n",
      "A4                            2244\n",
      "A13                           2164\n",
      "AUTOROUTE A6                  1990\n",
      "AUTOROUTE A3                  1966\n",
      "RN 104                        1906\n",
      "AUTOROUTE A15                 1819\n",
      "A86                           1808\n",
      "ROCADE A 630                  1534\n",
      "A104                           805\n",
      "AUTOROUTE A6B                  802\n",
      "AUTOROUTE A6A                  729\n",
      "AUTOROUTE A104                 719\n",
      "RN104                          704\n",
      "AUTOROUTE A25                  653\n",
      "AUTOROUTE A10                  626\n",
      "A7-Sens Lyon vers Marsei       615\n",
      "RN 118                         609\n",
      "Name: postal_address, dtype: int64\n"
     ]
    }
   ],
   "source": [
    "print(df[\"postal_address\"].value_counts()[:20])"
   ]
  },
  {
   "cell_type": "code",
   "execution_count": 365,
   "id": "3857edf0",
   "metadata": {},
   "outputs": [
    {
     "data": {
      "image/png": "[encoded data removed]",
      "text/plain": [
       "<Figure size 576x360 with 1 Axes>"
      ]
     },
     "metadata": {},
     "output_type": "display_data"
    }
   ],
   "source": [
    "plt.figure(figsize=(8,5))\n",
    "sns.countplot(x=df[\"localisation\"],\n",
    "              order=df[\"localisation\"].value_counts().index,\n",
    "              ec=\"Black\")\n",
    "plt.show()"
   ]
  },
  {
   "cell_type": "code",
   "execution_count": 366,
   "id": "95d2ee16",
   "metadata": {},
   "outputs": [
    {
     "data": {
      "image/png": "[encoded data removed]",
      "text/plain": [
       "<Figure size 1080x360 with 1 Axes>"
      ]
     },
     "metadata": {},
     "output_type": "display_data"
    }
   ],
   "source": [
    "plt.figure(figsize=(15,5))\n",
    "sns.countplot(x=df[\"collision\"],\n",
    "              hue=df[\"localisation\"],\n",
    "              palette=\"magma\")\n",
    "# Monday=0 \n",
    "plt.show()"
   ]
  },
  {
   "cell_type": "code",
   "execution_count": 375,
   "id": "6c3f9242",
   "metadata": {},
   "outputs": [],
   "source": [
    "def cramers_v(x, y):\n",
    "    confusion_matrix = pd.crosstab(x,y)\n",
    "    chi2 = ss.chi2_contingency(confusion_matrix)[0]\n",
    "    n = confusion_matrix.sum().sum()\n",
    "    phi2 = chi2/n\n",
    "    r,k = confusion_matrix.shape\n",
    "    phi2corr = max(0, phi2-((k-1)*(r-1))/(n-1))\n",
    "    rcorr = r-((r-1)**2)/(n-1)\n",
    "    kcorr = k-((k-1)**2)/(n-1)\n",
    "    return np.sqrt(phi2corr/min((kcorr-1),(rcorr-1)))\n",
    "\n",
    "def theils_u(x, y):\n",
    "    s_xy = conditional_entropy(x,y)\n",
    "    x_counter = Counter(x)\n",
    "    total_occurrences = sum(x_counter.values())\n",
    "    p_x = list(map(lambda n: n/total_occurrences, x_counter.values()))\n",
    "    s_x = ss.entropy(p_x)\n",
    "    if s_x == 0:\n",
    "        return 1\n",
    "    else:\n",
    "        return (s_x - s_xy) / s_x"
   ]
  },
  {
   "cell_type": "code",
   "execution_count": 379,
   "id": "31ab678c",
   "metadata": {},
   "outputs": [
    {
     "name": "stdout",
     "output_type": "stream",
     "text": [
      "Index(['accident_ID', 'date', 'hour', 'minute', 'lighting', 'intersection',\n",
      "       'atmosphere', 'collision', 'postal_address', 'localisation'],\n",
      "      dtype='object')\n"
     ]
    }
   ],
   "source": [
    "print(df.columns)"
   ]
  },
  {
   "cell_type": "code",
   "execution_count": 381,
   "id": "6a99d960",
   "metadata": {},
   "outputs": [
    {
     "name": "stdout",
     "output_type": "stream",
     "text": [
      "lighting vs lighting: 1.0\n",
      "lighting vs intersection: 0.07788017610493851\n",
      "lighting vs atmosphere: 0.0921267438067954\n",
      "lighting vs collision: 0.07871482024247332\n",
      "intersection vs lighting: 0.0778801761049385\n",
      "intersection vs intersection: 1.0\n",
      "intersection vs atmosphere: 0.016834003208478065\n",
      "intersection vs collision: 0.14776180147351228\n",
      "atmosphere vs lighting: 0.0921267438067954\n",
      "atmosphere vs intersection: 0.016834003208478065\n",
      "atmosphere vs atmosphere: 1.0\n",
      "atmosphere vs collision: 0.032817776763648075\n",
      "collision vs lighting: 0.07871482024247332\n",
      "collision vs intersection: 0.14776180147351228\n",
      "collision vs atmosphere: 0.032817776763648075\n",
      "collision vs collision: 1.0\n"
     ]
    }
   ],
   "source": [
    "corr_dict = {}\n",
    "for column_1 in df.columns[4:8]:\n",
    "    for column_2 in df.columns[4:8]:\n",
    "        corr = cramers_v(df[column_1], df[column_2])\n",
    "        print(f\"{column_1} vs {column_2}: {corr}\")\n",
    "        corr_dict[f\"{column_1} vs {column_2}\"] = corr"
   ]
  },
  {
   "cell_type": "code",
   "execution_count": 386,
   "id": "85cb5660",
   "metadata": {},
   "outputs": [
    {
     "ename": "ValueError",
     "evalue": "If using all scalar values, you must pass an index",
     "output_type": "error",
     "traceback": [
      "\u001b[1;31m---------------------------------------------------------------------------\u001b[0m",
      "\u001b[1;31mValueError\u001b[0m                                Traceback (most recent call last)",
      "\u001b[1;32m<ipython-input-386-7408a33226a6>\u001b[0m in \u001b[0;36m<module>\u001b[1;34m\u001b[0m\n\u001b[1;32m----> 1\u001b[1;33m \u001b[0msns\u001b[0m\u001b[1;33m.\u001b[0m\u001b[0mheatmap\u001b[0m\u001b[1;33m(\u001b[0m\u001b[0mpd\u001b[0m\u001b[1;33m.\u001b[0m\u001b[0mDataFrame\u001b[0m\u001b[1;33m(\u001b[0m\u001b[0mcorr_dict\u001b[0m\u001b[1;33m)\u001b[0m\u001b[1;33m)\u001b[0m\u001b[1;33m\u001b[0m\u001b[1;33m\u001b[0m\u001b[0m\n\u001b[0m",
      "\u001b[1;32mc:\\users\\hp\\appdata\\local\\programs\\python\\python39\\lib\\site-packages\\pandas\\core\\frame.py\u001b[0m in \u001b[0;36m__init__\u001b[1;34m(self, data, index, columns, dtype, copy)\u001b[0m\n\u001b[0;32m    612\u001b[0m         \u001b[1;32melif\u001b[0m \u001b[0misinstance\u001b[0m\u001b[1;33m(\u001b[0m\u001b[0mdata\u001b[0m\u001b[1;33m,\u001b[0m \u001b[0mdict\u001b[0m\u001b[1;33m)\u001b[0m\u001b[1;33m:\u001b[0m\u001b[1;33m\u001b[0m\u001b[1;33m\u001b[0m\u001b[0m\n\u001b[0;32m    613\u001b[0m             \u001b[1;31m# GH#38939 de facto copy defaults to False only in non-dict cases\u001b[0m\u001b[1;33m\u001b[0m\u001b[1;33m\u001b[0m\u001b[1;33m\u001b[0m\u001b[0m\n\u001b[1;32m--> 614\u001b[1;33m             \u001b[0mmgr\u001b[0m \u001b[1;33m=\u001b[0m \u001b[0mdict_to_mgr\u001b[0m\u001b[1;33m(\u001b[0m\u001b[0mdata\u001b[0m\u001b[1;33m,\u001b[0m \u001b[0mindex\u001b[0m\u001b[1;33m,\u001b[0m \u001b[0mcolumns\u001b[0m\u001b[1;33m,\u001b[0m \u001b[0mdtype\u001b[0m\u001b[1;33m=\u001b[0m\u001b[0mdtype\u001b[0m\u001b[1;33m,\u001b[0m \u001b[0mcopy\u001b[0m\u001b[1;33m=\u001b[0m\u001b[0mcopy\u001b[0m\u001b[1;33m,\u001b[0m \u001b[0mtyp\u001b[0m\u001b[1;33m=\u001b[0m\u001b[0mmanager\u001b[0m\u001b[1;33m)\u001b[0m\u001b[1;33m\u001b[0m\u001b[1;33m\u001b[0m\u001b[0m\n\u001b[0m\u001b[0;32m    615\u001b[0m         \u001b[1;32melif\u001b[0m \u001b[0misinstance\u001b[0m\u001b[1;33m(\u001b[0m\u001b[0mdata\u001b[0m\u001b[1;33m,\u001b[0m \u001b[0mma\u001b[0m\u001b[1;33m.\u001b[0m\u001b[0mMaskedArray\u001b[0m\u001b[1;33m)\u001b[0m\u001b[1;33m:\u001b[0m\u001b[1;33m\u001b[0m\u001b[1;33m\u001b[0m\u001b[0m\n\u001b[0;32m    616\u001b[0m             \u001b[1;32mimport\u001b[0m \u001b[0mnumpy\u001b[0m\u001b[1;33m.\u001b[0m\u001b[0mma\u001b[0m\u001b[1;33m.\u001b[0m\u001b[0mmrecords\u001b[0m \u001b[1;32mas\u001b[0m \u001b[0mmrecords\u001b[0m\u001b[1;33m\u001b[0m\u001b[1;33m\u001b[0m\u001b[0m\n",
      "\u001b[1;32mc:\\users\\hp\\appdata\\local\\programs\\python\\python39\\lib\\site-packages\\pandas\\core\\internals\\construction.py\u001b[0m in \u001b[0;36mdict_to_mgr\u001b[1;34m(data, index, columns, dtype, typ, copy)\u001b[0m\n\u001b[0;32m    462\u001b[0m         \u001b[1;31m# TODO: can we get rid of the dt64tz special case above?\u001b[0m\u001b[1;33m\u001b[0m\u001b[1;33m\u001b[0m\u001b[1;33m\u001b[0m\u001b[0m\n\u001b[0;32m    463\u001b[0m \u001b[1;33m\u001b[0m\u001b[0m\n\u001b[1;32m--> 464\u001b[1;33m     return arrays_to_mgr(\n\u001b[0m\u001b[0;32m    465\u001b[0m         \u001b[0marrays\u001b[0m\u001b[1;33m,\u001b[0m \u001b[0mdata_names\u001b[0m\u001b[1;33m,\u001b[0m \u001b[0mindex\u001b[0m\u001b[1;33m,\u001b[0m \u001b[0mcolumns\u001b[0m\u001b[1;33m,\u001b[0m \u001b[0mdtype\u001b[0m\u001b[1;33m=\u001b[0m\u001b[0mdtype\u001b[0m\u001b[1;33m,\u001b[0m \u001b[0mtyp\u001b[0m\u001b[1;33m=\u001b[0m\u001b[0mtyp\u001b[0m\u001b[1;33m,\u001b[0m \u001b[0mconsolidate\u001b[0m\u001b[1;33m=\u001b[0m\u001b[0mcopy\u001b[0m\u001b[1;33m\u001b[0m\u001b[1;33m\u001b[0m\u001b[0m\n\u001b[0;32m    466\u001b[0m     )\n",
      "\u001b[1;32mc:\\users\\hp\\appdata\\local\\programs\\python\\python39\\lib\\site-packages\\pandas\\core\\internals\\construction.py\u001b[0m in \u001b[0;36marrays_to_mgr\u001b[1;34m(arrays, arr_names, index, columns, dtype, verify_integrity, typ, consolidate)\u001b[0m\n\u001b[0;32m    117\u001b[0m         \u001b[1;31m# figure out the index, if necessary\u001b[0m\u001b[1;33m\u001b[0m\u001b[1;33m\u001b[0m\u001b[1;33m\u001b[0m\u001b[0m\n\u001b[0;32m    118\u001b[0m         \u001b[1;32mif\u001b[0m \u001b[0mindex\u001b[0m \u001b[1;32mis\u001b[0m \u001b[1;32mNone\u001b[0m\u001b[1;33m:\u001b[0m\u001b[1;33m\u001b[0m\u001b[1;33m\u001b[0m\u001b[0m\n\u001b[1;32m--> 119\u001b[1;33m             \u001b[0mindex\u001b[0m \u001b[1;33m=\u001b[0m \u001b[0m_extract_index\u001b[0m\u001b[1;33m(\u001b[0m\u001b[0marrays\u001b[0m\u001b[1;33m)\u001b[0m\u001b[1;33m\u001b[0m\u001b[1;33m\u001b[0m\u001b[0m\n\u001b[0m\u001b[0;32m    120\u001b[0m         \u001b[1;32melse\u001b[0m\u001b[1;33m:\u001b[0m\u001b[1;33m\u001b[0m\u001b[1;33m\u001b[0m\u001b[0m\n\u001b[0;32m    121\u001b[0m             \u001b[0mindex\u001b[0m \u001b[1;33m=\u001b[0m \u001b[0mensure_index\u001b[0m\u001b[1;33m(\u001b[0m\u001b[0mindex\u001b[0m\u001b[1;33m)\u001b[0m\u001b[1;33m\u001b[0m\u001b[1;33m\u001b[0m\u001b[0m\n",
      "\u001b[1;32mc:\\users\\hp\\appdata\\local\\programs\\python\\python39\\lib\\site-packages\\pandas\\core\\internals\\construction.py\u001b[0m in \u001b[0;36m_extract_index\u001b[1;34m(data)\u001b[0m\n\u001b[0;32m    623\u001b[0m \u001b[1;33m\u001b[0m\u001b[0m\n\u001b[0;32m    624\u001b[0m         \u001b[1;32mif\u001b[0m \u001b[1;32mnot\u001b[0m \u001b[0mindexes\u001b[0m \u001b[1;32mand\u001b[0m \u001b[1;32mnot\u001b[0m \u001b[0mraw_lengths\u001b[0m\u001b[1;33m:\u001b[0m\u001b[1;33m\u001b[0m\u001b[1;33m\u001b[0m\u001b[0m\n\u001b[1;32m--> 625\u001b[1;33m             \u001b[1;32mraise\u001b[0m \u001b[0mValueError\u001b[0m\u001b[1;33m(\u001b[0m\u001b[1;34m\"If using all scalar values, you must pass an index\"\u001b[0m\u001b[1;33m)\u001b[0m\u001b[1;33m\u001b[0m\u001b[1;33m\u001b[0m\u001b[0m\n\u001b[0m\u001b[0;32m    626\u001b[0m \u001b[1;33m\u001b[0m\u001b[0m\n\u001b[0;32m    627\u001b[0m         \u001b[1;32mif\u001b[0m \u001b[0mhave_series\u001b[0m\u001b[1;33m:\u001b[0m\u001b[1;33m\u001b[0m\u001b[1;33m\u001b[0m\u001b[0m\n",
      "\u001b[1;31mValueError\u001b[0m: If using all scalar values, you must pass an index"
     ]
    }
   ],
   "source": [
    "sns.heatmap(pd.DataFrame(corr_dict))"
   ]
  }
 ],
 "metadata": {
  "kernelspec": {
   "display_name": "Python 3",
   "language": "python",
   "name": "python3"
  },
  "language_info": {
   "codemirror_mode": {
    "name": "ipython",
    "version": 3
   },
   "file_extension": ".py",
   "mimetype": "text/x-python",
   "name": "python",
   "nbconvert_exporter": "python",
   "pygments_lexer": "ipython3",
   "version": "3.9.1"
  }
 },
 "nbformat": 4,
 "nbformat_minor": 5
}
