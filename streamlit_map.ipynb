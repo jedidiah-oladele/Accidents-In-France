{
 "cells": [
  {
   "cell_type": "code",
   "execution_count": 11,
   "id": "e0115a07-51ee-419f-88b2-b64ba38e970a",
   "metadata": {},
   "outputs": [],
   "source": [
    "import pandas as pd\n",
    "import warnings\n",
    "warnings.filterwarnings('ignore')"
   ]
  },
  {
   "cell_type": "code",
   "execution_count": 31,
   "id": "ad80c9af-8f34-416e-bfb9-3ac48ce0e314",
   "metadata": {
    "tags": []
   },
   "outputs": [],
   "source": [
    "charac_df = pd.read_csv(\"archive/caracteristics.csv\", encoding='ISO-8859-1')"
   ]
  },
  {
   "cell_type": "code",
   "execution_count": 36,
   "id": "81536132-2d87-4963-8c2f-2ac21b6430e6",
   "metadata": {},
   "outputs": [],
   "source": [
    "st_df = charac_df[[\"lat\", \"long\"]]\n",
    "st_df.rename(columns={'long':'lon'}, inplace=True)"
   ]
  },
  {
   "cell_type": "code",
   "execution_count": 37,
   "id": "80effb9f-dfd3-4e14-adbb-f8c4a8048fbe",
   "metadata": {},
   "outputs": [],
   "source": [
    "st_df.fillna(0)\n",
    "st_df.drop(st_df[(st_df['lat']==0) & (st_df['lon']==0)].index, inplace=True)\n",
    "st_df.drop(st_df[st_df['lon'] == '-'].index, inplace=True)"
   ]
  },
  {
   "cell_type": "code",
   "execution_count": 38,
   "id": "11028378-eb28-4668-ad03-9f1d540cf48c",
   "metadata": {},
   "outputs": [],
   "source": [
    "st_df['lat'] = st_df['lat'].astype(float)\n",
    "st_df['lon'] = st_df['lon'].astype(float)"
   ]
  },
  {
   "cell_type": "code",
   "execution_count": 39,
   "id": "daf29f9c-b18c-4207-afea-df626ce44ff7",
   "metadata": {},
   "outputs": [
    {
     "data": {
      "text/html": [
       "<div>\n",
       "<style scoped>\n",
       "    .dataframe tbody tr th:only-of-type {\n",
       "        vertical-align: middle;\n",
       "    }\n",
       "\n",
       "    .dataframe tbody tr th {\n",
       "        vertical-align: top;\n",
       "    }\n",
       "\n",
       "    .dataframe thead th {\n",
       "        text-align: right;\n",
       "    }\n",
       "</style>\n",
       "<table border=\"1\" class=\"dataframe\">\n",
       "  <thead>\n",
       "    <tr style=\"text-align: right;\">\n",
       "      <th></th>\n",
       "      <th>lat</th>\n",
       "      <th>lon</th>\n",
       "    </tr>\n",
       "  </thead>\n",
       "  <tbody>\n",
       "    <tr>\n",
       "      <th>21</th>\n",
       "      <td>5084579.0</td>\n",
       "      <td>226407.0</td>\n",
       "    </tr>\n",
       "    <tr>\n",
       "      <th>50</th>\n",
       "      <td>5068000.0</td>\n",
       "      <td>279300.0</td>\n",
       "    </tr>\n",
       "    <tr>\n",
       "      <th>51</th>\n",
       "      <td>5064100.0</td>\n",
       "      <td>271200.0</td>\n",
       "    </tr>\n",
       "    <tr>\n",
       "      <th>55</th>\n",
       "      <td>5070800.0</td>\n",
       "      <td>276500.0</td>\n",
       "    </tr>\n",
       "    <tr>\n",
       "      <th>57</th>\n",
       "      <td>5070266.0</td>\n",
       "      <td>262094.0</td>\n",
       "    </tr>\n",
       "  </tbody>\n",
       "</table>\n",
       "</div>"
      ],
      "text/plain": [
       "          lat       lon\n",
       "21  5084579.0  226407.0\n",
       "50  5068000.0  279300.0\n",
       "51  5064100.0  271200.0\n",
       "55  5070800.0  276500.0\n",
       "57  5070266.0  262094.0"
      ]
     },
     "execution_count": 39,
     "metadata": {},
     "output_type": "execute_result"
    }
   ],
   "source": [
    "st_df.head()"
   ]
  },
  {
   "cell_type": "code",
   "execution_count": 40,
   "id": "ec989a88-8c12-4747-8351-36e20bee7b85",
   "metadata": {},
   "outputs": [],
   "source": [
    "st_df.to_csv(\"streamlit_map_data.csv\", index=False)"
   ]
  }
 ],
 "metadata": {
  "kernelspec": {
   "display_name": "Python 3",
   "language": "python",
   "name": "python3"
  },
  "language_info": {
   "codemirror_mode": {
    "name": "ipython",
    "version": 3
   },
   "file_extension": ".py",
   "mimetype": "text/x-python",
   "name": "python",
   "nbconvert_exporter": "python",
   "pygments_lexer": "ipython3",
   "version": "3.9.1"
  }
 },
 "nbformat": 4,
 "nbformat_minor": 5
}
