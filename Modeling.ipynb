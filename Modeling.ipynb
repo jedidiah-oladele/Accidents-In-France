{
  "cells": [
    {
      "cell_type": "markdown",
      "metadata": {
        "id": "bLoGf73HXNoo"
      },
      "source": [
        "### Imports"
      ]
    },
    {
      "cell_type": "code",
      "execution_count": 20,
      "metadata": {
        "id": "q1eW3T00urN0"
      },
      "outputs": [],
      "source": [
        "import pandas as pd\n",
        "import numpy as np\n",
        "\n",
        "from sklearn.preprocessing import LabelEncoder, StandardScaler\n",
        "from sklearn.model_selection import train_test_split, RandomizedSearchCV\n",
        "from sklearn.metrics import accuracy_score, f1_score, classification_report\n",
        "\n",
        "from sklearn.linear_model import LogisticRegression\n",
        "from sklearn.tree import DecisionTreeClassifier\n",
        "from sklearn.svm import SVC\n",
        "from sklearn.neighbors import KNeighborsClassifier\n",
        "from sklearn.ensemble import RandomForestClassifier\n",
        "from sklearn.ensemble import GradientBoostingClassifier\n",
        "from sklearn.ensemble import AdaBoostClassifier\n",
        "from xgboost import XGBClassifier\n",
        "from lightgbm import LGBMClassifier\n",
        "from sklearn.ensemble import VotingClassifier\n",
        "\n",
        "from imblearn.over_sampling import SMOTE\n",
        "import pickle\n",
        "\n",
        "import warnings \n",
        "warnings.filterwarnings('ignore')\n",
        "\n",
        "# Random seed\n",
        "np.random.seed(42)"
      ]
    },
    {
      "cell_type": "code",
      "source": [
        "!unzip datasets.zip"
      ],
      "metadata": {
        "colab": {
          "base_uri": "https://localhost:8080/"
        },
        "id": "kA00ODxl1ypT",
        "outputId": "341f270f-b0bc-405a-ce39-2835601fd1eb"
      },
      "execution_count": 2,
      "outputs": [
        {
          "output_type": "stream",
          "name": "stdout",
          "text": [
            "Archive:  datasets.zip\n",
            "  inflating: model_dataset.csv       \n",
            "  inflating: resampled_df.csv        \n"
          ]
        }
      ]
    },
    {
      "cell_type": "code",
      "execution_count": 3,
      "metadata": {
        "colab": {
          "base_uri": "https://localhost:8080/",
          "height": 357
        },
        "id": "58LebaejvR-S",
        "outputId": "15c7cbf6-0794-4a4a-8f3b-f7ce17765046"
      },
      "outputs": [
        {
          "output_type": "execute_result",
          "data": {
            "text/plain": [
              "      accident_severity  hour          lighting         intersection  \\\n",
              "0  Hospitalized wounded    14          Full day  Out of intersection   \n",
              "1  Hospitalized wounded    18          Full day      In intersection   \n",
              "2  Hospitalized wounded    19          Full day  Out of intersection   \n",
              "3  Hospitalized wounded    19  Twilight or dawn  Out of intersection   \n",
              "4  Hospitalized wounded    11          Full day      In intersection   \n",
              "\n",
              "         atmosphere    collision          localisation user_category user_sex  \\\n",
              "0    Cloudy weather  By the side     In built-up areas        Driver     Male   \n",
              "1            Normal        Other     In built-up areas     Passenger   Female   \n",
              "2            Normal        Other  Out of agglomeration    Pedestrian     Male   \n",
              "3  Dazzling weather  By the side     In built-up areas        Driver     Male   \n",
              "4            Normal  By the side     In built-up areas     Passenger   Female   \n",
              "\n",
              "                   pedestrian_action      road_category   traff_regime  \\\n",
              "0                      not specified  Departmental Road  Bidirectional   \n",
              "1                      not specified  Departmental Road        One way   \n",
              "2  Opposite direction of the vehicle  Departmental Road  Bidirectional   \n",
              "3                      not specified       Communal Way  Bidirectional   \n",
              "4                      not specified       Communal Way  Bidirectional   \n",
              "\n",
              "  longitud_profile   drawing_plan surface_cond acc_situation  \n",
              "0             Dish   Curved right       normal   On the road  \n",
              "1             Dish    Curved left       normal   On the road  \n",
              "2             Dish   Curved right   not normal  Off the road  \n",
              "3             Dish  Straight part       normal   On the road  \n",
              "4             Dish  Straight part       normal   On the road  "
            ],
            "text/html": [
              "\n",
              "  <div id=\"df-21037502-f900-4d33-9e6f-b8d52b09a81e\">\n",
              "    <div class=\"colab-df-container\">\n",
              "      <div>\n",
              "<style scoped>\n",
              "    .dataframe tbody tr th:only-of-type {\n",
              "        vertical-align: middle;\n",
              "    }\n",
              "\n",
              "    .dataframe tbody tr th {\n",
              "        vertical-align: top;\n",
              "    }\n",
              "\n",
              "    .dataframe thead th {\n",
              "        text-align: right;\n",
              "    }\n",
              "</style>\n",
              "<table border=\"1\" class=\"dataframe\">\n",
              "  <thead>\n",
              "    <tr style=\"text-align: right;\">\n",
              "      <th></th>\n",
              "      <th>accident_severity</th>\n",
              "      <th>hour</th>\n",
              "      <th>lighting</th>\n",
              "      <th>intersection</th>\n",
              "      <th>atmosphere</th>\n",
              "      <th>collision</th>\n",
              "      <th>localisation</th>\n",
              "      <th>user_category</th>\n",
              "      <th>user_sex</th>\n",
              "      <th>pedestrian_action</th>\n",
              "      <th>road_category</th>\n",
              "      <th>traff_regime</th>\n",
              "      <th>longitud_profile</th>\n",
              "      <th>drawing_plan</th>\n",
              "      <th>surface_cond</th>\n",
              "      <th>acc_situation</th>\n",
              "    </tr>\n",
              "  </thead>\n",
              "  <tbody>\n",
              "    <tr>\n",
              "      <th>0</th>\n",
              "      <td>Hospitalized wounded</td>\n",
              "      <td>14</td>\n",
              "      <td>Full day</td>\n",
              "      <td>Out of intersection</td>\n",
              "      <td>Cloudy weather</td>\n",
              "      <td>By the side</td>\n",
              "      <td>In built-up areas</td>\n",
              "      <td>Driver</td>\n",
              "      <td>Male</td>\n",
              "      <td>not specified</td>\n",
              "      <td>Departmental Road</td>\n",
              "      <td>Bidirectional</td>\n",
              "      <td>Dish</td>\n",
              "      <td>Curved right</td>\n",
              "      <td>normal</td>\n",
              "      <td>On the road</td>\n",
              "    </tr>\n",
              "    <tr>\n",
              "      <th>1</th>\n",
              "      <td>Hospitalized wounded</td>\n",
              "      <td>18</td>\n",
              "      <td>Full day</td>\n",
              "      <td>In intersection</td>\n",
              "      <td>Normal</td>\n",
              "      <td>Other</td>\n",
              "      <td>In built-up areas</td>\n",
              "      <td>Passenger</td>\n",
              "      <td>Female</td>\n",
              "      <td>not specified</td>\n",
              "      <td>Departmental Road</td>\n",
              "      <td>One way</td>\n",
              "      <td>Dish</td>\n",
              "      <td>Curved left</td>\n",
              "      <td>normal</td>\n",
              "      <td>On the road</td>\n",
              "    </tr>\n",
              "    <tr>\n",
              "      <th>2</th>\n",
              "      <td>Hospitalized wounded</td>\n",
              "      <td>19</td>\n",
              "      <td>Full day</td>\n",
              "      <td>Out of intersection</td>\n",
              "      <td>Normal</td>\n",
              "      <td>Other</td>\n",
              "      <td>Out of agglomeration</td>\n",
              "      <td>Pedestrian</td>\n",
              "      <td>Male</td>\n",
              "      <td>Opposite direction of the vehicle</td>\n",
              "      <td>Departmental Road</td>\n",
              "      <td>Bidirectional</td>\n",
              "      <td>Dish</td>\n",
              "      <td>Curved right</td>\n",
              "      <td>not normal</td>\n",
              "      <td>Off the road</td>\n",
              "    </tr>\n",
              "    <tr>\n",
              "      <th>3</th>\n",
              "      <td>Hospitalized wounded</td>\n",
              "      <td>19</td>\n",
              "      <td>Twilight or dawn</td>\n",
              "      <td>Out of intersection</td>\n",
              "      <td>Dazzling weather</td>\n",
              "      <td>By the side</td>\n",
              "      <td>In built-up areas</td>\n",
              "      <td>Driver</td>\n",
              "      <td>Male</td>\n",
              "      <td>not specified</td>\n",
              "      <td>Communal Way</td>\n",
              "      <td>Bidirectional</td>\n",
              "      <td>Dish</td>\n",
              "      <td>Straight part</td>\n",
              "      <td>normal</td>\n",
              "      <td>On the road</td>\n",
              "    </tr>\n",
              "    <tr>\n",
              "      <th>4</th>\n",
              "      <td>Hospitalized wounded</td>\n",
              "      <td>11</td>\n",
              "      <td>Full day</td>\n",
              "      <td>In intersection</td>\n",
              "      <td>Normal</td>\n",
              "      <td>By the side</td>\n",
              "      <td>In built-up areas</td>\n",
              "      <td>Passenger</td>\n",
              "      <td>Female</td>\n",
              "      <td>not specified</td>\n",
              "      <td>Communal Way</td>\n",
              "      <td>Bidirectional</td>\n",
              "      <td>Dish</td>\n",
              "      <td>Straight part</td>\n",
              "      <td>normal</td>\n",
              "      <td>On the road</td>\n",
              "    </tr>\n",
              "  </tbody>\n",
              "</table>\n",
              "</div>\n",
              "      <button class=\"colab-df-convert\" onclick=\"convertToInteractive('df-21037502-f900-4d33-9e6f-b8d52b09a81e')\"\n",
              "              title=\"Convert this dataframe to an interactive table.\"\n",
              "              style=\"display:none;\">\n",
              "        \n",
              "  <svg xmlns=\"http://www.w3.org/2000/svg\" height=\"24px\"viewBox=\"0 0 24 24\"\n",
              "       width=\"24px\">\n",
              "    <path d=\"M0 0h24v24H0V0z\" fill=\"none\"/>\n",
              "    <path d=\"M18.56 5.44l.94 2.06.94-2.06 2.06-.94-2.06-.94-.94-2.06-.94 2.06-2.06.94zm-11 1L8.5 8.5l.94-2.06 2.06-.94-2.06-.94L8.5 2.5l-.94 2.06-2.06.94zm10 10l.94 2.06.94-2.06 2.06-.94-2.06-.94-.94-2.06-.94 2.06-2.06.94z\"/><path d=\"M17.41 7.96l-1.37-1.37c-.4-.4-.92-.59-1.43-.59-.52 0-1.04.2-1.43.59L10.3 9.45l-7.72 7.72c-.78.78-.78 2.05 0 2.83L4 21.41c.39.39.9.59 1.41.59.51 0 1.02-.2 1.41-.59l7.78-7.78 2.81-2.81c.8-.78.8-2.07 0-2.86zM5.41 20L4 18.59l7.72-7.72 1.47 1.35L5.41 20z\"/>\n",
              "  </svg>\n",
              "      </button>\n",
              "      \n",
              "  <style>\n",
              "    .colab-df-container {\n",
              "      display:flex;\n",
              "      flex-wrap:wrap;\n",
              "      gap: 12px;\n",
              "    }\n",
              "\n",
              "    .colab-df-convert {\n",
              "      background-color: #E8F0FE;\n",
              "      border: none;\n",
              "      border-radius: 50%;\n",
              "      cursor: pointer;\n",
              "      display: none;\n",
              "      fill: #1967D2;\n",
              "      height: 32px;\n",
              "      padding: 0 0 0 0;\n",
              "      width: 32px;\n",
              "    }\n",
              "\n",
              "    .colab-df-convert:hover {\n",
              "      background-color: #E2EBFA;\n",
              "      box-shadow: 0px 1px 2px rgba(60, 64, 67, 0.3), 0px 1px 3px 1px rgba(60, 64, 67, 0.15);\n",
              "      fill: #174EA6;\n",
              "    }\n",
              "\n",
              "    [theme=dark] .colab-df-convert {\n",
              "      background-color: #3B4455;\n",
              "      fill: #D2E3FC;\n",
              "    }\n",
              "\n",
              "    [theme=dark] .colab-df-convert:hover {\n",
              "      background-color: #434B5C;\n",
              "      box-shadow: 0px 1px 3px 1px rgba(0, 0, 0, 0.15);\n",
              "      filter: drop-shadow(0px 1px 2px rgba(0, 0, 0, 0.3));\n",
              "      fill: #FFFFFF;\n",
              "    }\n",
              "  </style>\n",
              "\n",
              "      <script>\n",
              "        const buttonEl =\n",
              "          document.querySelector('#df-21037502-f900-4d33-9e6f-b8d52b09a81e button.colab-df-convert');\n",
              "        buttonEl.style.display =\n",
              "          google.colab.kernel.accessAllowed ? 'block' : 'none';\n",
              "\n",
              "        async function convertToInteractive(key) {\n",
              "          const element = document.querySelector('#df-21037502-f900-4d33-9e6f-b8d52b09a81e');\n",
              "          const dataTable =\n",
              "            await google.colab.kernel.invokeFunction('convertToInteractive',\n",
              "                                                     [key], {});\n",
              "          if (!dataTable) return;\n",
              "\n",
              "          const docLinkHtml = 'Like what you see? Visit the ' +\n",
              "            '<a target=\"_blank\" href=https://colab.research.google.com/notebooks/data_table.ipynb>data table notebook</a>'\n",
              "            + ' to learn more about interactive tables.';\n",
              "          element.innerHTML = '';\n",
              "          dataTable['output_type'] = 'display_data';\n",
              "          await google.colab.output.renderOutput(dataTable, element);\n",
              "          const docLink = document.createElement('div');\n",
              "          docLink.innerHTML = docLinkHtml;\n",
              "          element.appendChild(docLink);\n",
              "        }\n",
              "      </script>\n",
              "    </div>\n",
              "  </div>\n",
              "  "
            ]
          },
          "metadata": {},
          "execution_count": 3
        }
      ],
      "source": [
        "df = pd.read_csv('model_dataset.csv')\n",
        "\n",
        "# We move the target variable to the front, for simplicity\n",
        "df.insert(0, \"accident_severity\", df.pop(\"accident_severity\"))\n",
        "\n",
        "df.head()"
      ]
    },
    {
      "cell_type": "markdown",
      "metadata": {
        "id": "xkiSIdq9XNo2"
      },
      "source": [
        "### Encoding the features\n",
        "Ideally we would use an nomical encoding technique like one-hot encoding, to avoid misleading our model. But given the amount of features and unique values, one-hot encoding might be more detrimental than beneficial, in terms of memory and computional power consumption "
      ]
    },
    {
      "cell_type": "code",
      "execution_count": null,
      "metadata": {
        "colab": {
          "base_uri": "https://localhost:8080/",
          "height": 270
        },
        "id": "2562UMXRcJpt",
        "outputId": "4e1d0400-1c1c-42ae-cdab-9065a032d259"
      },
      "outputs": [
        {
          "output_type": "execute_result",
          "data": {
            "text/plain": [
              "   accident_severity  hour  lighting  intersection  atmosphere  collision  \\\n",
              "0                  0    14         0             1           0          0   \n",
              "1                  0    18         0             0           5          4   \n",
              "2                  0    19         0             1           5          4   \n",
              "3                  0    19         4             1           1          0   \n",
              "4                  0    11         0             0           5          0   \n",
              "\n",
              "   localisation  user_category  user_sex  pedestrian_action  road_category  \\\n",
              "0             0              0         1                  7              1   \n",
              "1             0              1         0                  7              1   \n",
              "2             1              2         1                  3              1   \n",
              "3             0              0         1                  7              0   \n",
              "4             0              1         0                  7              0   \n",
              "\n",
              "   traff_regime  longitud_profile  drawing_plan  surface_cond  acc_situation  \n",
              "0             0                 0             1             0              1  \n",
              "1             1                 0             0             0              1  \n",
              "2             0                 0             1             1              0  \n",
              "3             0                 0             3             0              1  \n",
              "4             0                 0             3             0              1  "
            ],
            "text/html": [
              "\n",
              "  <div id=\"df-c67c1c4c-fb2b-4780-b748-e0bffc642cd4\">\n",
              "    <div class=\"colab-df-container\">\n",
              "      <div>\n",
              "<style scoped>\n",
              "    .dataframe tbody tr th:only-of-type {\n",
              "        vertical-align: middle;\n",
              "    }\n",
              "\n",
              "    .dataframe tbody tr th {\n",
              "        vertical-align: top;\n",
              "    }\n",
              "\n",
              "    .dataframe thead th {\n",
              "        text-align: right;\n",
              "    }\n",
              "</style>\n",
              "<table border=\"1\" class=\"dataframe\">\n",
              "  <thead>\n",
              "    <tr style=\"text-align: right;\">\n",
              "      <th></th>\n",
              "      <th>accident_severity</th>\n",
              "      <th>hour</th>\n",
              "      <th>lighting</th>\n",
              "      <th>intersection</th>\n",
              "      <th>atmosphere</th>\n",
              "      <th>collision</th>\n",
              "      <th>localisation</th>\n",
              "      <th>user_category</th>\n",
              "      <th>user_sex</th>\n",
              "      <th>pedestrian_action</th>\n",
              "      <th>road_category</th>\n",
              "      <th>traff_regime</th>\n",
              "      <th>longitud_profile</th>\n",
              "      <th>drawing_plan</th>\n",
              "      <th>surface_cond</th>\n",
              "      <th>acc_situation</th>\n",
              "    </tr>\n",
              "  </thead>\n",
              "  <tbody>\n",
              "    <tr>\n",
              "      <th>0</th>\n",
              "      <td>0</td>\n",
              "      <td>14</td>\n",
              "      <td>0</td>\n",
              "      <td>1</td>\n",
              "      <td>0</td>\n",
              "      <td>0</td>\n",
              "      <td>0</td>\n",
              "      <td>0</td>\n",
              "      <td>1</td>\n",
              "      <td>7</td>\n",
              "      <td>1</td>\n",
              "      <td>0</td>\n",
              "      <td>0</td>\n",
              "      <td>1</td>\n",
              "      <td>0</td>\n",
              "      <td>1</td>\n",
              "    </tr>\n",
              "    <tr>\n",
              "      <th>1</th>\n",
              "      <td>0</td>\n",
              "      <td>18</td>\n",
              "      <td>0</td>\n",
              "      <td>0</td>\n",
              "      <td>5</td>\n",
              "      <td>4</td>\n",
              "      <td>0</td>\n",
              "      <td>1</td>\n",
              "      <td>0</td>\n",
              "      <td>7</td>\n",
              "      <td>1</td>\n",
              "      <td>1</td>\n",
              "      <td>0</td>\n",
              "      <td>0</td>\n",
              "      <td>0</td>\n",
              "      <td>1</td>\n",
              "    </tr>\n",
              "    <tr>\n",
              "      <th>2</th>\n",
              "      <td>0</td>\n",
              "      <td>19</td>\n",
              "      <td>0</td>\n",
              "      <td>1</td>\n",
              "      <td>5</td>\n",
              "      <td>4</td>\n",
              "      <td>1</td>\n",
              "      <td>2</td>\n",
              "      <td>1</td>\n",
              "      <td>3</td>\n",
              "      <td>1</td>\n",
              "      <td>0</td>\n",
              "      <td>0</td>\n",
              "      <td>1</td>\n",
              "      <td>1</td>\n",
              "      <td>0</td>\n",
              "    </tr>\n",
              "    <tr>\n",
              "      <th>3</th>\n",
              "      <td>0</td>\n",
              "      <td>19</td>\n",
              "      <td>4</td>\n",
              "      <td>1</td>\n",
              "      <td>1</td>\n",
              "      <td>0</td>\n",
              "      <td>0</td>\n",
              "      <td>0</td>\n",
              "      <td>1</td>\n",
              "      <td>7</td>\n",
              "      <td>0</td>\n",
              "      <td>0</td>\n",
              "      <td>0</td>\n",
              "      <td>3</td>\n",
              "      <td>0</td>\n",
              "      <td>1</td>\n",
              "    </tr>\n",
              "    <tr>\n",
              "      <th>4</th>\n",
              "      <td>0</td>\n",
              "      <td>11</td>\n",
              "      <td>0</td>\n",
              "      <td>0</td>\n",
              "      <td>5</td>\n",
              "      <td>0</td>\n",
              "      <td>0</td>\n",
              "      <td>1</td>\n",
              "      <td>0</td>\n",
              "      <td>7</td>\n",
              "      <td>0</td>\n",
              "      <td>0</td>\n",
              "      <td>0</td>\n",
              "      <td>3</td>\n",
              "      <td>0</td>\n",
              "      <td>1</td>\n",
              "    </tr>\n",
              "  </tbody>\n",
              "</table>\n",
              "</div>\n",
              "      <button class=\"colab-df-convert\" onclick=\"convertToInteractive('df-c67c1c4c-fb2b-4780-b748-e0bffc642cd4')\"\n",
              "              title=\"Convert this dataframe to an interactive table.\"\n",
              "              style=\"display:none;\">\n",
              "        \n",
              "  <svg xmlns=\"http://www.w3.org/2000/svg\" height=\"24px\"viewBox=\"0 0 24 24\"\n",
              "       width=\"24px\">\n",
              "    <path d=\"M0 0h24v24H0V0z\" fill=\"none\"/>\n",
              "    <path d=\"M18.56 5.44l.94 2.06.94-2.06 2.06-.94-2.06-.94-.94-2.06-.94 2.06-2.06.94zm-11 1L8.5 8.5l.94-2.06 2.06-.94-2.06-.94L8.5 2.5l-.94 2.06-2.06.94zm10 10l.94 2.06.94-2.06 2.06-.94-2.06-.94-.94-2.06-.94 2.06-2.06.94z\"/><path d=\"M17.41 7.96l-1.37-1.37c-.4-.4-.92-.59-1.43-.59-.52 0-1.04.2-1.43.59L10.3 9.45l-7.72 7.72c-.78.78-.78 2.05 0 2.83L4 21.41c.39.39.9.59 1.41.59.51 0 1.02-.2 1.41-.59l7.78-7.78 2.81-2.81c.8-.78.8-2.07 0-2.86zM5.41 20L4 18.59l7.72-7.72 1.47 1.35L5.41 20z\"/>\n",
              "  </svg>\n",
              "      </button>\n",
              "      \n",
              "  <style>\n",
              "    .colab-df-container {\n",
              "      display:flex;\n",
              "      flex-wrap:wrap;\n",
              "      gap: 12px;\n",
              "    }\n",
              "\n",
              "    .colab-df-convert {\n",
              "      background-color: #E8F0FE;\n",
              "      border: none;\n",
              "      border-radius: 50%;\n",
              "      cursor: pointer;\n",
              "      display: none;\n",
              "      fill: #1967D2;\n",
              "      height: 32px;\n",
              "      padding: 0 0 0 0;\n",
              "      width: 32px;\n",
              "    }\n",
              "\n",
              "    .colab-df-convert:hover {\n",
              "      background-color: #E2EBFA;\n",
              "      box-shadow: 0px 1px 2px rgba(60, 64, 67, 0.3), 0px 1px 3px 1px rgba(60, 64, 67, 0.15);\n",
              "      fill: #174EA6;\n",
              "    }\n",
              "\n",
              "    [theme=dark] .colab-df-convert {\n",
              "      background-color: #3B4455;\n",
              "      fill: #D2E3FC;\n",
              "    }\n",
              "\n",
              "    [theme=dark] .colab-df-convert:hover {\n",
              "      background-color: #434B5C;\n",
              "      box-shadow: 0px 1px 3px 1px rgba(0, 0, 0, 0.15);\n",
              "      filter: drop-shadow(0px 1px 2px rgba(0, 0, 0, 0.3));\n",
              "      fill: #FFFFFF;\n",
              "    }\n",
              "  </style>\n",
              "\n",
              "      <script>\n",
              "        const buttonEl =\n",
              "          document.querySelector('#df-c67c1c4c-fb2b-4780-b748-e0bffc642cd4 button.colab-df-convert');\n",
              "        buttonEl.style.display =\n",
              "          google.colab.kernel.accessAllowed ? 'block' : 'none';\n",
              "\n",
              "        async function convertToInteractive(key) {\n",
              "          const element = document.querySelector('#df-c67c1c4c-fb2b-4780-b748-e0bffc642cd4');\n",
              "          const dataTable =\n",
              "            await google.colab.kernel.invokeFunction('convertToInteractive',\n",
              "                                                     [key], {});\n",
              "          if (!dataTable) return;\n",
              "\n",
              "          const docLinkHtml = 'Like what you see? Visit the ' +\n",
              "            '<a target=\"_blank\" href=https://colab.research.google.com/notebooks/data_table.ipynb>data table notebook</a>'\n",
              "            + ' to learn more about interactive tables.';\n",
              "          element.innerHTML = '';\n",
              "          dataTable['output_type'] = 'display_data';\n",
              "          await google.colab.output.renderOutput(dataTable, element);\n",
              "          const docLink = document.createElement('div');\n",
              "          docLink.innerHTML = docLinkHtml;\n",
              "          element.appendChild(docLink);\n",
              "        }\n",
              "      </script>\n",
              "    </div>\n",
              "  </div>\n",
              "  "
            ]
          },
          "metadata": {},
          "execution_count": 10
        }
      ],
      "source": [
        "le = LabelEncoder()\n",
        "\n",
        "for column in df.columns:\n",
        "    df[column] = le.fit_transform(df[column])\n",
        "    \n",
        "df.head()"
      ]
    },
    {
      "cell_type": "markdown",
      "metadata": {
        "id": "5aVG64PPXNo6"
      },
      "source": [
        "### Scaling and Train Test split"
      ]
    },
    {
      "cell_type": "code",
      "execution_count": null,
      "metadata": {
        "colab": {
          "base_uri": "https://localhost:8080/",
          "height": 270
        },
        "id": "ZERQhq17XNo7",
        "outputId": "190ab59c-a321-4974-b52e-59fd4d291e37"
      },
      "outputs": [
        {
          "output_type": "execute_result",
          "data": {
            "text/plain": [
              "       hour  lighting  intersection  atmosphere  collision  localisation  \\\n",
              "0  0.092066 -0.633540      0.636007   -4.362589  -1.374964     -0.463834   \n",
              "1  0.830415 -0.633540     -1.572309    0.331258   0.531740     -0.463834   \n",
              "2  1.015003 -0.633540      0.636007    0.331258   0.531740      2.155946   \n",
              "3  1.015003  2.439367      0.636007   -3.423820  -1.374964     -0.463834   \n",
              "4 -0.461696 -0.633540     -1.572309    0.331258  -1.374964     -0.463834   \n",
              "\n",
              "   user_category  user_sex  pedestrian_action  road_category  traff_regime  \\\n",
              "0      -0.618895  0.713196           0.436570       0.290857     -0.620199   \n",
              "1       0.645396 -1.402140           0.436570       0.290857      0.742234   \n",
              "2       1.909688  0.713196          -1.214558       0.290857     -0.620199   \n",
              "3      -0.618895  0.713196           0.436570      -0.775021     -0.620199   \n",
              "4       0.645396 -1.402140           0.436570      -0.775021     -0.620199   \n",
              "\n",
              "   longitud_profile  drawing_plan  surface_cond  acc_situation  \n",
              "0         -0.443015     -1.678986     -0.487460       0.314232  \n",
              "1         -0.443015     -2.736930     -0.487460       0.314232  \n",
              "2         -0.443015     -1.678986      2.051452      -3.182120  \n",
              "3         -0.443015      0.436903     -0.487460       0.314232  \n",
              "4         -0.443015      0.436903     -0.487460       0.314232  "
            ],
            "text/html": [
              "\n",
              "  <div id=\"df-ac9b9da9-5d3b-4e29-98c4-c547a5246b6b\">\n",
              "    <div class=\"colab-df-container\">\n",
              "      <div>\n",
              "<style scoped>\n",
              "    .dataframe tbody tr th:only-of-type {\n",
              "        vertical-align: middle;\n",
              "    }\n",
              "\n",
              "    .dataframe tbody tr th {\n",
              "        vertical-align: top;\n",
              "    }\n",
              "\n",
              "    .dataframe thead th {\n",
              "        text-align: right;\n",
              "    }\n",
              "</style>\n",
              "<table border=\"1\" class=\"dataframe\">\n",
              "  <thead>\n",
              "    <tr style=\"text-align: right;\">\n",
              "      <th></th>\n",
              "      <th>hour</th>\n",
              "      <th>lighting</th>\n",
              "      <th>intersection</th>\n",
              "      <th>atmosphere</th>\n",
              "      <th>collision</th>\n",
              "      <th>localisation</th>\n",
              "      <th>user_category</th>\n",
              "      <th>user_sex</th>\n",
              "      <th>pedestrian_action</th>\n",
              "      <th>road_category</th>\n",
              "      <th>traff_regime</th>\n",
              "      <th>longitud_profile</th>\n",
              "      <th>drawing_plan</th>\n",
              "      <th>surface_cond</th>\n",
              "      <th>acc_situation</th>\n",
              "    </tr>\n",
              "  </thead>\n",
              "  <tbody>\n",
              "    <tr>\n",
              "      <th>0</th>\n",
              "      <td>0.092066</td>\n",
              "      <td>-0.633540</td>\n",
              "      <td>0.636007</td>\n",
              "      <td>-4.362589</td>\n",
              "      <td>-1.374964</td>\n",
              "      <td>-0.463834</td>\n",
              "      <td>-0.618895</td>\n",
              "      <td>0.713196</td>\n",
              "      <td>0.436570</td>\n",
              "      <td>0.290857</td>\n",
              "      <td>-0.620199</td>\n",
              "      <td>-0.443015</td>\n",
              "      <td>-1.678986</td>\n",
              "      <td>-0.487460</td>\n",
              "      <td>0.314232</td>\n",
              "    </tr>\n",
              "    <tr>\n",
              "      <th>1</th>\n",
              "      <td>0.830415</td>\n",
              "      <td>-0.633540</td>\n",
              "      <td>-1.572309</td>\n",
              "      <td>0.331258</td>\n",
              "      <td>0.531740</td>\n",
              "      <td>-0.463834</td>\n",
              "      <td>0.645396</td>\n",
              "      <td>-1.402140</td>\n",
              "      <td>0.436570</td>\n",
              "      <td>0.290857</td>\n",
              "      <td>0.742234</td>\n",
              "      <td>-0.443015</td>\n",
              "      <td>-2.736930</td>\n",
              "      <td>-0.487460</td>\n",
              "      <td>0.314232</td>\n",
              "    </tr>\n",
              "    <tr>\n",
              "      <th>2</th>\n",
              "      <td>1.015003</td>\n",
              "      <td>-0.633540</td>\n",
              "      <td>0.636007</td>\n",
              "      <td>0.331258</td>\n",
              "      <td>0.531740</td>\n",
              "      <td>2.155946</td>\n",
              "      <td>1.909688</td>\n",
              "      <td>0.713196</td>\n",
              "      <td>-1.214558</td>\n",
              "      <td>0.290857</td>\n",
              "      <td>-0.620199</td>\n",
              "      <td>-0.443015</td>\n",
              "      <td>-1.678986</td>\n",
              "      <td>2.051452</td>\n",
              "      <td>-3.182120</td>\n",
              "    </tr>\n",
              "    <tr>\n",
              "      <th>3</th>\n",
              "      <td>1.015003</td>\n",
              "      <td>2.439367</td>\n",
              "      <td>0.636007</td>\n",
              "      <td>-3.423820</td>\n",
              "      <td>-1.374964</td>\n",
              "      <td>-0.463834</td>\n",
              "      <td>-0.618895</td>\n",
              "      <td>0.713196</td>\n",
              "      <td>0.436570</td>\n",
              "      <td>-0.775021</td>\n",
              "      <td>-0.620199</td>\n",
              "      <td>-0.443015</td>\n",
              "      <td>0.436903</td>\n",
              "      <td>-0.487460</td>\n",
              "      <td>0.314232</td>\n",
              "    </tr>\n",
              "    <tr>\n",
              "      <th>4</th>\n",
              "      <td>-0.461696</td>\n",
              "      <td>-0.633540</td>\n",
              "      <td>-1.572309</td>\n",
              "      <td>0.331258</td>\n",
              "      <td>-1.374964</td>\n",
              "      <td>-0.463834</td>\n",
              "      <td>0.645396</td>\n",
              "      <td>-1.402140</td>\n",
              "      <td>0.436570</td>\n",
              "      <td>-0.775021</td>\n",
              "      <td>-0.620199</td>\n",
              "      <td>-0.443015</td>\n",
              "      <td>0.436903</td>\n",
              "      <td>-0.487460</td>\n",
              "      <td>0.314232</td>\n",
              "    </tr>\n",
              "  </tbody>\n",
              "</table>\n",
              "</div>\n",
              "      <button class=\"colab-df-convert\" onclick=\"convertToInteractive('df-ac9b9da9-5d3b-4e29-98c4-c547a5246b6b')\"\n",
              "              title=\"Convert this dataframe to an interactive table.\"\n",
              "              style=\"display:none;\">\n",
              "        \n",
              "  <svg xmlns=\"http://www.w3.org/2000/svg\" height=\"24px\"viewBox=\"0 0 24 24\"\n",
              "       width=\"24px\">\n",
              "    <path d=\"M0 0h24v24H0V0z\" fill=\"none\"/>\n",
              "    <path d=\"M18.56 5.44l.94 2.06.94-2.06 2.06-.94-2.06-.94-.94-2.06-.94 2.06-2.06.94zm-11 1L8.5 8.5l.94-2.06 2.06-.94-2.06-.94L8.5 2.5l-.94 2.06-2.06.94zm10 10l.94 2.06.94-2.06 2.06-.94-2.06-.94-.94-2.06-.94 2.06-2.06.94z\"/><path d=\"M17.41 7.96l-1.37-1.37c-.4-.4-.92-.59-1.43-.59-.52 0-1.04.2-1.43.59L10.3 9.45l-7.72 7.72c-.78.78-.78 2.05 0 2.83L4 21.41c.39.39.9.59 1.41.59.51 0 1.02-.2 1.41-.59l7.78-7.78 2.81-2.81c.8-.78.8-2.07 0-2.86zM5.41 20L4 18.59l7.72-7.72 1.47 1.35L5.41 20z\"/>\n",
              "  </svg>\n",
              "      </button>\n",
              "      \n",
              "  <style>\n",
              "    .colab-df-container {\n",
              "      display:flex;\n",
              "      flex-wrap:wrap;\n",
              "      gap: 12px;\n",
              "    }\n",
              "\n",
              "    .colab-df-convert {\n",
              "      background-color: #E8F0FE;\n",
              "      border: none;\n",
              "      border-radius: 50%;\n",
              "      cursor: pointer;\n",
              "      display: none;\n",
              "      fill: #1967D2;\n",
              "      height: 32px;\n",
              "      padding: 0 0 0 0;\n",
              "      width: 32px;\n",
              "    }\n",
              "\n",
              "    .colab-df-convert:hover {\n",
              "      background-color: #E2EBFA;\n",
              "      box-shadow: 0px 1px 2px rgba(60, 64, 67, 0.3), 0px 1px 3px 1px rgba(60, 64, 67, 0.15);\n",
              "      fill: #174EA6;\n",
              "    }\n",
              "\n",
              "    [theme=dark] .colab-df-convert {\n",
              "      background-color: #3B4455;\n",
              "      fill: #D2E3FC;\n",
              "    }\n",
              "\n",
              "    [theme=dark] .colab-df-convert:hover {\n",
              "      background-color: #434B5C;\n",
              "      box-shadow: 0px 1px 3px 1px rgba(0, 0, 0, 0.15);\n",
              "      filter: drop-shadow(0px 1px 2px rgba(0, 0, 0, 0.3));\n",
              "      fill: #FFFFFF;\n",
              "    }\n",
              "  </style>\n",
              "\n",
              "      <script>\n",
              "        const buttonEl =\n",
              "          document.querySelector('#df-ac9b9da9-5d3b-4e29-98c4-c547a5246b6b button.colab-df-convert');\n",
              "        buttonEl.style.display =\n",
              "          google.colab.kernel.accessAllowed ? 'block' : 'none';\n",
              "\n",
              "        async function convertToInteractive(key) {\n",
              "          const element = document.querySelector('#df-ac9b9da9-5d3b-4e29-98c4-c547a5246b6b');\n",
              "          const dataTable =\n",
              "            await google.colab.kernel.invokeFunction('convertToInteractive',\n",
              "                                                     [key], {});\n",
              "          if (!dataTable) return;\n",
              "\n",
              "          const docLinkHtml = 'Like what you see? Visit the ' +\n",
              "            '<a target=\"_blank\" href=https://colab.research.google.com/notebooks/data_table.ipynb>data table notebook</a>'\n",
              "            + ' to learn more about interactive tables.';\n",
              "          element.innerHTML = '';\n",
              "          dataTable['output_type'] = 'display_data';\n",
              "          await google.colab.output.renderOutput(dataTable, element);\n",
              "          const docLink = document.createElement('div');\n",
              "          docLink.innerHTML = docLinkHtml;\n",
              "          element.appendChild(docLink);\n",
              "        }\n",
              "      </script>\n",
              "    </div>\n",
              "  </div>\n",
              "  "
            ]
          },
          "metadata": {},
          "execution_count": 11
        }
      ],
      "source": [
        "X = df.drop(['accident_severity'], axis=1) \n",
        "Y = df['accident_severity']\n",
        "\n",
        "scaler = StandardScaler()\n",
        "X = pd.DataFrame(scaler.fit_transform(X), columns=X.columns)\n",
        "\n",
        "X.head()"
      ]
    },
    {
      "cell_type": "code",
      "source": [
        "Y.value_counts()"
      ],
      "metadata": {
        "colab": {
          "base_uri": "https://localhost:8080/"
        },
        "id": "HY_613pw01sH",
        "outputId": "e65e8b71-cbbd-424c-9d80-cd60d306bc88"
      },
      "execution_count": null,
      "outputs": [
        {
          "output_type": "execute_result",
          "data": {
            "text/plain": [
              "2    178436\n",
              "0    129119\n",
              "1     19713\n",
              "Name: accident_severity, dtype: int64"
            ]
          },
          "metadata": {},
          "execution_count": 12
        }
      ]
    },
    {
      "cell_type": "code",
      "execution_count": null,
      "metadata": {
        "id": "NzYPqixsXNo8"
      },
      "outputs": [],
      "source": [
        "x_train, x_test, y_train, y_test = train_test_split(X, Y, test_size=0.3, stratify=Y)"
      ]
    },
    {
      "cell_type": "markdown",
      "metadata": {
        "id": "yAYPNgyOXNo-"
      },
      "source": [
        "### Modelling (initial)\n",
        "We try out several well known models with their default hyperparameters<br>\n",
        "Our key metrics are the\n",
        "-  **macro** average F1-score \n",
        "-  recall for class 1(severity=killed)"
      ]
    },
    {
      "cell_type": "code",
      "execution_count": 13,
      "metadata": {
        "id": "Ws0XAmQrCxxS"
      },
      "outputs": [],
      "source": [
        "# !! IMPORTANT !!\n",
        "# Double check the train and test dataset that's in memory before using the functions below \n",
        "\n",
        "def run_model_reports(model):\n",
        "  \"\"\"Fits model, makes prediction, and evaluates the result\"\"\"\n",
        "\n",
        "  name = type(model).__name__\n",
        "    \n",
        "  # Fit the model\n",
        "  print(f\"Fitting {name} model...\")\n",
        "  model.fit(x_train, y_train)\n",
        "        \n",
        "  # Make predictions\n",
        "  print(\"Making predictions...\")\n",
        "  y_pred = model.predict(x_test)\n",
        "  \n",
        "  # Evaluate metrics\n",
        "  report = classification_report(y_test, y_pred)\n",
        "  # The dictionary format is neccesary for extracting our key metrics\n",
        "  report_dict = classification_report(y_test, y_pred, output_dict=True)\n",
        "\n",
        "  return report, report_dict\n",
        "\n",
        "\n",
        "\n",
        "def get_key_metrics(report_dict):\n",
        "  \"\"\"Extracts key metrics from the report\"\"\"\n",
        "\n",
        "  report_df =  pd.DataFrame(report_dict)\n",
        "\n",
        "  class_1_recall = report_df['1'].loc['recall']\n",
        "  macro_f1 = report_df['macro avg'].loc['f1-score']\n",
        "\n",
        "  return class_1_recall, macro_f1"
      ]
    },
    {
      "cell_type": "code",
      "execution_count": null,
      "metadata": {
        "id": "vZTGsGCJXNo-"
      },
      "outputs": [],
      "source": [
        "models = [LogisticRegression(n_jobs=-1),\n",
        "          DecisionTreeClassifier(),\n",
        "          RandomForestClassifier(n_jobs=-1),\n",
        "          GradientBoostingClassifier(),\n",
        "          AdaBoostClassifier(),\n",
        "          XGBClassifier(n_jobs=-1),\n",
        "          LGBMClassifier()]"
      ]
    },
    {
      "cell_type": "code",
      "execution_count": null,
      "metadata": {
        "id": "Q7BdTN4ND65b",
        "colab": {
          "base_uri": "https://localhost:8080/"
        },
        "outputId": "21c67ef7-26c1-47c5-ec47-cbc161d0b71a"
      },
      "outputs": [
        {
          "output_type": "stream",
          "name": "stdout",
          "text": [
            "Fitting LogisticRegression model...\n",
            "Making predictions...\n",
            "              precision    recall  f1-score   support\n",
            "\n",
            "           0       0.64      0.40      0.49     38736\n",
            "           1       0.00      0.00      0.00      5914\n",
            "           2       0.66      0.91      0.76     53531\n",
            "\n",
            "    accuracy                           0.65     98181\n",
            "   macro avg       0.43      0.44      0.42     98181\n",
            "weighted avg       0.61      0.65      0.61     98181\n",
            "\n",
            "Class 1 Recall: 0.0\n",
            "Macro F1-Score: 0.4181\n",
            "-----------------------------------------------------\n",
            "Fitting DecisionTreeClassifier model...\n",
            "Making predictions...\n",
            "              precision    recall  f1-score   support\n",
            "\n",
            "           0       0.53      0.49      0.51     38736\n",
            "           1       0.17      0.11      0.13      5914\n",
            "           2       0.68      0.74      0.71     53531\n",
            "\n",
            "    accuracy                           0.60     98181\n",
            "   macro avg       0.46      0.45      0.45     98181\n",
            "weighted avg       0.59      0.60      0.60     98181\n",
            "\n",
            "Class 1 Recall: 0.1113\n",
            "Macro F1-Score: 0.4515\n",
            "-----------------------------------------------------\n",
            "Fitting RandomForestClassifier model...\n",
            "Making predictions...\n",
            "              precision    recall  f1-score   support\n",
            "\n",
            "           0       0.57      0.49      0.53     38736\n",
            "           1       0.21      0.08      0.12      5914\n",
            "           2       0.68      0.80      0.74     53531\n",
            "\n",
            "    accuracy                           0.63     98181\n",
            "   macro avg       0.49      0.46      0.46     98181\n",
            "weighted avg       0.61      0.63      0.62     98181\n",
            "\n",
            "Class 1 Recall: 0.0829\n",
            "Macro F1-Score: 0.4605\n",
            "-----------------------------------------------------\n",
            "Fitting GradientBoostingClassifier model...\n",
            "Making predictions...\n",
            "              precision    recall  f1-score   support\n",
            "\n",
            "           0       0.63      0.50      0.56     38736\n",
            "           1       0.63      0.01      0.02      5914\n",
            "           2       0.69      0.87      0.77     53531\n",
            "\n",
            "    accuracy                           0.67     98181\n",
            "   macro avg       0.65      0.46      0.45     98181\n",
            "weighted avg       0.66      0.67      0.64     98181\n",
            "\n",
            "Class 1 Recall: 0.0123\n",
            "Macro F1-Score: 0.4514\n",
            "-----------------------------------------------------\n",
            "Fitting AdaBoostClassifier model...\n",
            "Making predictions...\n",
            "              precision    recall  f1-score   support\n",
            "\n",
            "           0       0.63      0.48      0.54     38736\n",
            "           1       0.29      0.01      0.02      5914\n",
            "           2       0.68      0.88      0.77     53531\n",
            "\n",
            "    accuracy                           0.67     98181\n",
            "   macro avg       0.54      0.46      0.44     98181\n",
            "weighted avg       0.64      0.67      0.64     98181\n",
            "\n",
            "Class 1 Recall: 0.0093\n",
            "Macro F1-Score: 0.4442\n",
            "-----------------------------------------------------\n",
            "Fitting XGBClassifier model...\n",
            "Making predictions...\n",
            "              precision    recall  f1-score   support\n",
            "\n",
            "           0       0.63      0.50      0.56     38736\n",
            "           1       0.62      0.01      0.01      5914\n",
            "           2       0.69      0.87      0.77     53531\n",
            "\n",
            "    accuracy                           0.67     98181\n",
            "   macro avg       0.65      0.46      0.45     98181\n",
            "weighted avg       0.66      0.67      0.64     98181\n",
            "\n",
            "Class 1 Recall: 0.0061\n",
            "Macro F1-Score: 0.4463\n",
            "-----------------------------------------------------\n",
            "Fitting LGBMClassifier model...\n",
            "Making predictions...\n",
            "              precision    recall  f1-score   support\n",
            "\n",
            "           0       0.63      0.50      0.56     38736\n",
            "           1       0.60      0.01      0.03      5914\n",
            "           2       0.69      0.87      0.77     53531\n",
            "\n",
            "    accuracy                           0.67     98181\n",
            "   macro avg       0.64      0.46      0.45     98181\n",
            "weighted avg       0.66      0.67      0.64     98181\n",
            "\n",
            "Class 1 Recall: 0.0135\n",
            "Macro F1-Score: 0.4533\n",
            "-----------------------------------------------------\n"
          ]
        }
      ],
      "source": [
        "for m in models:\n",
        "    report, report_dict = run_model_reports(m)\n",
        "    recall, f1 = get_key_metrics(report_dict)\n",
        "    \n",
        "    print(report)\n",
        "    print(f'Class 1 Recall: {round(recall, 4)}')\n",
        "    print(f'Macro F1-Score: {round(f1, 4)}')\n",
        "    print('-----------------------------------------------------')"
      ]
    },
    {
      "cell_type": "markdown",
      "metadata": {
        "id": "ukuTTq6Nr_WZ"
      },
      "source": [
        "### Resampling\n",
        "From the evaluation above, the decision tree model had the best recall for class 1 (score of 0.11), and most of the models achieved a macro average F1-score of 0.45.<br>\n",
        "These are poor metrics, and are due to the imbalanced dataset, thus we proceeded to upsample our minority classes: 1(killed) and class 0(hospitalized)"
      ]
    },
    {
      "cell_type": "code",
      "execution_count": null,
      "metadata": {
        "colab": {
          "base_uri": "https://localhost:8080/"
        },
        "id": "w8GSK10r5B4r",
        "outputId": "45a86775-dc72-4b96-8916-de7c8eef1a73"
      },
      "outputs": [
        {
          "output_type": "execute_result",
          "data": {
            "text/plain": [
              "0    471695\n",
              "2    471695\n",
              "1    471695\n",
              "Name: accident_severity, dtype: int64"
            ]
          },
          "metadata": {},
          "execution_count": 11
        }
      ],
      "source": [
        "sm = SMOTE(sampling_strategy='all', n_jobs=-1)\n",
        "resampled_X, resampled_Y = sm.fit_resample(X, Y)\n",
        "\n",
        "# Check the new class distribution\n",
        "resampled_Y.value_counts()"
      ]
    },
    {
      "cell_type": "code",
      "execution_count": null,
      "metadata": {
        "id": "ve6bcFjlqMy2"
      },
      "outputs": [],
      "source": [
        "resampled_df = pd.concat([resampled_Y, resampled_X], axis=1)\n",
        "# Shuffle the dataset\n",
        "resampled_df = resampled_df.sample(frac=1).reset_index(drop=True)"
      ]
    },
    {
      "cell_type": "markdown",
      "metadata": {
        "id": "MhTW0gfS9qke"
      },
      "source": [
        "To avoid re-running the SMOTE resample function"
      ]
    },
    {
      "cell_type": "code",
      "execution_count": null,
      "metadata": {
        "id": "5D8J3g4u9MqM"
      },
      "outputs": [],
      "source": [
        "#resampled_df.to_csv('resampled_df.csv', index=False)"
      ]
    },
    {
      "cell_type": "code",
      "execution_count": 4,
      "metadata": {
        "colab": {
          "base_uri": "https://localhost:8080/",
          "height": 270
        },
        "id": "-_e3Xfx89lmm",
        "outputId": "66f775fe-554c-4cd4-9a6e-5325308468ae"
      },
      "outputs": [
        {
          "output_type": "execute_result",
          "data": {
            "text/plain": [
              "   accident_severity      hour  lighting  intersection  atmosphere  collision  \\\n",
              "0                  1  0.812896 -0.631485      0.632882   -0.615857   0.071876   \n",
              "1                  0  0.451043 -0.631485      0.632882    0.316759  -1.338037   \n",
              "2                  1 -0.472985 -0.631485     -1.580073    0.316759  -1.338037   \n",
              "3                  1 -0.272351 -0.631485      0.632882    0.316759  -0.398095   \n",
              "4                  1 -1.014696  0.091278     -1.580073    0.316759   0.979507   \n",
              "\n",
              "   localisation  user_category  user_sex  pedestrian_action  road_category  \\\n",
              "0      2.230864      -0.603092  0.721062            0.42591       0.261653   \n",
              "1      2.230864      -0.603092  0.721062            0.42591       2.284975   \n",
              "2     -0.448257      -0.603092 -1.386843            0.42591       0.261653   \n",
              "3      2.230864      -0.603092  0.721062            0.42591       2.284975   \n",
              "4     -0.448257      -0.005625 -1.386843            0.42591       0.261653   \n",
              "\n",
              "   traff_regime  longitud_profile  drawing_plan  surface_cond  acc_situation  \n",
              "0     -0.615365         -0.435524      0.432162      2.064336       0.309949  \n",
              "1      2.113628         -0.435524      0.432162     -0.484417       0.309949  \n",
              "2     -0.615365         -0.435524      0.432162     -0.484417       0.309949  \n",
              "3     -0.615365          2.426502     -2.770194     -0.484417       0.309949  \n",
              "4      0.019977         -0.435524     -2.770194     -0.484417      -3.226341  "
            ],
            "text/html": [
              "\n",
              "  <div id=\"df-ddfcc769-dedb-4cda-9334-b0d6c72da951\">\n",
              "    <div class=\"colab-df-container\">\n",
              "      <div>\n",
              "<style scoped>\n",
              "    .dataframe tbody tr th:only-of-type {\n",
              "        vertical-align: middle;\n",
              "    }\n",
              "\n",
              "    .dataframe tbody tr th {\n",
              "        vertical-align: top;\n",
              "    }\n",
              "\n",
              "    .dataframe thead th {\n",
              "        text-align: right;\n",
              "    }\n",
              "</style>\n",
              "<table border=\"1\" class=\"dataframe\">\n",
              "  <thead>\n",
              "    <tr style=\"text-align: right;\">\n",
              "      <th></th>\n",
              "      <th>accident_severity</th>\n",
              "      <th>hour</th>\n",
              "      <th>lighting</th>\n",
              "      <th>intersection</th>\n",
              "      <th>atmosphere</th>\n",
              "      <th>collision</th>\n",
              "      <th>localisation</th>\n",
              "      <th>user_category</th>\n",
              "      <th>user_sex</th>\n",
              "      <th>pedestrian_action</th>\n",
              "      <th>road_category</th>\n",
              "      <th>traff_regime</th>\n",
              "      <th>longitud_profile</th>\n",
              "      <th>drawing_plan</th>\n",
              "      <th>surface_cond</th>\n",
              "      <th>acc_situation</th>\n",
              "    </tr>\n",
              "  </thead>\n",
              "  <tbody>\n",
              "    <tr>\n",
              "      <th>0</th>\n",
              "      <td>1</td>\n",
              "      <td>0.812896</td>\n",
              "      <td>-0.631485</td>\n",
              "      <td>0.632882</td>\n",
              "      <td>-0.615857</td>\n",
              "      <td>0.071876</td>\n",
              "      <td>2.230864</td>\n",
              "      <td>-0.603092</td>\n",
              "      <td>0.721062</td>\n",
              "      <td>0.42591</td>\n",
              "      <td>0.261653</td>\n",
              "      <td>-0.615365</td>\n",
              "      <td>-0.435524</td>\n",
              "      <td>0.432162</td>\n",
              "      <td>2.064336</td>\n",
              "      <td>0.309949</td>\n",
              "    </tr>\n",
              "    <tr>\n",
              "      <th>1</th>\n",
              "      <td>0</td>\n",
              "      <td>0.451043</td>\n",
              "      <td>-0.631485</td>\n",
              "      <td>0.632882</td>\n",
              "      <td>0.316759</td>\n",
              "      <td>-1.338037</td>\n",
              "      <td>2.230864</td>\n",
              "      <td>-0.603092</td>\n",
              "      <td>0.721062</td>\n",
              "      <td>0.42591</td>\n",
              "      <td>2.284975</td>\n",
              "      <td>2.113628</td>\n",
              "      <td>-0.435524</td>\n",
              "      <td>0.432162</td>\n",
              "      <td>-0.484417</td>\n",
              "      <td>0.309949</td>\n",
              "    </tr>\n",
              "    <tr>\n",
              "      <th>2</th>\n",
              "      <td>1</td>\n",
              "      <td>-0.472985</td>\n",
              "      <td>-0.631485</td>\n",
              "      <td>-1.580073</td>\n",
              "      <td>0.316759</td>\n",
              "      <td>-1.338037</td>\n",
              "      <td>-0.448257</td>\n",
              "      <td>-0.603092</td>\n",
              "      <td>-1.386843</td>\n",
              "      <td>0.42591</td>\n",
              "      <td>0.261653</td>\n",
              "      <td>-0.615365</td>\n",
              "      <td>-0.435524</td>\n",
              "      <td>0.432162</td>\n",
              "      <td>-0.484417</td>\n",
              "      <td>0.309949</td>\n",
              "    </tr>\n",
              "    <tr>\n",
              "      <th>3</th>\n",
              "      <td>1</td>\n",
              "      <td>-0.272351</td>\n",
              "      <td>-0.631485</td>\n",
              "      <td>0.632882</td>\n",
              "      <td>0.316759</td>\n",
              "      <td>-0.398095</td>\n",
              "      <td>2.230864</td>\n",
              "      <td>-0.603092</td>\n",
              "      <td>0.721062</td>\n",
              "      <td>0.42591</td>\n",
              "      <td>2.284975</td>\n",
              "      <td>-0.615365</td>\n",
              "      <td>2.426502</td>\n",
              "      <td>-2.770194</td>\n",
              "      <td>-0.484417</td>\n",
              "      <td>0.309949</td>\n",
              "    </tr>\n",
              "    <tr>\n",
              "      <th>4</th>\n",
              "      <td>1</td>\n",
              "      <td>-1.014696</td>\n",
              "      <td>0.091278</td>\n",
              "      <td>-1.580073</td>\n",
              "      <td>0.316759</td>\n",
              "      <td>0.979507</td>\n",
              "      <td>-0.448257</td>\n",
              "      <td>-0.005625</td>\n",
              "      <td>-1.386843</td>\n",
              "      <td>0.42591</td>\n",
              "      <td>0.261653</td>\n",
              "      <td>0.019977</td>\n",
              "      <td>-0.435524</td>\n",
              "      <td>-2.770194</td>\n",
              "      <td>-0.484417</td>\n",
              "      <td>-3.226341</td>\n",
              "    </tr>\n",
              "  </tbody>\n",
              "</table>\n",
              "</div>\n",
              "      <button class=\"colab-df-convert\" onclick=\"convertToInteractive('df-ddfcc769-dedb-4cda-9334-b0d6c72da951')\"\n",
              "              title=\"Convert this dataframe to an interactive table.\"\n",
              "              style=\"display:none;\">\n",
              "        \n",
              "  <svg xmlns=\"http://www.w3.org/2000/svg\" height=\"24px\"viewBox=\"0 0 24 24\"\n",
              "       width=\"24px\">\n",
              "    <path d=\"M0 0h24v24H0V0z\" fill=\"none\"/>\n",
              "    <path d=\"M18.56 5.44l.94 2.06.94-2.06 2.06-.94-2.06-.94-.94-2.06-.94 2.06-2.06.94zm-11 1L8.5 8.5l.94-2.06 2.06-.94-2.06-.94L8.5 2.5l-.94 2.06-2.06.94zm10 10l.94 2.06.94-2.06 2.06-.94-2.06-.94-.94-2.06-.94 2.06-2.06.94z\"/><path d=\"M17.41 7.96l-1.37-1.37c-.4-.4-.92-.59-1.43-.59-.52 0-1.04.2-1.43.59L10.3 9.45l-7.72 7.72c-.78.78-.78 2.05 0 2.83L4 21.41c.39.39.9.59 1.41.59.51 0 1.02-.2 1.41-.59l7.78-7.78 2.81-2.81c.8-.78.8-2.07 0-2.86zM5.41 20L4 18.59l7.72-7.72 1.47 1.35L5.41 20z\"/>\n",
              "  </svg>\n",
              "      </button>\n",
              "      \n",
              "  <style>\n",
              "    .colab-df-container {\n",
              "      display:flex;\n",
              "      flex-wrap:wrap;\n",
              "      gap: 12px;\n",
              "    }\n",
              "\n",
              "    .colab-df-convert {\n",
              "      background-color: #E8F0FE;\n",
              "      border: none;\n",
              "      border-radius: 50%;\n",
              "      cursor: pointer;\n",
              "      display: none;\n",
              "      fill: #1967D2;\n",
              "      height: 32px;\n",
              "      padding: 0 0 0 0;\n",
              "      width: 32px;\n",
              "    }\n",
              "\n",
              "    .colab-df-convert:hover {\n",
              "      background-color: #E2EBFA;\n",
              "      box-shadow: 0px 1px 2px rgba(60, 64, 67, 0.3), 0px 1px 3px 1px rgba(60, 64, 67, 0.15);\n",
              "      fill: #174EA6;\n",
              "    }\n",
              "\n",
              "    [theme=dark] .colab-df-convert {\n",
              "      background-color: #3B4455;\n",
              "      fill: #D2E3FC;\n",
              "    }\n",
              "\n",
              "    [theme=dark] .colab-df-convert:hover {\n",
              "      background-color: #434B5C;\n",
              "      box-shadow: 0px 1px 3px 1px rgba(0, 0, 0, 0.15);\n",
              "      filter: drop-shadow(0px 1px 2px rgba(0, 0, 0, 0.3));\n",
              "      fill: #FFFFFF;\n",
              "    }\n",
              "  </style>\n",
              "\n",
              "      <script>\n",
              "        const buttonEl =\n",
              "          document.querySelector('#df-ddfcc769-dedb-4cda-9334-b0d6c72da951 button.colab-df-convert');\n",
              "        buttonEl.style.display =\n",
              "          google.colab.kernel.accessAllowed ? 'block' : 'none';\n",
              "\n",
              "        async function convertToInteractive(key) {\n",
              "          const element = document.querySelector('#df-ddfcc769-dedb-4cda-9334-b0d6c72da951');\n",
              "          const dataTable =\n",
              "            await google.colab.kernel.invokeFunction('convertToInteractive',\n",
              "                                                     [key], {});\n",
              "          if (!dataTable) return;\n",
              "\n",
              "          const docLinkHtml = 'Like what you see? Visit the ' +\n",
              "            '<a target=\"_blank\" href=https://colab.research.google.com/notebooks/data_table.ipynb>data table notebook</a>'\n",
              "            + ' to learn more about interactive tables.';\n",
              "          element.innerHTML = '';\n",
              "          dataTable['output_type'] = 'display_data';\n",
              "          await google.colab.output.renderOutput(dataTable, element);\n",
              "          const docLink = document.createElement('div');\n",
              "          docLink.innerHTML = docLinkHtml;\n",
              "          element.appendChild(docLink);\n",
              "        }\n",
              "      </script>\n",
              "    </div>\n",
              "  </div>\n",
              "  "
            ]
          },
          "metadata": {},
          "execution_count": 4
        }
      ],
      "source": [
        "resampled_df = pd.read_csv('resampled_df.csv')\n",
        "resampled_df.head()"
      ]
    },
    {
      "cell_type": "markdown",
      "metadata": {
        "id": "KPEe2E3y952q"
      },
      "source": [
        "### Train test split on the new resampled dataset"
      ]
    },
    {
      "cell_type": "code",
      "execution_count": 5,
      "metadata": {
        "id": "qzVIL2AMqBiv"
      },
      "outputs": [],
      "source": [
        "resampled_X = resampled_df.drop(['accident_severity'], axis=1) \n",
        "resampled_Y = resampled_df['accident_severity']\n",
        "\n",
        "x_train, x_test, y_train, y_test = train_test_split(resampled_X, resampled_Y, test_size=0.3)"
      ]
    },
    {
      "cell_type": "markdown",
      "metadata": {
        "id": "qTJFDwThGewg"
      },
      "source": [
        "### Modelling (second)"
      ]
    },
    {
      "cell_type": "code",
      "execution_count": null,
      "metadata": {
        "colab": {
          "base_uri": "https://localhost:8080/"
        },
        "id": "BCyZTjEoXNo_",
        "outputId": "b76b4496-6f3e-46fa-cae5-35a8c6db25c6"
      },
      "outputs": [
        {
          "output_type": "stream",
          "name": "stdout",
          "text": [
            "Fitting LogisticRegression model...\n",
            "Making predictions...\n",
            "              precision    recall  f1-score   support\n",
            "\n",
            "           0       0.40      0.17      0.24    141964\n",
            "           1       0.58      0.62      0.60    140965\n",
            "           2       0.52      0.79      0.63    141597\n",
            "\n",
            "    accuracy                           0.53    424526\n",
            "   macro avg       0.50      0.53      0.49    424526\n",
            "weighted avg       0.50      0.53      0.49    424526\n",
            "\n",
            "Class 1 Recall: 0.6172\n",
            "Macro F1-Score: 0.4898\n",
            "-----------------------------------------------------\n",
            "Fitting DecisionTreeClassifier model...\n",
            "Making predictions...\n",
            "              precision    recall  f1-score   support\n",
            "\n",
            "           0       0.53      0.46      0.49    141964\n",
            "           1       0.78      0.79      0.79    140965\n",
            "           2       0.62      0.71      0.66    141597\n",
            "\n",
            "    accuracy                           0.65    424526\n",
            "   macro avg       0.65      0.65      0.65    424526\n",
            "weighted avg       0.65      0.65      0.65    424526\n",
            "\n",
            "Class 1 Recall: 0.7901\n",
            "Macro F1-Score: 0.6477\n",
            "-----------------------------------------------------\n",
            "Fitting RandomForestClassifier model...\n",
            "Making predictions...\n",
            "              precision    recall  f1-score   support\n",
            "\n",
            "           0       0.58      0.46      0.51    141964\n",
            "           1       0.81      0.82      0.82    140965\n",
            "           2       0.63      0.74      0.68    141597\n",
            "\n",
            "    accuracy                           0.68    424526\n",
            "   macro avg       0.67      0.68      0.67    424526\n",
            "weighted avg       0.67      0.68      0.67    424526\n",
            "\n",
            "Class 1 Recall: 0.8247\n",
            "Macro F1-Score: 0.6698\n",
            "-----------------------------------------------------\n",
            "Fitting GradientBoostingClassifier model...\n",
            "Making predictions...\n",
            "              precision    recall  f1-score   support\n",
            "\n",
            "           0       0.49      0.28      0.36    141964\n",
            "           1       0.67      0.75      0.71    140965\n",
            "           2       0.59      0.78      0.68    141597\n",
            "\n",
            "    accuracy                           0.60    424526\n",
            "   macro avg       0.59      0.60      0.58    424526\n",
            "weighted avg       0.59      0.60      0.58    424526\n",
            "\n",
            "Class 1 Recall: 0.7461\n",
            "Macro F1-Score: 0.58\n",
            "-----------------------------------------------------\n",
            "Fitting AdaBoostClassifier model...\n",
            "Making predictions...\n",
            "              precision    recall  f1-score   support\n",
            "\n",
            "           0       0.44      0.26      0.33    141964\n",
            "           1       0.63      0.69      0.66    140965\n",
            "           2       0.59      0.76      0.66    141597\n",
            "\n",
            "    accuracy                           0.57    424526\n",
            "   macro avg       0.55      0.57      0.55    424526\n",
            "weighted avg       0.55      0.57      0.55    424526\n",
            "\n",
            "Class 1 Recall: 0.6882\n",
            "Macro F1-Score: 0.549\n",
            "-----------------------------------------------------\n",
            "Fitting XGBClassifier model...\n",
            "Making predictions...\n",
            "              precision    recall  f1-score   support\n",
            "\n",
            "           0       0.49      0.24      0.32    141964\n",
            "           1       0.65      0.75      0.70    140965\n",
            "           2       0.58      0.80      0.67    141597\n",
            "\n",
            "    accuracy                           0.59    424526\n",
            "   macro avg       0.57      0.59      0.56    424526\n",
            "weighted avg       0.57      0.59      0.56    424526\n",
            "\n",
            "Class 1 Recall: 0.7474\n",
            "Macro F1-Score: 0.5646\n",
            "-----------------------------------------------------\n",
            "Fitting LGBMClassifier model...\n",
            "Making predictions...\n",
            "              precision    recall  f1-score   support\n",
            "\n",
            "           0       0.53      0.34      0.42    141964\n",
            "           1       0.74      0.78      0.76    140965\n",
            "           2       0.62      0.81      0.70    141597\n",
            "\n",
            "    accuracy                           0.64    424526\n",
            "   macro avg       0.63      0.64      0.63    424526\n",
            "weighted avg       0.63      0.64      0.63    424526\n",
            "\n",
            "Class 1 Recall: 0.7834\n",
            "Macro F1-Score: 0.6272\n",
            "-----------------------------------------------------\n"
          ]
        }
      ],
      "source": [
        "for m in models:\n",
        "    report, report_dict = run_model_reports(m)\n",
        "    recall, f1 = get_key_metrics(report_dict)\n",
        "    \n",
        "    print(report)\n",
        "    print(f'Class 1 Recall: {round(recall, 4)}')\n",
        "    print(f'Macro F1-Score: {round(f1, 4)}')\n",
        "    print('-----------------------------------------------------')"
      ]
    },
    {
      "cell_type": "markdown",
      "source": [
        "We can see a great inprovement in our metrics after resampling<br>\n",
        "Our best model so far is the Random Forest model (Class 1 Recall: 0.8247\n",
        "Macro F1-Score: 0.6698)<br>\n",
        "However we were still not satisfied with it's performance, our next approach was to select our top 3 models and find the best results with their best hyperparamters.<br>\n",
        "This time our key metrics is to improve **accuracy**"
      ],
      "metadata": {
        "id": "FV_4J5P6vaGy"
      }
    },
    {
      "cell_type": "markdown",
      "metadata": {
        "id": "mxCkh7egXNpC"
      },
      "source": [
        "### Hyperparameter tunning\n",
        "The best performing models were trained using a random search CV"
      ]
    },
    {
      "cell_type": "code",
      "source": [
        "def randomsearch_cv(model, grid, cv, n_iter):\n",
        "  \"\"\"Performs the random search and returns the best model\"\"\"\n",
        "\n",
        "  rs_cv = RandomizedSearchCV(estimator=model, param_distributions=grid, cv=cv,\n",
        "                             n_iter=n_iter, scoring=\"accuracy\", n_jobs=-1, verbose=1)\n",
        "  \n",
        "  rs_cv.fit(x_train, y_train)\n",
        "  \n",
        "  print(f'Best hyperparameters: {rs_cv.best_params_}')\n",
        "\n",
        "  return rs_cv.best_estimator_"
      ],
      "metadata": {
        "id": "xQc6CV_F0uZP"
      },
      "execution_count": 19,
      "outputs": []
    },
    {
      "cell_type": "markdown",
      "source": [
        "- Random Forest"
      ],
      "metadata": {
        "id": "HsfWILy2xVd9"
      }
    },
    {
      "cell_type": "code",
      "execution_count": null,
      "metadata": {
        "id": "jCE_KQncXNpC"
      },
      "outputs": [],
      "source": [
        "# Define model and hyperparameters\n",
        "rfc = RandomForestClassifier(n_jobs=-1)\n",
        "rfc_grid = {'n_estimators': [50, 100, 200, 500, 1000],\n",
        "            'min_samples_split': [2, 5, 7, 10],\n",
        "            'min_samples_leaf': [2, 5, 7, 10],\n",
        "            'max_features': ['auto', 'sqrt', 'log2', 'none']}"
      ]
    },
    {
      "cell_type": "code",
      "source": [
        "# Fit the model with the best hyperparameters\n",
        "rfc_best = randomsearch_cv(rfc, rfc_grid, 1, 2)\n",
        "\n",
        "rfc_best.fit(x_train, y_train)\n",
        "y_pred_rfc = rfc_best.predict(x_test)"
      ],
      "metadata": {
        "id": "k5LLrtOQtzX7"
      },
      "execution_count": null,
      "outputs": []
    },
    {
      "cell_type": "code",
      "source": [
        "# Evaluate the model\n",
        "report_dict = classification_report(y_test, y_pred_rfc, output_dict=True)\n",
        "\n",
        "print(f\"Accuracy: {accuracy_score(y_test, y_pred_rfc)}\")\n",
        "print(get_key_metrics(report_dict))"
      ],
      "metadata": {
        "id": "2vvmcdT62prW"
      },
      "execution_count": null,
      "outputs": []
    },
    {
      "cell_type": "markdown",
      "source": [
        "- Decision Tree"
      ],
      "metadata": {
        "id": "1KSksCI2xd9d"
      }
    },
    {
      "cell_type": "code",
      "source": [
        "models[1].tree_.max_depth"
      ],
      "metadata": {
        "id": "w-lJKpw94MYy"
      },
      "execution_count": null,
      "outputs": []
    },
    {
      "cell_type": "code",
      "source": [
        "# Define model and hyperparameters\n",
        "dtc = DecisionTreeClassifier()\n",
        "dtc_grid = {'criterion': ['gini', 'entropy'],\n",
        "            'splitter': ['best', 'random'],\n",
        "            'max_features': ['auto', 'sqrt', 'log2', 'none'], \n",
        "            'max_depth': [25, 40, None]}"
      ],
      "metadata": {
        "id": "7TMxApgIxhzF"
      },
      "execution_count": 21,
      "outputs": []
    },
    {
      "cell_type": "code",
      "source": [
        "# Fit the model with the best hyperparameters\n",
        "dtc_best = randomsearch_cv(dtc, dtc_grid, 5, 10)\n",
        "\n",
        "dtc_best.fit(x_train, y_train)\n",
        "y_pred_dtc = dtc_best.predict(x_test)"
      ],
      "metadata": {
        "id": "pikljc7d5FTk",
        "colab": {
          "base_uri": "https://localhost:8080/"
        },
        "outputId": "80e96c6b-3751-4689-801c-199c9e13d606"
      },
      "execution_count": 22,
      "outputs": [
        {
          "output_type": "stream",
          "name": "stdout",
          "text": [
            "Fitting 5 folds for each of 10 candidates, totalling 50 fits\n",
            "Best hyperparameters: {'splitter': 'best', 'max_features': 'auto', 'max_depth': None, 'criterion': 'entropy'}\n"
          ]
        }
      ]
    },
    {
      "cell_type": "code",
      "source": [
        "# Evaluate the model\n",
        "report = classification_report(y_test, y_pred_dtc)\n",
        "print(report)"
      ],
      "metadata": {
        "id": "FGHTfSSNycbN",
        "colab": {
          "base_uri": "https://localhost:8080/"
        },
        "outputId": "b5dd950e-6b72-4e8e-e83d-b433dfac6cc7"
      },
      "execution_count": 23,
      "outputs": [
        {
          "output_type": "stream",
          "name": "stdout",
          "text": [
            "              precision    recall  f1-score   support\n",
            "\n",
            "           0       0.54      0.47      0.50    141619\n",
            "           1       0.79      0.79      0.79    141298\n",
            "           2       0.62      0.70      0.66    141609\n",
            "\n",
            "    accuracy                           0.65    424526\n",
            "   macro avg       0.65      0.65      0.65    424526\n",
            "weighted avg       0.65      0.65      0.65    424526\n",
            "\n"
          ]
        }
      ]
    },
    {
      "cell_type": "markdown",
      "source": [
        "- LightGBM"
      ],
      "metadata": {
        "id": "mDZhqogExm99"
      }
    },
    {
      "cell_type": "code",
      "source": [
        "# Define model and hyperparameters\n",
        "lgbmc = LGBMClassifier()\n",
        "lgbmc_grid = {'num_leaves': [6, 10, 20, 30, 50],\n",
        "              'min_child_samples': [100, 200, 300, 500],\n",
        "              'min_child_weight': [1e-5, 1e-3, 1e-2, 1e-1, 1, 1e1, 1e2, 1e3, 1e4],\n",
        "              'reg_alpha': [0, 1e-1, 1, 2, 5, 7, 10, 50, 100],\n",
        "              'reg_lambda': [0, 1e-1, 1, 5, 10, 20, 50, 100]}"
      ],
      "metadata": {
        "id": "YuNQbLy5sDDK"
      },
      "execution_count": 24,
      "outputs": []
    },
    {
      "cell_type": "code",
      "source": [
        "# Fit the model with the best hyperparameters\n",
        "lgbmc_best = randomsearch_cv(lgbmc, lgbmc_grid, 3, 3)\n",
        "\n",
        "lgbmc_best.fit(x_train, y_train)\n",
        "y_pred_lgbmc = lgbmc_best.predict(x_test)"
      ],
      "metadata": {
        "id": "7MhK4ERi9Osv",
        "colab": {
          "base_uri": "https://localhost:8080/"
        },
        "outputId": "d1b1a714-b333-4f31-f99e-4745dedff497"
      },
      "execution_count": null,
      "outputs": [
        {
          "output_type": "stream",
          "name": "stdout",
          "text": [
            "Fitting 3 folds for each of 3 candidates, totalling 9 fits\n"
          ]
        }
      ]
    },
    {
      "cell_type": "code",
      "execution_count": null,
      "metadata": {
        "id": "hdknGTpgXNpC"
      },
      "outputs": [],
      "source": [
        "# Evaluate the model\n",
        "report = classification_report(y_test, y_pred_lgbmc)\n",
        "print(report)"
      ]
    },
    {
      "cell_type": "markdown",
      "metadata": {
        "id": "rK5VQu_vOi0P"
      },
      "source": [
        "### Voting Classifier\n",
        "To properly utilize each model's strenght, and decrease the overall error, a voting classifier was used as our final model choice"
      ]
    },
    {
      "cell_type": "code",
      "execution_count": null,
      "metadata": {
        "colab": {
          "background_save": true
        },
        "id": "ee-MmXkYOZn9"
      },
      "outputs": [],
      "source": [
        "voting_clf = VotingClassifier(estimators=[('rfc', rfc_best), ('dtc', dtc_best), ('lgbmc', lgbmc_best)],\n",
        "                              voting='hard')\n",
        "\n",
        "voting_clf.fit(x_train, y_train)"
      ]
    },
    {
      "cell_type": "code",
      "source": [
        "y_pred = voting_clf.predict(x_test)\n",
        "report = classification_report(y_test, y_pred)\n",
        "print(report)"
      ],
      "metadata": {
        "id": "RRZIgho0Id_d"
      },
      "execution_count": null,
      "outputs": []
    },
    {
      "cell_type": "markdown",
      "metadata": {
        "id": "6Pvg3r19XNpD"
      },
      "source": [
        "### Save model to pickel file"
      ]
    },
    {
      "cell_type": "code",
      "execution_count": null,
      "metadata": {
        "colab": {
          "background_save": true
        },
        "id": "v1SCVuG0XNpD"
      },
      "outputs": [],
      "source": [
        "with open('model.pkl', 'wb') as file:\n",
        "  pickle.dump(voting_clf, file)"
      ]
    }
  ],
  "metadata": {
    "colab": {
      "collapsed_sections": [],
      "name": "Modeling.ipynb",
      "provenance": []
    },
    "kernelspec": {
      "display_name": "Python 3",
      "language": "python",
      "name": "python3"
    },
    "language_info": {
      "codemirror_mode": {
        "name": "ipython",
        "version": 3
      },
      "file_extension": ".py",
      "mimetype": "text/x-python",
      "name": "python",
      "nbconvert_exporter": "python",
      "pygments_lexer": "ipython3",
      "version": "3.9.1"
    },
    "accelerator": "GPU"
  },
  "nbformat": 4,
  "nbformat_minor": 0
}