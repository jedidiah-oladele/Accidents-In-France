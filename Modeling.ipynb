{
  "cells": [
    {
      "cell_type": "markdown",
      "metadata": {
        "id": "bLoGf73HXNoo"
      },
      "source": [
        "### Imports"
      ]
    },
    {
      "cell_type": "code",
      "execution_count": null,
      "metadata": {
        "id": "q1eW3T00urN0"
      },
      "outputs": [],
      "source": [
        "import pandas as pd\n",
        "import numpy as np\n",
        "\n",
        "from sklearn.preprocessing import LabelEncoder, StandardScaler\n",
        "from sklearn.model_selection import train_test_split, RandomizedSearchCV\n",
        "from sklearn.metrics import accuracy_score, f1_score, classification_report\n",
        "\n",
        "from sklearn.linear_model import LogisticRegression\n",
        "from sklearn.tree import DecisionTreeClassifier\n",
        "from sklearn.svm import SVC\n",
        "from sklearn.neighbors import KNeighborsClassifier\n",
        "from sklearn.ensemble import RandomForestClassifier\n",
        "from sklearn.ensemble import GradientBoostingClassifier\n",
        "from sklearn.ensemble import AdaBoostClassifier\n",
        "from xgboost import XGBClassifier\n",
        "from lightgbm import LGBMClassifier\n",
        "from sklearn.ensemble import VotingClassifier\n",
        "\n",
        "from imblearn.over_sampling import SMOTE\n",
        "import pickle\n",
        "\n",
        "import warnings \n",
        "warnings.filterwarnings('ignore')\n",
        "\n",
        "# For reproducibility\n",
        "np.random.seed(42)"
      ]
    },
    {
      "cell_type": "code",
      "source": [
        "!unzip datasets.zip"
      ],
      "metadata": {
        "colab": {
          "base_uri": "https://localhost:8080/"
        },
        "id": "kA00ODxl1ypT",
        "outputId": "7b214e24-3b12-4b8c-fcb5-8e85084511b7"
      },
      "execution_count": null,
      "outputs": [
        {
          "output_type": "stream",
          "name": "stdout",
          "text": [
            "Archive:  datasets.zip\n",
            "  inflating: resampled_dataset.csv   \n"
          ]
        }
      ]
    },
    {
      "cell_type": "code",
      "execution_count": null,
      "metadata": {
        "colab": {
          "base_uri": "https://localhost:8080/",
          "height": 357
        },
        "id": "58LebaejvR-S",
        "outputId": "1ed58618-6ea1-4d44-d8e8-f3b2b75bd634"
      },
      "outputs": [
        {
          "output_type": "execute_result",
          "data": {
            "text/plain": [
              "      accident_severity  hour          lighting         intersection  \\\n",
              "0  Hospitalized wounded    14          Full day  Out of intersection   \n",
              "1  Hospitalized wounded    18          Full day      In intersection   \n",
              "2  Hospitalized wounded    19          Full day  Out of intersection   \n",
              "3  Hospitalized wounded    19  Twilight or dawn  Out of intersection   \n",
              "4  Hospitalized wounded    11          Full day      In intersection   \n",
              "\n",
              "         atmosphere    collision          localisation user_category user_sex  \\\n",
              "0    Cloudy weather  By the side     In built-up areas        Driver     Male   \n",
              "1            Normal        Other     In built-up areas     Passenger   Female   \n",
              "2            Normal        Other  Out of agglomeration    Pedestrian     Male   \n",
              "3  Dazzling weather  By the side     In built-up areas        Driver     Male   \n",
              "4            Normal  By the side     In built-up areas     Passenger   Female   \n",
              "\n",
              "                   pedestrian_action      road_category   traff_regime  \\\n",
              "0                      not specified  Departmental Road  Bidirectional   \n",
              "1                      not specified  Departmental Road        One way   \n",
              "2  Opposite direction of the vehicle  Departmental Road  Bidirectional   \n",
              "3                      not specified       Communal Way  Bidirectional   \n",
              "4                      not specified       Communal Way  Bidirectional   \n",
              "\n",
              "  longitud_profile   drawing_plan surface_cond acc_situation  \n",
              "0             Dish   Curved right       normal   On the road  \n",
              "1             Dish    Curved left       normal   On the road  \n",
              "2             Dish   Curved right   not normal  Off the road  \n",
              "3             Dish  Straight part       normal   On the road  \n",
              "4             Dish  Straight part       normal   On the road  "
            ],
            "text/html": [
              "\n",
              "  <div id=\"df-a9a4e55d-72ab-4281-858e-e75c40032d51\">\n",
              "    <div class=\"colab-df-container\">\n",
              "      <div>\n",
              "<style scoped>\n",
              "    .dataframe tbody tr th:only-of-type {\n",
              "        vertical-align: middle;\n",
              "    }\n",
              "\n",
              "    .dataframe tbody tr th {\n",
              "        vertical-align: top;\n",
              "    }\n",
              "\n",
              "    .dataframe thead th {\n",
              "        text-align: right;\n",
              "    }\n",
              "</style>\n",
              "<table border=\"1\" class=\"dataframe\">\n",
              "  <thead>\n",
              "    <tr style=\"text-align: right;\">\n",
              "      <th></th>\n",
              "      <th>accident_severity</th>\n",
              "      <th>hour</th>\n",
              "      <th>lighting</th>\n",
              "      <th>intersection</th>\n",
              "      <th>atmosphere</th>\n",
              "      <th>collision</th>\n",
              "      <th>localisation</th>\n",
              "      <th>user_category</th>\n",
              "      <th>user_sex</th>\n",
              "      <th>pedestrian_action</th>\n",
              "      <th>road_category</th>\n",
              "      <th>traff_regime</th>\n",
              "      <th>longitud_profile</th>\n",
              "      <th>drawing_plan</th>\n",
              "      <th>surface_cond</th>\n",
              "      <th>acc_situation</th>\n",
              "    </tr>\n",
              "  </thead>\n",
              "  <tbody>\n",
              "    <tr>\n",
              "      <th>0</th>\n",
              "      <td>Hospitalized wounded</td>\n",
              "      <td>14</td>\n",
              "      <td>Full day</td>\n",
              "      <td>Out of intersection</td>\n",
              "      <td>Cloudy weather</td>\n",
              "      <td>By the side</td>\n",
              "      <td>In built-up areas</td>\n",
              "      <td>Driver</td>\n",
              "      <td>Male</td>\n",
              "      <td>not specified</td>\n",
              "      <td>Departmental Road</td>\n",
              "      <td>Bidirectional</td>\n",
              "      <td>Dish</td>\n",
              "      <td>Curved right</td>\n",
              "      <td>normal</td>\n",
              "      <td>On the road</td>\n",
              "    </tr>\n",
              "    <tr>\n",
              "      <th>1</th>\n",
              "      <td>Hospitalized wounded</td>\n",
              "      <td>18</td>\n",
              "      <td>Full day</td>\n",
              "      <td>In intersection</td>\n",
              "      <td>Normal</td>\n",
              "      <td>Other</td>\n",
              "      <td>In built-up areas</td>\n",
              "      <td>Passenger</td>\n",
              "      <td>Female</td>\n",
              "      <td>not specified</td>\n",
              "      <td>Departmental Road</td>\n",
              "      <td>One way</td>\n",
              "      <td>Dish</td>\n",
              "      <td>Curved left</td>\n",
              "      <td>normal</td>\n",
              "      <td>On the road</td>\n",
              "    </tr>\n",
              "    <tr>\n",
              "      <th>2</th>\n",
              "      <td>Hospitalized wounded</td>\n",
              "      <td>19</td>\n",
              "      <td>Full day</td>\n",
              "      <td>Out of intersection</td>\n",
              "      <td>Normal</td>\n",
              "      <td>Other</td>\n",
              "      <td>Out of agglomeration</td>\n",
              "      <td>Pedestrian</td>\n",
              "      <td>Male</td>\n",
              "      <td>Opposite direction of the vehicle</td>\n",
              "      <td>Departmental Road</td>\n",
              "      <td>Bidirectional</td>\n",
              "      <td>Dish</td>\n",
              "      <td>Curved right</td>\n",
              "      <td>not normal</td>\n",
              "      <td>Off the road</td>\n",
              "    </tr>\n",
              "    <tr>\n",
              "      <th>3</th>\n",
              "      <td>Hospitalized wounded</td>\n",
              "      <td>19</td>\n",
              "      <td>Twilight or dawn</td>\n",
              "      <td>Out of intersection</td>\n",
              "      <td>Dazzling weather</td>\n",
              "      <td>By the side</td>\n",
              "      <td>In built-up areas</td>\n",
              "      <td>Driver</td>\n",
              "      <td>Male</td>\n",
              "      <td>not specified</td>\n",
              "      <td>Communal Way</td>\n",
              "      <td>Bidirectional</td>\n",
              "      <td>Dish</td>\n",
              "      <td>Straight part</td>\n",
              "      <td>normal</td>\n",
              "      <td>On the road</td>\n",
              "    </tr>\n",
              "    <tr>\n",
              "      <th>4</th>\n",
              "      <td>Hospitalized wounded</td>\n",
              "      <td>11</td>\n",
              "      <td>Full day</td>\n",
              "      <td>In intersection</td>\n",
              "      <td>Normal</td>\n",
              "      <td>By the side</td>\n",
              "      <td>In built-up areas</td>\n",
              "      <td>Passenger</td>\n",
              "      <td>Female</td>\n",
              "      <td>not specified</td>\n",
              "      <td>Communal Way</td>\n",
              "      <td>Bidirectional</td>\n",
              "      <td>Dish</td>\n",
              "      <td>Straight part</td>\n",
              "      <td>normal</td>\n",
              "      <td>On the road</td>\n",
              "    </tr>\n",
              "  </tbody>\n",
              "</table>\n",
              "</div>\n",
              "      <button class=\"colab-df-convert\" onclick=\"convertToInteractive('df-a9a4e55d-72ab-4281-858e-e75c40032d51')\"\n",
              "              title=\"Convert this dataframe to an interactive table.\"\n",
              "              style=\"display:none;\">\n",
              "        \n",
              "  <svg xmlns=\"http://www.w3.org/2000/svg\" height=\"24px\"viewBox=\"0 0 24 24\"\n",
              "       width=\"24px\">\n",
              "    <path d=\"M0 0h24v24H0V0z\" fill=\"none\"/>\n",
              "    <path d=\"M18.56 5.44l.94 2.06.94-2.06 2.06-.94-2.06-.94-.94-2.06-.94 2.06-2.06.94zm-11 1L8.5 8.5l.94-2.06 2.06-.94-2.06-.94L8.5 2.5l-.94 2.06-2.06.94zm10 10l.94 2.06.94-2.06 2.06-.94-2.06-.94-.94-2.06-.94 2.06-2.06.94z\"/><path d=\"M17.41 7.96l-1.37-1.37c-.4-.4-.92-.59-1.43-.59-.52 0-1.04.2-1.43.59L10.3 9.45l-7.72 7.72c-.78.78-.78 2.05 0 2.83L4 21.41c.39.39.9.59 1.41.59.51 0 1.02-.2 1.41-.59l7.78-7.78 2.81-2.81c.8-.78.8-2.07 0-2.86zM5.41 20L4 18.59l7.72-7.72 1.47 1.35L5.41 20z\"/>\n",
              "  </svg>\n",
              "      </button>\n",
              "      \n",
              "  <style>\n",
              "    .colab-df-container {\n",
              "      display:flex;\n",
              "      flex-wrap:wrap;\n",
              "      gap: 12px;\n",
              "    }\n",
              "\n",
              "    .colab-df-convert {\n",
              "      background-color: #E8F0FE;\n",
              "      border: none;\n",
              "      border-radius: 50%;\n",
              "      cursor: pointer;\n",
              "      display: none;\n",
              "      fill: #1967D2;\n",
              "      height: 32px;\n",
              "      padding: 0 0 0 0;\n",
              "      width: 32px;\n",
              "    }\n",
              "\n",
              "    .colab-df-convert:hover {\n",
              "      background-color: #E2EBFA;\n",
              "      box-shadow: 0px 1px 2px rgba(60, 64, 67, 0.3), 0px 1px 3px 1px rgba(60, 64, 67, 0.15);\n",
              "      fill: #174EA6;\n",
              "    }\n",
              "\n",
              "    [theme=dark] .colab-df-convert {\n",
              "      background-color: #3B4455;\n",
              "      fill: #D2E3FC;\n",
              "    }\n",
              "\n",
              "    [theme=dark] .colab-df-convert:hover {\n",
              "      background-color: #434B5C;\n",
              "      box-shadow: 0px 1px 3px 1px rgba(0, 0, 0, 0.15);\n",
              "      filter: drop-shadow(0px 1px 2px rgba(0, 0, 0, 0.3));\n",
              "      fill: #FFFFFF;\n",
              "    }\n",
              "  </style>\n",
              "\n",
              "      <script>\n",
              "        const buttonEl =\n",
              "          document.querySelector('#df-a9a4e55d-72ab-4281-858e-e75c40032d51 button.colab-df-convert');\n",
              "        buttonEl.style.display =\n",
              "          google.colab.kernel.accessAllowed ? 'block' : 'none';\n",
              "\n",
              "        async function convertToInteractive(key) {\n",
              "          const element = document.querySelector('#df-a9a4e55d-72ab-4281-858e-e75c40032d51');\n",
              "          const dataTable =\n",
              "            await google.colab.kernel.invokeFunction('convertToInteractive',\n",
              "                                                     [key], {});\n",
              "          if (!dataTable) return;\n",
              "\n",
              "          const docLinkHtml = 'Like what you see? Visit the ' +\n",
              "            '<a target=\"_blank\" href=https://colab.research.google.com/notebooks/data_table.ipynb>data table notebook</a>'\n",
              "            + ' to learn more about interactive tables.';\n",
              "          element.innerHTML = '';\n",
              "          dataTable['output_type'] = 'display_data';\n",
              "          await google.colab.output.renderOutput(dataTable, element);\n",
              "          const docLink = document.createElement('div');\n",
              "          docLink.innerHTML = docLinkHtml;\n",
              "          element.appendChild(docLink);\n",
              "        }\n",
              "      </script>\n",
              "    </div>\n",
              "  </div>\n",
              "  "
            ]
          },
          "metadata": {},
          "execution_count": 3
        }
      ],
      "source": [
        "df = pd.read_csv('model_dataset.csv')\n",
        "\n",
        "# We move the target variable to the front, for simplicity\n",
        "df.insert(0, \"accident_severity\", df.pop(\"accident_severity\"))\n",
        "\n",
        "df.head()"
      ]
    },
    {
      "cell_type": "markdown",
      "metadata": {
        "id": "xkiSIdq9XNo2"
      },
      "source": [
        "### Encoding the features\n",
        "Ideally we would use an nomical encoding technique like one-hot encoding, to avoid misleading our model. But given the amount of features and unique values, one-hot encoding might be more detrimental than beneficial, in terms of memory and computional power consumption "
      ]
    },
    {
      "cell_type": "code",
      "execution_count": null,
      "metadata": {
        "colab": {
          "base_uri": "https://localhost:8080/",
          "height": 270
        },
        "id": "2562UMXRcJpt",
        "outputId": "60a95b1a-78b7-450a-fee4-bbb9d5219d99"
      },
      "outputs": [
        {
          "output_type": "execute_result",
          "data": {
            "text/plain": [
              "   accident_severity  hour  lighting  intersection  atmosphere  collision  \\\n",
              "0                  0    14         0             1           0          0   \n",
              "1                  0    18         0             0           5          4   \n",
              "2                  0    19         0             1           5          4   \n",
              "3                  0    19         4             1           1          0   \n",
              "4                  0    11         0             0           5          0   \n",
              "\n",
              "   localisation  user_category  user_sex  pedestrian_action  road_category  \\\n",
              "0             0              0         1                  7              1   \n",
              "1             0              1         0                  7              1   \n",
              "2             1              2         1                  3              1   \n",
              "3             0              0         1                  7              0   \n",
              "4             0              1         0                  7              0   \n",
              "\n",
              "   traff_regime  longitud_profile  drawing_plan  surface_cond  acc_situation  \n",
              "0             0                 0             1             0              1  \n",
              "1             1                 0             0             0              1  \n",
              "2             0                 0             1             1              0  \n",
              "3             0                 0             3             0              1  \n",
              "4             0                 0             3             0              1  "
            ],
            "text/html": [
              "\n",
              "  <div id=\"df-05235da8-b49f-4587-9d53-f015ad62cd31\">\n",
              "    <div class=\"colab-df-container\">\n",
              "      <div>\n",
              "<style scoped>\n",
              "    .dataframe tbody tr th:only-of-type {\n",
              "        vertical-align: middle;\n",
              "    }\n",
              "\n",
              "    .dataframe tbody tr th {\n",
              "        vertical-align: top;\n",
              "    }\n",
              "\n",
              "    .dataframe thead th {\n",
              "        text-align: right;\n",
              "    }\n",
              "</style>\n",
              "<table border=\"1\" class=\"dataframe\">\n",
              "  <thead>\n",
              "    <tr style=\"text-align: right;\">\n",
              "      <th></th>\n",
              "      <th>accident_severity</th>\n",
              "      <th>hour</th>\n",
              "      <th>lighting</th>\n",
              "      <th>intersection</th>\n",
              "      <th>atmosphere</th>\n",
              "      <th>collision</th>\n",
              "      <th>localisation</th>\n",
              "      <th>user_category</th>\n",
              "      <th>user_sex</th>\n",
              "      <th>pedestrian_action</th>\n",
              "      <th>road_category</th>\n",
              "      <th>traff_regime</th>\n",
              "      <th>longitud_profile</th>\n",
              "      <th>drawing_plan</th>\n",
              "      <th>surface_cond</th>\n",
              "      <th>acc_situation</th>\n",
              "    </tr>\n",
              "  </thead>\n",
              "  <tbody>\n",
              "    <tr>\n",
              "      <th>0</th>\n",
              "      <td>0</td>\n",
              "      <td>14</td>\n",
              "      <td>0</td>\n",
              "      <td>1</td>\n",
              "      <td>0</td>\n",
              "      <td>0</td>\n",
              "      <td>0</td>\n",
              "      <td>0</td>\n",
              "      <td>1</td>\n",
              "      <td>7</td>\n",
              "      <td>1</td>\n",
              "      <td>0</td>\n",
              "      <td>0</td>\n",
              "      <td>1</td>\n",
              "      <td>0</td>\n",
              "      <td>1</td>\n",
              "    </tr>\n",
              "    <tr>\n",
              "      <th>1</th>\n",
              "      <td>0</td>\n",
              "      <td>18</td>\n",
              "      <td>0</td>\n",
              "      <td>0</td>\n",
              "      <td>5</td>\n",
              "      <td>4</td>\n",
              "      <td>0</td>\n",
              "      <td>1</td>\n",
              "      <td>0</td>\n",
              "      <td>7</td>\n",
              "      <td>1</td>\n",
              "      <td>1</td>\n",
              "      <td>0</td>\n",
              "      <td>0</td>\n",
              "      <td>0</td>\n",
              "      <td>1</td>\n",
              "    </tr>\n",
              "    <tr>\n",
              "      <th>2</th>\n",
              "      <td>0</td>\n",
              "      <td>19</td>\n",
              "      <td>0</td>\n",
              "      <td>1</td>\n",
              "      <td>5</td>\n",
              "      <td>4</td>\n",
              "      <td>1</td>\n",
              "      <td>2</td>\n",
              "      <td>1</td>\n",
              "      <td>3</td>\n",
              "      <td>1</td>\n",
              "      <td>0</td>\n",
              "      <td>0</td>\n",
              "      <td>1</td>\n",
              "      <td>1</td>\n",
              "      <td>0</td>\n",
              "    </tr>\n",
              "    <tr>\n",
              "      <th>3</th>\n",
              "      <td>0</td>\n",
              "      <td>19</td>\n",
              "      <td>4</td>\n",
              "      <td>1</td>\n",
              "      <td>1</td>\n",
              "      <td>0</td>\n",
              "      <td>0</td>\n",
              "      <td>0</td>\n",
              "      <td>1</td>\n",
              "      <td>7</td>\n",
              "      <td>0</td>\n",
              "      <td>0</td>\n",
              "      <td>0</td>\n",
              "      <td>3</td>\n",
              "      <td>0</td>\n",
              "      <td>1</td>\n",
              "    </tr>\n",
              "    <tr>\n",
              "      <th>4</th>\n",
              "      <td>0</td>\n",
              "      <td>11</td>\n",
              "      <td>0</td>\n",
              "      <td>0</td>\n",
              "      <td>5</td>\n",
              "      <td>0</td>\n",
              "      <td>0</td>\n",
              "      <td>1</td>\n",
              "      <td>0</td>\n",
              "      <td>7</td>\n",
              "      <td>0</td>\n",
              "      <td>0</td>\n",
              "      <td>0</td>\n",
              "      <td>3</td>\n",
              "      <td>0</td>\n",
              "      <td>1</td>\n",
              "    </tr>\n",
              "  </tbody>\n",
              "</table>\n",
              "</div>\n",
              "      <button class=\"colab-df-convert\" onclick=\"convertToInteractive('df-05235da8-b49f-4587-9d53-f015ad62cd31')\"\n",
              "              title=\"Convert this dataframe to an interactive table.\"\n",
              "              style=\"display:none;\">\n",
              "        \n",
              "  <svg xmlns=\"http://www.w3.org/2000/svg\" height=\"24px\"viewBox=\"0 0 24 24\"\n",
              "       width=\"24px\">\n",
              "    <path d=\"M0 0h24v24H0V0z\" fill=\"none\"/>\n",
              "    <path d=\"M18.56 5.44l.94 2.06.94-2.06 2.06-.94-2.06-.94-.94-2.06-.94 2.06-2.06.94zm-11 1L8.5 8.5l.94-2.06 2.06-.94-2.06-.94L8.5 2.5l-.94 2.06-2.06.94zm10 10l.94 2.06.94-2.06 2.06-.94-2.06-.94-.94-2.06-.94 2.06-2.06.94z\"/><path d=\"M17.41 7.96l-1.37-1.37c-.4-.4-.92-.59-1.43-.59-.52 0-1.04.2-1.43.59L10.3 9.45l-7.72 7.72c-.78.78-.78 2.05 0 2.83L4 21.41c.39.39.9.59 1.41.59.51 0 1.02-.2 1.41-.59l7.78-7.78 2.81-2.81c.8-.78.8-2.07 0-2.86zM5.41 20L4 18.59l7.72-7.72 1.47 1.35L5.41 20z\"/>\n",
              "  </svg>\n",
              "      </button>\n",
              "      \n",
              "  <style>\n",
              "    .colab-df-container {\n",
              "      display:flex;\n",
              "      flex-wrap:wrap;\n",
              "      gap: 12px;\n",
              "    }\n",
              "\n",
              "    .colab-df-convert {\n",
              "      background-color: #E8F0FE;\n",
              "      border: none;\n",
              "      border-radius: 50%;\n",
              "      cursor: pointer;\n",
              "      display: none;\n",
              "      fill: #1967D2;\n",
              "      height: 32px;\n",
              "      padding: 0 0 0 0;\n",
              "      width: 32px;\n",
              "    }\n",
              "\n",
              "    .colab-df-convert:hover {\n",
              "      background-color: #E2EBFA;\n",
              "      box-shadow: 0px 1px 2px rgba(60, 64, 67, 0.3), 0px 1px 3px 1px rgba(60, 64, 67, 0.15);\n",
              "      fill: #174EA6;\n",
              "    }\n",
              "\n",
              "    [theme=dark] .colab-df-convert {\n",
              "      background-color: #3B4455;\n",
              "      fill: #D2E3FC;\n",
              "    }\n",
              "\n",
              "    [theme=dark] .colab-df-convert:hover {\n",
              "      background-color: #434B5C;\n",
              "      box-shadow: 0px 1px 3px 1px rgba(0, 0, 0, 0.15);\n",
              "      filter: drop-shadow(0px 1px 2px rgba(0, 0, 0, 0.3));\n",
              "      fill: #FFFFFF;\n",
              "    }\n",
              "  </style>\n",
              "\n",
              "      <script>\n",
              "        const buttonEl =\n",
              "          document.querySelector('#df-05235da8-b49f-4587-9d53-f015ad62cd31 button.colab-df-convert');\n",
              "        buttonEl.style.display =\n",
              "          google.colab.kernel.accessAllowed ? 'block' : 'none';\n",
              "\n",
              "        async function convertToInteractive(key) {\n",
              "          const element = document.querySelector('#df-05235da8-b49f-4587-9d53-f015ad62cd31');\n",
              "          const dataTable =\n",
              "            await google.colab.kernel.invokeFunction('convertToInteractive',\n",
              "                                                     [key], {});\n",
              "          if (!dataTable) return;\n",
              "\n",
              "          const docLinkHtml = 'Like what you see? Visit the ' +\n",
              "            '<a target=\"_blank\" href=https://colab.research.google.com/notebooks/data_table.ipynb>data table notebook</a>'\n",
              "            + ' to learn more about interactive tables.';\n",
              "          element.innerHTML = '';\n",
              "          dataTable['output_type'] = 'display_data';\n",
              "          await google.colab.output.renderOutput(dataTable, element);\n",
              "          const docLink = document.createElement('div');\n",
              "          docLink.innerHTML = docLinkHtml;\n",
              "          element.appendChild(docLink);\n",
              "        }\n",
              "      </script>\n",
              "    </div>\n",
              "  </div>\n",
              "  "
            ]
          },
          "metadata": {},
          "execution_count": 4
        }
      ],
      "source": [
        "le = LabelEncoder()\n",
        "\n",
        "for column in df.columns:\n",
        "    df[column] = le.fit_transform(df[column])\n",
        "    \n",
        "df.head()"
      ]
    },
    {
      "cell_type": "markdown",
      "metadata": {
        "id": "5aVG64PPXNo6"
      },
      "source": [
        "### Scaling and Train Test split"
      ]
    },
    {
      "cell_type": "code",
      "execution_count": null,
      "metadata": {
        "colab": {
          "base_uri": "https://localhost:8080/",
          "height": 270
        },
        "id": "ZERQhq17XNo7",
        "outputId": "9211f0b7-6e39-480d-b327-2da45eba3241"
      },
      "outputs": [
        {
          "output_type": "execute_result",
          "data": {
            "text/plain": [
              "       hour  lighting  intersection  atmosphere  collision  localisation  \\\n",
              "0  0.081432 -0.631485      0.632882   -4.346320  -1.338037     -0.448257   \n",
              "1  0.820654 -0.631485     -1.580073    0.316759   0.541847     -0.448257   \n",
              "2  1.005460 -0.631485      0.632882    0.316759   0.541847      2.230864   \n",
              "3  1.005460  2.473010      0.632882   -3.413704  -1.338037     -0.448257   \n",
              "4 -0.472985 -0.631485     -1.580073    0.316759  -1.338037     -0.448257   \n",
              "\n",
              "   user_category  user_sex  pedestrian_action  road_category  traff_regime  \\\n",
              "0      -0.603092  0.721062           0.425910       0.261653     -0.615365   \n",
              "1       0.680063 -1.386843           0.425910       0.261653      0.749132   \n",
              "2       1.963217  0.721062          -1.251721       0.261653     -0.615365   \n",
              "3      -0.603092  0.721062           0.425910      -0.750008     -0.615365   \n",
              "4       0.680063 -1.386843           0.425910      -0.750008     -0.615365   \n",
              "\n",
              "   longitud_profile  drawing_plan  surface_cond  acc_situation  \n",
              "0         -0.435524     -1.702742     -0.484417       0.309949  \n",
              "1         -0.435524     -2.770194     -0.484417       0.309949  \n",
              "2         -0.435524     -1.702742      2.064336      -3.226341  \n",
              "3         -0.435524      0.432162     -0.484417       0.309949  \n",
              "4         -0.435524      0.432162     -0.484417       0.309949  "
            ],
            "text/html": [
              "\n",
              "  <div id=\"df-e4ded0e0-a577-462f-a164-9f7347d75375\">\n",
              "    <div class=\"colab-df-container\">\n",
              "      <div>\n",
              "<style scoped>\n",
              "    .dataframe tbody tr th:only-of-type {\n",
              "        vertical-align: middle;\n",
              "    }\n",
              "\n",
              "    .dataframe tbody tr th {\n",
              "        vertical-align: top;\n",
              "    }\n",
              "\n",
              "    .dataframe thead th {\n",
              "        text-align: right;\n",
              "    }\n",
              "</style>\n",
              "<table border=\"1\" class=\"dataframe\">\n",
              "  <thead>\n",
              "    <tr style=\"text-align: right;\">\n",
              "      <th></th>\n",
              "      <th>hour</th>\n",
              "      <th>lighting</th>\n",
              "      <th>intersection</th>\n",
              "      <th>atmosphere</th>\n",
              "      <th>collision</th>\n",
              "      <th>localisation</th>\n",
              "      <th>user_category</th>\n",
              "      <th>user_sex</th>\n",
              "      <th>pedestrian_action</th>\n",
              "      <th>road_category</th>\n",
              "      <th>traff_regime</th>\n",
              "      <th>longitud_profile</th>\n",
              "      <th>drawing_plan</th>\n",
              "      <th>surface_cond</th>\n",
              "      <th>acc_situation</th>\n",
              "    </tr>\n",
              "  </thead>\n",
              "  <tbody>\n",
              "    <tr>\n",
              "      <th>0</th>\n",
              "      <td>0.081432</td>\n",
              "      <td>-0.631485</td>\n",
              "      <td>0.632882</td>\n",
              "      <td>-4.346320</td>\n",
              "      <td>-1.338037</td>\n",
              "      <td>-0.448257</td>\n",
              "      <td>-0.603092</td>\n",
              "      <td>0.721062</td>\n",
              "      <td>0.425910</td>\n",
              "      <td>0.261653</td>\n",
              "      <td>-0.615365</td>\n",
              "      <td>-0.435524</td>\n",
              "      <td>-1.702742</td>\n",
              "      <td>-0.484417</td>\n",
              "      <td>0.309949</td>\n",
              "    </tr>\n",
              "    <tr>\n",
              "      <th>1</th>\n",
              "      <td>0.820654</td>\n",
              "      <td>-0.631485</td>\n",
              "      <td>-1.580073</td>\n",
              "      <td>0.316759</td>\n",
              "      <td>0.541847</td>\n",
              "      <td>-0.448257</td>\n",
              "      <td>0.680063</td>\n",
              "      <td>-1.386843</td>\n",
              "      <td>0.425910</td>\n",
              "      <td>0.261653</td>\n",
              "      <td>0.749132</td>\n",
              "      <td>-0.435524</td>\n",
              "      <td>-2.770194</td>\n",
              "      <td>-0.484417</td>\n",
              "      <td>0.309949</td>\n",
              "    </tr>\n",
              "    <tr>\n",
              "      <th>2</th>\n",
              "      <td>1.005460</td>\n",
              "      <td>-0.631485</td>\n",
              "      <td>0.632882</td>\n",
              "      <td>0.316759</td>\n",
              "      <td>0.541847</td>\n",
              "      <td>2.230864</td>\n",
              "      <td>1.963217</td>\n",
              "      <td>0.721062</td>\n",
              "      <td>-1.251721</td>\n",
              "      <td>0.261653</td>\n",
              "      <td>-0.615365</td>\n",
              "      <td>-0.435524</td>\n",
              "      <td>-1.702742</td>\n",
              "      <td>2.064336</td>\n",
              "      <td>-3.226341</td>\n",
              "    </tr>\n",
              "    <tr>\n",
              "      <th>3</th>\n",
              "      <td>1.005460</td>\n",
              "      <td>2.473010</td>\n",
              "      <td>0.632882</td>\n",
              "      <td>-3.413704</td>\n",
              "      <td>-1.338037</td>\n",
              "      <td>-0.448257</td>\n",
              "      <td>-0.603092</td>\n",
              "      <td>0.721062</td>\n",
              "      <td>0.425910</td>\n",
              "      <td>-0.750008</td>\n",
              "      <td>-0.615365</td>\n",
              "      <td>-0.435524</td>\n",
              "      <td>0.432162</td>\n",
              "      <td>-0.484417</td>\n",
              "      <td>0.309949</td>\n",
              "    </tr>\n",
              "    <tr>\n",
              "      <th>4</th>\n",
              "      <td>-0.472985</td>\n",
              "      <td>-0.631485</td>\n",
              "      <td>-1.580073</td>\n",
              "      <td>0.316759</td>\n",
              "      <td>-1.338037</td>\n",
              "      <td>-0.448257</td>\n",
              "      <td>0.680063</td>\n",
              "      <td>-1.386843</td>\n",
              "      <td>0.425910</td>\n",
              "      <td>-0.750008</td>\n",
              "      <td>-0.615365</td>\n",
              "      <td>-0.435524</td>\n",
              "      <td>0.432162</td>\n",
              "      <td>-0.484417</td>\n",
              "      <td>0.309949</td>\n",
              "    </tr>\n",
              "  </tbody>\n",
              "</table>\n",
              "</div>\n",
              "      <button class=\"colab-df-convert\" onclick=\"convertToInteractive('df-e4ded0e0-a577-462f-a164-9f7347d75375')\"\n",
              "              title=\"Convert this dataframe to an interactive table.\"\n",
              "              style=\"display:none;\">\n",
              "        \n",
              "  <svg xmlns=\"http://www.w3.org/2000/svg\" height=\"24px\"viewBox=\"0 0 24 24\"\n",
              "       width=\"24px\">\n",
              "    <path d=\"M0 0h24v24H0V0z\" fill=\"none\"/>\n",
              "    <path d=\"M18.56 5.44l.94 2.06.94-2.06 2.06-.94-2.06-.94-.94-2.06-.94 2.06-2.06.94zm-11 1L8.5 8.5l.94-2.06 2.06-.94-2.06-.94L8.5 2.5l-.94 2.06-2.06.94zm10 10l.94 2.06.94-2.06 2.06-.94-2.06-.94-.94-2.06-.94 2.06-2.06.94z\"/><path d=\"M17.41 7.96l-1.37-1.37c-.4-.4-.92-.59-1.43-.59-.52 0-1.04.2-1.43.59L10.3 9.45l-7.72 7.72c-.78.78-.78 2.05 0 2.83L4 21.41c.39.39.9.59 1.41.59.51 0 1.02-.2 1.41-.59l7.78-7.78 2.81-2.81c.8-.78.8-2.07 0-2.86zM5.41 20L4 18.59l7.72-7.72 1.47 1.35L5.41 20z\"/>\n",
              "  </svg>\n",
              "      </button>\n",
              "      \n",
              "  <style>\n",
              "    .colab-df-container {\n",
              "      display:flex;\n",
              "      flex-wrap:wrap;\n",
              "      gap: 12px;\n",
              "    }\n",
              "\n",
              "    .colab-df-convert {\n",
              "      background-color: #E8F0FE;\n",
              "      border: none;\n",
              "      border-radius: 50%;\n",
              "      cursor: pointer;\n",
              "      display: none;\n",
              "      fill: #1967D2;\n",
              "      height: 32px;\n",
              "      padding: 0 0 0 0;\n",
              "      width: 32px;\n",
              "    }\n",
              "\n",
              "    .colab-df-convert:hover {\n",
              "      background-color: #E2EBFA;\n",
              "      box-shadow: 0px 1px 2px rgba(60, 64, 67, 0.3), 0px 1px 3px 1px rgba(60, 64, 67, 0.15);\n",
              "      fill: #174EA6;\n",
              "    }\n",
              "\n",
              "    [theme=dark] .colab-df-convert {\n",
              "      background-color: #3B4455;\n",
              "      fill: #D2E3FC;\n",
              "    }\n",
              "\n",
              "    [theme=dark] .colab-df-convert:hover {\n",
              "      background-color: #434B5C;\n",
              "      box-shadow: 0px 1px 3px 1px rgba(0, 0, 0, 0.15);\n",
              "      filter: drop-shadow(0px 1px 2px rgba(0, 0, 0, 0.3));\n",
              "      fill: #FFFFFF;\n",
              "    }\n",
              "  </style>\n",
              "\n",
              "      <script>\n",
              "        const buttonEl =\n",
              "          document.querySelector('#df-e4ded0e0-a577-462f-a164-9f7347d75375 button.colab-df-convert');\n",
              "        buttonEl.style.display =\n",
              "          google.colab.kernel.accessAllowed ? 'block' : 'none';\n",
              "\n",
              "        async function convertToInteractive(key) {\n",
              "          const element = document.querySelector('#df-e4ded0e0-a577-462f-a164-9f7347d75375');\n",
              "          const dataTable =\n",
              "            await google.colab.kernel.invokeFunction('convertToInteractive',\n",
              "                                                     [key], {});\n",
              "          if (!dataTable) return;\n",
              "\n",
              "          const docLinkHtml = 'Like what you see? Visit the ' +\n",
              "            '<a target=\"_blank\" href=https://colab.research.google.com/notebooks/data_table.ipynb>data table notebook</a>'\n",
              "            + ' to learn more about interactive tables.';\n",
              "          element.innerHTML = '';\n",
              "          dataTable['output_type'] = 'display_data';\n",
              "          await google.colab.output.renderOutput(dataTable, element);\n",
              "          const docLink = document.createElement('div');\n",
              "          docLink.innerHTML = docLinkHtml;\n",
              "          element.appendChild(docLink);\n",
              "        }\n",
              "      </script>\n",
              "    </div>\n",
              "  </div>\n",
              "  "
            ]
          },
          "metadata": {},
          "execution_count": 5
        }
      ],
      "source": [
        "X = df.drop(['accident_severity'], axis=1) \n",
        "Y = df['accident_severity']\n",
        "\n",
        "scaler = StandardScaler()\n",
        "X = pd.DataFrame(scaler.fit_transform(X), columns=X.columns)\n",
        "\n",
        "X.head()"
      ]
    },
    {
      "cell_type": "code",
      "source": [
        "Y.value_counts()"
      ],
      "metadata": {
        "colab": {
          "base_uri": "https://localhost:8080/"
        },
        "id": "HY_613pw01sH",
        "outputId": "58a549f2-5d2b-4871-c17e-fd4e90e4c96c"
      },
      "execution_count": null,
      "outputs": [
        {
          "output_type": "execute_result",
          "data": {
            "text/plain": [
              "2    471695\n",
              "0    321623\n",
              "1     46667\n",
              "Name: accident_severity, dtype: int64"
            ]
          },
          "metadata": {},
          "execution_count": 6
        }
      ]
    },
    {
      "cell_type": "code",
      "execution_count": null,
      "metadata": {
        "id": "NzYPqixsXNo8"
      },
      "outputs": [],
      "source": [
        "x_train, x_test, y_train, y_test = train_test_split(X, Y, test_size=0.3, stratify=Y)"
      ]
    },
    {
      "cell_type": "markdown",
      "metadata": {
        "id": "yAYPNgyOXNo-"
      },
      "source": [
        "### Modelling (initial)\n",
        "We try out several well known models with their default hyperparameters<br>\n",
        "Our key metrics are the\n",
        "-  **macro** average F1-score \n",
        "-  recall for class 1(severity=killed)"
      ]
    },
    {
      "cell_type": "code",
      "execution_count": null,
      "metadata": {
        "id": "Ws0XAmQrCxxS"
      },
      "outputs": [],
      "source": [
        "# !! IMPORTANT !!\n",
        "# Double check the train and test dataset that's in memory before using the functions below \n",
        "\n",
        "def run_model_reports(model):\n",
        "  \"\"\"Fits model, makes prediction, and evaluates the result\"\"\"\n",
        "\n",
        "  name = type(model).__name__\n",
        "    \n",
        "  # Fit the model\n",
        "  print(f\"Fitting {name} model...\")\n",
        "  model.fit(x_train, y_train)\n",
        "        \n",
        "  # Make predictions\n",
        "  print(\"Making predictions...\")\n",
        "  y_pred = model.predict(x_test)\n",
        "  \n",
        "  # Evaluate metrics\n",
        "  report = classification_report(y_test, y_pred)\n",
        "  # The dictionary format is neccesary for extracting our key metrics\n",
        "  report_dict = classification_report(y_test, y_pred, output_dict=True)\n",
        "\n",
        "  return report, report_dict\n",
        "\n",
        "\n",
        "\n",
        "def get_key_metrics(report_dict):\n",
        "  \"\"\"Extracts key metrics from the report\"\"\"\n",
        "\n",
        "  report_df =  pd.DataFrame(report_dict)\n",
        "\n",
        "  class_1_recall = report_df['1'].loc['recall']\n",
        "  macro_f1 = report_df['macro avg'].loc['f1-score']\n",
        "\n",
        "  return class_1_recall, macro_f1"
      ]
    },
    {
      "cell_type": "code",
      "execution_count": null,
      "metadata": {
        "id": "vZTGsGCJXNo-"
      },
      "outputs": [],
      "source": [
        "models = [LogisticRegression(n_jobs=-1),\n",
        "          DecisionTreeClassifier(),\n",
        "          RandomForestClassifier(n_jobs=-1),\n",
        "          GradientBoostingClassifier(),\n",
        "          AdaBoostClassifier(),\n",
        "          XGBClassifier(n_jobs=-1),\n",
        "          LGBMClassifier()]"
      ]
    },
    {
      "cell_type": "code",
      "execution_count": null,
      "metadata": {
        "id": "Q7BdTN4ND65b",
        "colab": {
          "base_uri": "https://localhost:8080/"
        },
        "outputId": "ecf66149-c74b-42db-f2ec-4b2c89b7e3f4"
      },
      "outputs": [
        {
          "output_type": "stream",
          "name": "stdout",
          "text": [
            "Fitting LogisticRegression model...\n",
            "Making predictions...\n",
            "              precision    recall  f1-score   support\n",
            "\n",
            "           0       0.63      0.37      0.46     96487\n",
            "           1       0.60      0.00      0.00     14000\n",
            "           2       0.66      0.91      0.77    141509\n",
            "\n",
            "    accuracy                           0.65    251996\n",
            "   macro avg       0.63      0.43      0.41    251996\n",
            "weighted avg       0.65      0.65      0.61    251996\n",
            "\n",
            "Class 1 Recall: 0.0002\n",
            "Macro F1-Score: 0.4109\n",
            "-----------------------------------------------------\n",
            "Fitting DecisionTreeClassifier model...\n",
            "Making predictions...\n",
            "              precision    recall  f1-score   support\n",
            "\n",
            "           0       0.54      0.47      0.50     96487\n",
            "           1       0.17      0.09      0.12     14000\n",
            "           2       0.68      0.77      0.73    141509\n",
            "\n",
            "    accuracy                           0.62    251996\n",
            "   macro avg       0.46      0.44      0.45    251996\n",
            "weighted avg       0.60      0.62      0.61    251996\n",
            "\n",
            "Class 1 Recall: 0.091\n",
            "Macro F1-Score: 0.4482\n",
            "-----------------------------------------------------\n",
            "Fitting RandomForestClassifier model...\n",
            "Making predictions...\n",
            "              precision    recall  f1-score   support\n",
            "\n",
            "           0       0.57      0.46      0.51     96487\n",
            "           1       0.21      0.07      0.10     14000\n",
            "           2       0.69      0.82      0.75    141509\n",
            "\n",
            "    accuracy                           0.64    251996\n",
            "   macro avg       0.49      0.45      0.45    251996\n",
            "weighted avg       0.61      0.64      0.62    251996\n",
            "\n",
            "Class 1 Recall: 0.0691\n",
            "Macro F1-Score: 0.4523\n",
            "-----------------------------------------------------\n",
            "Fitting GradientBoostingClassifier model...\n",
            "Making predictions...\n",
            "              precision    recall  f1-score   support\n",
            "\n",
            "           0       0.62      0.46      0.53     96487\n",
            "           1       0.47      0.01      0.01     14000\n",
            "           2       0.69      0.88      0.77    141509\n",
            "\n",
            "    accuracy                           0.67    251996\n",
            "   macro avg       0.59      0.45      0.44    251996\n",
            "weighted avg       0.65      0.67      0.64    251996\n",
            "\n",
            "Class 1 Recall: 0.0066\n",
            "Macro F1-Score: 0.4384\n",
            "-----------------------------------------------------\n",
            "Fitting AdaBoostClassifier model...\n",
            "Making predictions...\n",
            "              precision    recall  f1-score   support\n",
            "\n",
            "           0       0.63      0.43      0.51     96487\n",
            "           1       0.33      0.01      0.03     14000\n",
            "           2       0.68      0.89      0.77    141509\n",
            "\n",
            "    accuracy                           0.67    251996\n",
            "   macro avg       0.54      0.44      0.44    251996\n",
            "weighted avg       0.64      0.67      0.63    251996\n",
            "\n",
            "Class 1 Recall: 0.0136\n",
            "Macro F1-Score: 0.4356\n",
            "-----------------------------------------------------\n",
            "Fitting XGBClassifier model...\n",
            "Making predictions...\n",
            "              precision    recall  f1-score   support\n",
            "\n",
            "           0       0.62      0.45      0.52     96487\n",
            "           1       0.52      0.00      0.00     14000\n",
            "           2       0.69      0.89      0.77    141509\n",
            "\n",
            "    accuracy                           0.67    251996\n",
            "   macro avg       0.61      0.45      0.43    251996\n",
            "weighted avg       0.65      0.67      0.63    251996\n",
            "\n",
            "Class 1 Recall: 0.0021\n",
            "Macro F1-Score: 0.4334\n",
            "-----------------------------------------------------\n",
            "Fitting LGBMClassifier model...\n",
            "Making predictions...\n",
            "              precision    recall  f1-score   support\n",
            "\n",
            "           0       0.62      0.47      0.53     96487\n",
            "           1       0.56      0.01      0.02     14000\n",
            "           2       0.69      0.88      0.77    141509\n",
            "\n",
            "    accuracy                           0.67    251996\n",
            "   macro avg       0.62      0.45      0.44    251996\n",
            "weighted avg       0.66      0.67      0.64    251996\n",
            "\n",
            "Class 1 Recall: 0.0099\n",
            "Macro F1-Score: 0.4425\n",
            "-----------------------------------------------------\n"
          ]
        }
      ],
      "source": [
        "for m in models:\n",
        "    report, report_dict = run_model_reports(m)\n",
        "    recall, f1 = get_key_metrics(report_dict)\n",
        "    \n",
        "    print(report)\n",
        "    print(f'Class 1 Recall: {round(recall, 4)}')\n",
        "    print(f'Macro F1-Score: {round(f1, 4)}')\n",
        "    print('-----------------------------------------------------')"
      ]
    },
    {
      "cell_type": "markdown",
      "metadata": {
        "id": "ukuTTq6Nr_WZ"
      },
      "source": [
        "### Resampling\n",
        "From the evaluation above, the decision tree model had the best recall for class 1 (score of 0.09), and most of the models achieved a macro average F1-score of around 0.44.<br>\n",
        "These are poor metrics, and are due to the imbalanced dataset, thus we proceeded to upsample our minority classes: 1(killed) and class 0(hospitalized)"
      ]
    },
    {
      "cell_type": "code",
      "execution_count": null,
      "metadata": {
        "colab": {
          "base_uri": "https://localhost:8080/"
        },
        "id": "w8GSK10r5B4r",
        "outputId": "06aa257e-0137-4cca-9162-31bd164f73a0"
      },
      "outputs": [
        {
          "output_type": "execute_result",
          "data": {
            "text/plain": [
              "0    471695\n",
              "2    471695\n",
              "1    471695\n",
              "Name: accident_severity, dtype: int64"
            ]
          },
          "metadata": {},
          "execution_count": 12
        }
      ],
      "source": [
        "sm = SMOTE(sampling_strategy='all', n_jobs=-1)\n",
        "resampled_X, resampled_Y = sm.fit_resample(X, Y)\n",
        "\n",
        "# Check the new class distribution\n",
        "resampled_Y.value_counts()"
      ]
    },
    {
      "cell_type": "code",
      "execution_count": null,
      "metadata": {
        "id": "ve6bcFjlqMy2"
      },
      "outputs": [],
      "source": [
        "resampled_df = pd.concat([resampled_Y, resampled_X], axis=1)\n",
        "# Shuffle the dataset\n",
        "resampled_df = resampled_df.sample(frac=1).reset_index(drop=True)"
      ]
    },
    {
      "cell_type": "markdown",
      "metadata": {
        "id": "MhTW0gfS9qke"
      },
      "source": [
        "To avoid re-running the SMOTE resample function, the dataset was saved to a csv file"
      ]
    },
    {
      "cell_type": "code",
      "execution_count": null,
      "metadata": {
        "id": "5D8J3g4u9MqM"
      },
      "outputs": [],
      "source": [
        "resampled_df.to_csv('resampled_dataset.csv', index=False)"
      ]
    },
    {
      "cell_type": "code",
      "execution_count": null,
      "metadata": {
        "colab": {
          "base_uri": "https://localhost:8080/",
          "height": 270
        },
        "id": "-_e3Xfx89lmm",
        "outputId": "68a09441-4b01-452d-ab19-02496063fa20"
      },
      "outputs": [
        {
          "output_type": "execute_result",
          "data": {
            "text/plain": [
              "   accident_severity      hour  lighting  intersection  atmosphere  collision  \\\n",
              "0                  2  0.635849 -0.631485     -1.580073    0.316759  -1.338037   \n",
              "1                  1 -2.264236  1.696886      0.632882    0.316759   0.071876   \n",
              "2                  0 -1.235226 -0.631485      0.632882    0.316759   0.541847   \n",
              "3                  0  0.635849 -0.631485      0.632882    0.316759  -1.338037   \n",
              "4                  0 -0.103374 -0.631485     -1.580073   -0.615857  -1.338037   \n",
              "\n",
              "   localisation  user_category  user_sex  pedestrian_action  road_category  \\\n",
              "0     -0.448257      -0.603092  0.721062           0.425910      -0.750008   \n",
              "1      2.230864      -0.603092  0.721062           0.425910       0.261653   \n",
              "2      2.230864       1.963217  0.721062          -2.509945       2.284975   \n",
              "3     -0.448257      -0.603092  0.721062           0.425910      -0.750008   \n",
              "4     -0.448257       0.680063 -1.386843           0.425910      -0.750008   \n",
              "\n",
              "   traff_regime  longitud_profile  drawing_plan  surface_cond  acc_situation  \n",
              "0     -0.615365          2.426502      0.432162     -0.484417       0.309949  \n",
              "1     -0.615365         -0.435524      0.432162     -0.484417       0.309949  \n",
              "2     -0.615365         -0.435524      0.432162     -0.484417       0.309949  \n",
              "3     -0.615365         -0.435524      0.432162     -0.484417       0.309949  \n",
              "4     -0.615365         -0.435524      0.432162      2.064336       0.309949  "
            ],
            "text/html": [
              "\n",
              "  <div id=\"df-ef349054-12f6-4cb6-af05-2fad340cc37f\">\n",
              "    <div class=\"colab-df-container\">\n",
              "      <div>\n",
              "<style scoped>\n",
              "    .dataframe tbody tr th:only-of-type {\n",
              "        vertical-align: middle;\n",
              "    }\n",
              "\n",
              "    .dataframe tbody tr th {\n",
              "        vertical-align: top;\n",
              "    }\n",
              "\n",
              "    .dataframe thead th {\n",
              "        text-align: right;\n",
              "    }\n",
              "</style>\n",
              "<table border=\"1\" class=\"dataframe\">\n",
              "  <thead>\n",
              "    <tr style=\"text-align: right;\">\n",
              "      <th></th>\n",
              "      <th>accident_severity</th>\n",
              "      <th>hour</th>\n",
              "      <th>lighting</th>\n",
              "      <th>intersection</th>\n",
              "      <th>atmosphere</th>\n",
              "      <th>collision</th>\n",
              "      <th>localisation</th>\n",
              "      <th>user_category</th>\n",
              "      <th>user_sex</th>\n",
              "      <th>pedestrian_action</th>\n",
              "      <th>road_category</th>\n",
              "      <th>traff_regime</th>\n",
              "      <th>longitud_profile</th>\n",
              "      <th>drawing_plan</th>\n",
              "      <th>surface_cond</th>\n",
              "      <th>acc_situation</th>\n",
              "    </tr>\n",
              "  </thead>\n",
              "  <tbody>\n",
              "    <tr>\n",
              "      <th>0</th>\n",
              "      <td>2</td>\n",
              "      <td>0.635849</td>\n",
              "      <td>-0.631485</td>\n",
              "      <td>-1.580073</td>\n",
              "      <td>0.316759</td>\n",
              "      <td>-1.338037</td>\n",
              "      <td>-0.448257</td>\n",
              "      <td>-0.603092</td>\n",
              "      <td>0.721062</td>\n",
              "      <td>0.425910</td>\n",
              "      <td>-0.750008</td>\n",
              "      <td>-0.615365</td>\n",
              "      <td>2.426502</td>\n",
              "      <td>0.432162</td>\n",
              "      <td>-0.484417</td>\n",
              "      <td>0.309949</td>\n",
              "    </tr>\n",
              "    <tr>\n",
              "      <th>1</th>\n",
              "      <td>1</td>\n",
              "      <td>-2.264236</td>\n",
              "      <td>1.696886</td>\n",
              "      <td>0.632882</td>\n",
              "      <td>0.316759</td>\n",
              "      <td>0.071876</td>\n",
              "      <td>2.230864</td>\n",
              "      <td>-0.603092</td>\n",
              "      <td>0.721062</td>\n",
              "      <td>0.425910</td>\n",
              "      <td>0.261653</td>\n",
              "      <td>-0.615365</td>\n",
              "      <td>-0.435524</td>\n",
              "      <td>0.432162</td>\n",
              "      <td>-0.484417</td>\n",
              "      <td>0.309949</td>\n",
              "    </tr>\n",
              "    <tr>\n",
              "      <th>2</th>\n",
              "      <td>0</td>\n",
              "      <td>-1.235226</td>\n",
              "      <td>-0.631485</td>\n",
              "      <td>0.632882</td>\n",
              "      <td>0.316759</td>\n",
              "      <td>0.541847</td>\n",
              "      <td>2.230864</td>\n",
              "      <td>1.963217</td>\n",
              "      <td>0.721062</td>\n",
              "      <td>-2.509945</td>\n",
              "      <td>2.284975</td>\n",
              "      <td>-0.615365</td>\n",
              "      <td>-0.435524</td>\n",
              "      <td>0.432162</td>\n",
              "      <td>-0.484417</td>\n",
              "      <td>0.309949</td>\n",
              "    </tr>\n",
              "    <tr>\n",
              "      <th>3</th>\n",
              "      <td>0</td>\n",
              "      <td>0.635849</td>\n",
              "      <td>-0.631485</td>\n",
              "      <td>0.632882</td>\n",
              "      <td>0.316759</td>\n",
              "      <td>-1.338037</td>\n",
              "      <td>-0.448257</td>\n",
              "      <td>-0.603092</td>\n",
              "      <td>0.721062</td>\n",
              "      <td>0.425910</td>\n",
              "      <td>-0.750008</td>\n",
              "      <td>-0.615365</td>\n",
              "      <td>-0.435524</td>\n",
              "      <td>0.432162</td>\n",
              "      <td>-0.484417</td>\n",
              "      <td>0.309949</td>\n",
              "    </tr>\n",
              "    <tr>\n",
              "      <th>4</th>\n",
              "      <td>0</td>\n",
              "      <td>-0.103374</td>\n",
              "      <td>-0.631485</td>\n",
              "      <td>-1.580073</td>\n",
              "      <td>-0.615857</td>\n",
              "      <td>-1.338037</td>\n",
              "      <td>-0.448257</td>\n",
              "      <td>0.680063</td>\n",
              "      <td>-1.386843</td>\n",
              "      <td>0.425910</td>\n",
              "      <td>-0.750008</td>\n",
              "      <td>-0.615365</td>\n",
              "      <td>-0.435524</td>\n",
              "      <td>0.432162</td>\n",
              "      <td>2.064336</td>\n",
              "      <td>0.309949</td>\n",
              "    </tr>\n",
              "  </tbody>\n",
              "</table>\n",
              "</div>\n",
              "      <button class=\"colab-df-convert\" onclick=\"convertToInteractive('df-ef349054-12f6-4cb6-af05-2fad340cc37f')\"\n",
              "              title=\"Convert this dataframe to an interactive table.\"\n",
              "              style=\"display:none;\">\n",
              "        \n",
              "  <svg xmlns=\"http://www.w3.org/2000/svg\" height=\"24px\"viewBox=\"0 0 24 24\"\n",
              "       width=\"24px\">\n",
              "    <path d=\"M0 0h24v24H0V0z\" fill=\"none\"/>\n",
              "    <path d=\"M18.56 5.44l.94 2.06.94-2.06 2.06-.94-2.06-.94-.94-2.06-.94 2.06-2.06.94zm-11 1L8.5 8.5l.94-2.06 2.06-.94-2.06-.94L8.5 2.5l-.94 2.06-2.06.94zm10 10l.94 2.06.94-2.06 2.06-.94-2.06-.94-.94-2.06-.94 2.06-2.06.94z\"/><path d=\"M17.41 7.96l-1.37-1.37c-.4-.4-.92-.59-1.43-.59-.52 0-1.04.2-1.43.59L10.3 9.45l-7.72 7.72c-.78.78-.78 2.05 0 2.83L4 21.41c.39.39.9.59 1.41.59.51 0 1.02-.2 1.41-.59l7.78-7.78 2.81-2.81c.8-.78.8-2.07 0-2.86zM5.41 20L4 18.59l7.72-7.72 1.47 1.35L5.41 20z\"/>\n",
              "  </svg>\n",
              "      </button>\n",
              "      \n",
              "  <style>\n",
              "    .colab-df-container {\n",
              "      display:flex;\n",
              "      flex-wrap:wrap;\n",
              "      gap: 12px;\n",
              "    }\n",
              "\n",
              "    .colab-df-convert {\n",
              "      background-color: #E8F0FE;\n",
              "      border: none;\n",
              "      border-radius: 50%;\n",
              "      cursor: pointer;\n",
              "      display: none;\n",
              "      fill: #1967D2;\n",
              "      height: 32px;\n",
              "      padding: 0 0 0 0;\n",
              "      width: 32px;\n",
              "    }\n",
              "\n",
              "    .colab-df-convert:hover {\n",
              "      background-color: #E2EBFA;\n",
              "      box-shadow: 0px 1px 2px rgba(60, 64, 67, 0.3), 0px 1px 3px 1px rgba(60, 64, 67, 0.15);\n",
              "      fill: #174EA6;\n",
              "    }\n",
              "\n",
              "    [theme=dark] .colab-df-convert {\n",
              "      background-color: #3B4455;\n",
              "      fill: #D2E3FC;\n",
              "    }\n",
              "\n",
              "    [theme=dark] .colab-df-convert:hover {\n",
              "      background-color: #434B5C;\n",
              "      box-shadow: 0px 1px 3px 1px rgba(0, 0, 0, 0.15);\n",
              "      filter: drop-shadow(0px 1px 2px rgba(0, 0, 0, 0.3));\n",
              "      fill: #FFFFFF;\n",
              "    }\n",
              "  </style>\n",
              "\n",
              "      <script>\n",
              "        const buttonEl =\n",
              "          document.querySelector('#df-ef349054-12f6-4cb6-af05-2fad340cc37f button.colab-df-convert');\n",
              "        buttonEl.style.display =\n",
              "          google.colab.kernel.accessAllowed ? 'block' : 'none';\n",
              "\n",
              "        async function convertToInteractive(key) {\n",
              "          const element = document.querySelector('#df-ef349054-12f6-4cb6-af05-2fad340cc37f');\n",
              "          const dataTable =\n",
              "            await google.colab.kernel.invokeFunction('convertToInteractive',\n",
              "                                                     [key], {});\n",
              "          if (!dataTable) return;\n",
              "\n",
              "          const docLinkHtml = 'Like what you see? Visit the ' +\n",
              "            '<a target=\"_blank\" href=https://colab.research.google.com/notebooks/data_table.ipynb>data table notebook</a>'\n",
              "            + ' to learn more about interactive tables.';\n",
              "          element.innerHTML = '';\n",
              "          dataTable['output_type'] = 'display_data';\n",
              "          await google.colab.output.renderOutput(dataTable, element);\n",
              "          const docLink = document.createElement('div');\n",
              "          docLink.innerHTML = docLinkHtml;\n",
              "          element.appendChild(docLink);\n",
              "        }\n",
              "      </script>\n",
              "    </div>\n",
              "  </div>\n",
              "  "
            ]
          },
          "metadata": {},
          "execution_count": 7
        }
      ],
      "source": [
        "resampled_df = pd.read_csv('resampled_dataset.csv')\n",
        "resampled_df.head()"
      ]
    },
    {
      "cell_type": "markdown",
      "metadata": {
        "id": "KPEe2E3y952q"
      },
      "source": [
        "### Train test split on the new resampled dataset"
      ]
    },
    {
      "cell_type": "code",
      "execution_count": null,
      "metadata": {
        "id": "qzVIL2AMqBiv"
      },
      "outputs": [],
      "source": [
        "resampled_X = resampled_df.drop(['accident_severity'], axis=1) \n",
        "resampled_Y = resampled_df['accident_severity']\n",
        "\n",
        "x_train, x_test, y_train, y_test = train_test_split(resampled_X, resampled_Y, test_size=0.3)"
      ]
    },
    {
      "cell_type": "markdown",
      "metadata": {
        "id": "qTJFDwThGewg"
      },
      "source": [
        "### Modelling (second)"
      ]
    },
    {
      "cell_type": "code",
      "execution_count": null,
      "metadata": {
        "colab": {
          "base_uri": "https://localhost:8080/"
        },
        "id": "BCyZTjEoXNo_",
        "outputId": "74a25b1e-212a-4cc5-8392-2cef83091351"
      },
      "outputs": [
        {
          "output_type": "stream",
          "name": "stdout",
          "text": [
            "Fitting LogisticRegression model...\n",
            "Making predictions...\n",
            "              precision    recall  f1-score   support\n",
            "\n",
            "           0       0.39      0.17      0.24    141522\n",
            "           1       0.58      0.62      0.60    141596\n",
            "           2       0.52      0.78      0.63    141408\n",
            "\n",
            "    accuracy                           0.52    424526\n",
            "   macro avg       0.50      0.52      0.49    424526\n",
            "weighted avg       0.50      0.52      0.49    424526\n",
            "\n",
            "Class 1 Recall: 0.6153\n",
            "Macro F1-Score: 0.4894\n",
            "-----------------------------------------------------\n",
            "Fitting DecisionTreeClassifier model...\n",
            "Making predictions...\n",
            "              precision    recall  f1-score   support\n",
            "\n",
            "           0       0.53      0.46      0.50    141522\n",
            "           1       0.79      0.79      0.79    141596\n",
            "           2       0.62      0.71      0.66    141408\n",
            "\n",
            "    accuracy                           0.65    424526\n",
            "   macro avg       0.65      0.65      0.65    424526\n",
            "weighted avg       0.65      0.65      0.65    424526\n",
            "\n",
            "Class 1 Recall: 0.7883\n",
            "Macro F1-Score: 0.649\n",
            "-----------------------------------------------------\n",
            "Fitting RandomForestClassifier model...\n",
            "Making predictions...\n",
            "              precision    recall  f1-score   support\n",
            "\n",
            "           0       0.58      0.46      0.52    141522\n",
            "           1       0.81      0.82      0.82    141596\n",
            "           2       0.63      0.75      0.68    141408\n",
            "\n",
            "    accuracy                           0.68    424526\n",
            "   macro avg       0.67      0.68      0.67    424526\n",
            "weighted avg       0.67      0.68      0.67    424526\n",
            "\n",
            "Class 1 Recall: 0.822\n",
            "Macro F1-Score: 0.6715\n",
            "-----------------------------------------------------\n",
            "Fitting GradientBoostingClassifier model...\n",
            "Making predictions...\n",
            "              precision    recall  f1-score   support\n",
            "\n",
            "           0       0.49      0.29      0.36    141522\n",
            "           1       0.67      0.74      0.71    141596\n",
            "           2       0.59      0.78      0.68    141408\n",
            "\n",
            "    accuracy                           0.60    424526\n",
            "   macro avg       0.59      0.60      0.58    424526\n",
            "weighted avg       0.59      0.60      0.58    424526\n",
            "\n",
            "Class 1 Recall: 0.7424\n",
            "Macro F1-Score: 0.5808\n",
            "-----------------------------------------------------\n",
            "Fitting AdaBoostClassifier model...\n",
            "Making predictions...\n",
            "              precision    recall  f1-score   support\n",
            "\n",
            "           0       0.43      0.26      0.33    141522\n",
            "           1       0.63      0.68      0.65    141596\n",
            "           2       0.59      0.76      0.66    141408\n",
            "\n",
            "    accuracy                           0.57    424526\n",
            "   macro avg       0.55      0.57      0.55    424526\n",
            "weighted avg       0.55      0.57      0.55    424526\n",
            "\n",
            "Class 1 Recall: 0.6849\n",
            "Macro F1-Score: 0.5478\n",
            "-----------------------------------------------------\n",
            "Fitting XGBClassifier model...\n",
            "Making predictions...\n",
            "              precision    recall  f1-score   support\n",
            "\n",
            "           0       0.49      0.24      0.32    141522\n",
            "           1       0.65      0.75      0.70    141596\n",
            "           2       0.58      0.79      0.67    141408\n",
            "\n",
            "    accuracy                           0.60    424526\n",
            "   macro avg       0.58      0.60      0.57    424526\n",
            "weighted avg       0.58      0.60      0.57    424526\n",
            "\n",
            "Class 1 Recall: 0.7485\n",
            "Macro F1-Score: 0.5651\n",
            "-----------------------------------------------------\n",
            "Fitting LGBMClassifier model...\n",
            "Making predictions...\n",
            "              precision    recall  f1-score   support\n",
            "\n",
            "           0       0.53      0.35      0.42    141522\n",
            "           1       0.75      0.78      0.76    141596\n",
            "           2       0.62      0.81      0.70    141408\n",
            "\n",
            "    accuracy                           0.64    424526\n",
            "   macro avg       0.63      0.64      0.63    424526\n",
            "weighted avg       0.63      0.64      0.63    424526\n",
            "\n",
            "Class 1 Recall: 0.7791\n",
            "Macro F1-Score: 0.6282\n",
            "-----------------------------------------------------\n"
          ]
        }
      ],
      "source": [
        "for m in models:\n",
        "    report, report_dict = run_model_reports(m)\n",
        "    recall, f1 = get_key_metrics(report_dict)\n",
        "    \n",
        "    print(report)\n",
        "    print(f'Class 1 Recall: {round(recall, 4)}')\n",
        "    print(f'Macro F1-Score: {round(f1, 4)}')\n",
        "    print('-----------------------------------------------------')"
      ]
    },
    {
      "cell_type": "markdown",
      "source": [
        "We can see a great inprovement in our metrics after resampling<br>\n",
        "Our best model so far is the Random Forest model (Class 1 Recall: 0.822\n",
        "Macro F1-Score: 0.6715)<br>\n",
        "However we were still not satisfied with it's performance, our next approach was to select our top 3 models and tune thier hyperparamters to obtain better results.<br>\n",
        "This time our key metrics is to improve **accuracy** and the **recall for class 0**"
      ],
      "metadata": {
        "id": "FV_4J5P6vaGy"
      }
    },
    {
      "cell_type": "markdown",
      "metadata": {
        "id": "mxCkh7egXNpC"
      },
      "source": [
        "### Hyperparameter tunning\n",
        "The best performing models were trained using a random search CV"
      ]
    },
    {
      "cell_type": "code",
      "source": [
        "def randomsearch_cv(model, grid, cv, n_iter):\n",
        "  \"\"\"Performs the random search and returns the best model\"\"\"\n",
        "\n",
        "  rs_cv = RandomizedSearchCV(estimator=model, param_distributions=grid, cv=cv,\n",
        "                             n_iter=n_iter, scoring=\"accuracy\", n_jobs=-1, verbose=1)\n",
        "  \n",
        "  rs_cv.fit(x_train, y_train)\n",
        "  \n",
        "  print(f'Best hyperparameters: {rs_cv.best_params_}')\n",
        "\n",
        "  return rs_cv.best_estimator_"
      ],
      "metadata": {
        "id": "xQc6CV_F0uZP"
      },
      "execution_count": null,
      "outputs": []
    },
    {
      "cell_type": "markdown",
      "source": [
        "- Random Forest"
      ],
      "metadata": {
        "id": "HsfWILy2xVd9"
      }
    },
    {
      "cell_type": "code",
      "execution_count": null,
      "metadata": {
        "id": "jCE_KQncXNpC"
      },
      "outputs": [],
      "source": [
        "# Define model and hyperparameters\n",
        "rfc = RandomForestClassifier(n_jobs=-1)\n",
        "rfc_grid = {'n_estimators': [50, 100, 200, 500, 1000],\n",
        "            'max_features': ['auto', 'sqrt', 'log2', 'none']}"
      ]
    },
    {
      "cell_type": "code",
      "source": [
        "# Fit the model with the best hyperparameters\n",
        "rfc_best = randomsearch_cv(rfc, rfc_grid, 2, 2)\n",
        "\n",
        "rfc_best.fit(x_train, y_train)\n",
        "y_pred_rfc = rfc_best.predict(x_test)"
      ],
      "metadata": {
        "id": "k5LLrtOQtzX7",
        "colab": {
          "base_uri": "https://localhost:8080/"
        },
        "outputId": "6993da38-f171-4a1c-80e0-cb6683424971"
      },
      "execution_count": null,
      "outputs": [
        {
          "output_type": "stream",
          "name": "stdout",
          "text": [
            "Fitting 2 folds for each of 2 candidates, totalling 4 fits\n",
            "Best hyperparameters: {'n_estimators': 100, 'max_features': 'log2'}\n"
          ]
        }
      ]
    },
    {
      "cell_type": "code",
      "source": [
        "# Evaluate the model\n",
        "report = classification_report(y_test, y_pred_rfc)\n",
        "print(report)"
      ],
      "metadata": {
        "id": "2vvmcdT62prW",
        "colab": {
          "base_uri": "https://localhost:8080/"
        },
        "outputId": "411f296a-88cb-420d-9136-c360a36e5a45"
      },
      "execution_count": null,
      "outputs": [
        {
          "output_type": "stream",
          "name": "stdout",
          "text": [
            "              precision    recall  f1-score   support\n",
            "\n",
            "           0       0.58      0.47      0.52    140988\n",
            "           1       0.81      0.82      0.82    141628\n",
            "           2       0.63      0.74      0.68    141910\n",
            "\n",
            "    accuracy                           0.68    424526\n",
            "   macro avg       0.67      0.68      0.67    424526\n",
            "weighted avg       0.67      0.68      0.67    424526\n",
            "\n"
          ]
        }
      ]
    },
    {
      "cell_type": "markdown",
      "source": [
        "- Decision Tree"
      ],
      "metadata": {
        "id": "1KSksCI2xd9d"
      }
    },
    {
      "cell_type": "code",
      "source": [
        "models[1].tree_.max_depth"
      ],
      "metadata": {
        "id": "w-lJKpw94MYy"
      },
      "execution_count": null,
      "outputs": []
    },
    {
      "cell_type": "code",
      "source": [
        "# Define model and hyperparameters\n",
        "dtc = DecisionTreeClassifier()\n",
        "dtc_grid = {'criterion': ['gini', 'entropy'],\n",
        "            'splitter': ['best', 'random'],\n",
        "            'max_features': ['auto', 'sqrt', 'log2', 'none'], \n",
        "            'max_depth': [20, 40, None]}"
      ],
      "metadata": {
        "id": "7TMxApgIxhzF"
      },
      "execution_count": null,
      "outputs": []
    },
    {
      "cell_type": "code",
      "source": [
        "# Fit the model with the best hyperparameters\n",
        "dtc_best = randomsearch_cv(dtc, dtc_grid, 5, 10)\n",
        "\n",
        "dtc_best.fit(x_train, y_train)\n",
        "y_pred_dtc = dtc_best.predict(x_test)"
      ],
      "metadata": {
        "id": "pikljc7d5FTk",
        "colab": {
          "base_uri": "https://localhost:8080/"
        },
        "outputId": "85342922-4150-4125-d553-a252b96205a0"
      },
      "execution_count": null,
      "outputs": [
        {
          "output_type": "stream",
          "name": "stdout",
          "text": [
            "Fitting 5 folds for each of 10 candidates, totalling 50 fits\n",
            "Best hyperparameters: {'splitter': 'best', 'max_features': 'auto', 'max_depth': None, 'criterion': 'entropy'}\n"
          ]
        }
      ]
    },
    {
      "cell_type": "code",
      "source": [
        "# Evaluate the model\n",
        "report = classification_report(y_test, y_pred_dtc)\n",
        "print(report)"
      ],
      "metadata": {
        "id": "FGHTfSSNycbN",
        "colab": {
          "base_uri": "https://localhost:8080/"
        },
        "outputId": "05120f91-0fa2-4e3b-9c8c-320d07f9948f"
      },
      "execution_count": null,
      "outputs": [
        {
          "output_type": "stream",
          "name": "stdout",
          "text": [
            "              precision    recall  f1-score   support\n",
            "\n",
            "           0       0.54      0.47      0.50    140988\n",
            "           1       0.79      0.79      0.79    141628\n",
            "           2       0.62      0.70      0.66    141910\n",
            "\n",
            "    accuracy                           0.65    424526\n",
            "   macro avg       0.65      0.65      0.65    424526\n",
            "weighted avg       0.65      0.65      0.65    424526\n",
            "\n"
          ]
        }
      ]
    },
    {
      "cell_type": "markdown",
      "source": [
        "- LightGBM"
      ],
      "metadata": {
        "id": "mDZhqogExm99"
      }
    },
    {
      "cell_type": "code",
      "source": [
        "# Define model and hyperparameters\n",
        "lgbmc = LGBMClassifier()\n",
        "lgbmc_grid = {'num_leaves': [6, 10, 20, 30, 50],\n",
        "              'min_child_samples': [100, 200, 300, 500],\n",
        "              'min_child_weight': [1e-5, 1e-3, 1e-2, 1e-1, 1, 1e1, 1e2, 1e3, 1e4]}"
      ],
      "metadata": {
        "id": "YuNQbLy5sDDK"
      },
      "execution_count": null,
      "outputs": []
    },
    {
      "cell_type": "code",
      "source": [
        "# Fit the model with the best hyperparameters\n",
        "lgbmc_best = randomsearch_cv(lgbmc, lgbmc_grid, 3, 3)\n",
        "\n",
        "lgbmc_best.fit(x_train, y_train)\n",
        "y_pred_lgbmc = lgbmc_best.predict(x_test)"
      ],
      "metadata": {
        "id": "7MhK4ERi9Osv",
        "colab": {
          "base_uri": "https://localhost:8080/"
        },
        "outputId": "9f39b875-6b09-4f04-cdf5-5eb6e6d9139d"
      },
      "execution_count": null,
      "outputs": [
        {
          "output_type": "stream",
          "name": "stdout",
          "text": [
            "Fitting 3 folds for each of 3 candidates, totalling 9 fits\n",
            "Best hyperparameters: {'num_leaves': 50, 'min_child_weight': 1000.0, 'min_child_samples': 500}\n"
          ]
        }
      ]
    },
    {
      "cell_type": "code",
      "execution_count": null,
      "metadata": {
        "id": "hdknGTpgXNpC",
        "colab": {
          "base_uri": "https://localhost:8080/"
        },
        "outputId": "932acd02-a00f-4040-b289-d1c00e6ec2e0"
      },
      "outputs": [
        {
          "output_type": "stream",
          "name": "stdout",
          "text": [
            "              precision    recall  f1-score   support\n",
            "\n",
            "           0       0.53      0.37      0.44    140988\n",
            "           1       0.76      0.78      0.77    141628\n",
            "           2       0.63      0.79      0.70    141910\n",
            "\n",
            "    accuracy                           0.65    424526\n",
            "   macro avg       0.64      0.65      0.64    424526\n",
            "weighted avg       0.64      0.65      0.64    424526\n",
            "\n"
          ]
        }
      ],
      "source": [
        "# Evaluate the model\n",
        "report = classification_report(y_test, y_pred_lgbmc)\n",
        "print(report)"
      ]
    },
    {
      "cell_type": "markdown",
      "metadata": {
        "id": "rK5VQu_vOi0P"
      },
      "source": [
        "### Voting Classifier\n",
        "Finally, to properly utilize each model's strenght, and decrease the overall error, we used a voting classifier to combine our three models"
      ]
    },
    {
      "cell_type": "code",
      "execution_count": null,
      "metadata": {
        "id": "ee-MmXkYOZn9",
        "colab": {
          "base_uri": "https://localhost:8080/"
        },
        "outputId": "e8a850a9-61d6-4bf5-ebb9-5fa096b5e91b"
      },
      "outputs": [
        {
          "output_type": "execute_result",
          "data": {
            "text/plain": [
              "VotingClassifier(estimators=[('rfc',\n",
              "                              RandomForestClassifier(max_features='log2',\n",
              "                                                     n_jobs=-1)),\n",
              "                             ('dtc',\n",
              "                              DecisionTreeClassifier(criterion='entropy',\n",
              "                                                     max_features='auto')),\n",
              "                             ('lgbmc',\n",
              "                              LGBMClassifier(min_child_samples=500,\n",
              "                                             min_child_weight=1000.0,\n",
              "                                             num_leaves=50))])"
            ]
          },
          "metadata": {},
          "execution_count": 20
        }
      ],
      "source": [
        "voting_clf = VotingClassifier(estimators=[('rfc', rfc_best), ('dtc', dtc_best), ('lgbmc', lgbmc_best)],\n",
        "                              voting='hard')\n",
        "\n",
        "voting_clf.fit(x_train, y_train)"
      ]
    },
    {
      "cell_type": "code",
      "source": [
        "y_pred = voting_clf.predict(x_test)\n",
        "report = classification_report(y_test, y_pred)\n",
        "print(report)"
      ],
      "metadata": {
        "id": "RRZIgho0Id_d",
        "colab": {
          "base_uri": "https://localhost:8080/"
        },
        "outputId": "e0f84df0-516f-4be2-8dd5-261caaaea849"
      },
      "execution_count": null,
      "outputs": [
        {
          "output_type": "stream",
          "name": "stdout",
          "text": [
            "              precision    recall  f1-score   support\n",
            "\n",
            "           0       0.57      0.47      0.51    140988\n",
            "           1       0.81      0.82      0.81    141628\n",
            "           2       0.64      0.74      0.68    141910\n",
            "\n",
            "    accuracy                           0.68    424526\n",
            "   macro avg       0.67      0.68      0.67    424526\n",
            "weighted avg       0.67      0.68      0.67    424526\n",
            "\n"
          ]
        }
      ]
    },
    {
      "cell_type": "markdown",
      "source": [
        "Although the voting classier model had some metrics that were lower than those of some individual model, it was selected as our final model because it had a more evenly distributed scores. "
      ],
      "metadata": {
        "id": "LxesA35Dccwi"
      }
    },
    {
      "cell_type": "markdown",
      "metadata": {
        "id": "6Pvg3r19XNpD"
      },
      "source": [
        "### Save model to pickel file"
      ]
    },
    {
      "cell_type": "code",
      "execution_count": null,
      "metadata": {
        "id": "v1SCVuG0XNpD"
      },
      "outputs": [],
      "source": [
        "with open('model.pkl', 'wb') as file:\n",
        "  pickle.dump(voting_clf, file)"
      ]
    },
    {
      "cell_type": "code",
      "source": [
        "!du -sh 'model.pkl'"
      ],
      "metadata": {
        "colab": {
          "base_uri": "https://localhost:8080/"
        },
        "id": "7NkWfb8Cj9CJ",
        "outputId": "38faba10-84ea-426e-ac0a-1177bef79ea7"
      },
      "execution_count": null,
      "outputs": [
        {
          "output_type": "stream",
          "name": "stdout",
          "text": [
            "4.3G\tmodel.pkl\n"
          ]
        }
      ]
    },
    {
      "cell_type": "markdown",
      "source": [
        "Our model was quite large, which would be difficult to hanlde in deployment.<br>\n",
        "We also tried several approaches to reduced the file size; using joblib, removing the random forest model, zipping the file<br> Regardless, the file was still too large, thus we resulted in using only the decision tree for deployment"
      ],
      "metadata": {
        "id": "DNVmb24UlVp-"
      }
    },
    {
      "cell_type": "code",
      "source": [
        "with open('dtc_model.pkl', 'wb') as file:\n",
        "  pickle.dump(dtc_best, file)"
      ],
      "metadata": {
        "id": "VAvDAIghlagU"
      },
      "execution_count": null,
      "outputs": []
    },
    {
      "cell_type": "code",
      "source": [
        "!du -sh 'dtc_model.pkl'"
      ],
      "metadata": {
        "colab": {
          "base_uri": "https://localhost:8080/"
        },
        "id": "lDGU_NXrlv-4",
        "outputId": "06d4570e-47a8-4335-fdea-b56cf450dd51"
      },
      "execution_count": null,
      "outputs": [
        {
          "output_type": "stream",
          "name": "stdout",
          "text": [
            "30M\tdtc_model.pkl\n"
          ]
        }
      ]
    }
  ],
  "metadata": {
    "colab": {
      "collapsed_sections": [],
      "name": "Modeling.ipynb",
      "provenance": []
    },
    "kernelspec": {
      "display_name": "Python 3",
      "language": "python",
      "name": "python3"
    },
    "language_info": {
      "codemirror_mode": {
        "name": "ipython",
        "version": 3
      },
      "file_extension": ".py",
      "mimetype": "text/x-python",
      "name": "python",
      "nbconvert_exporter": "python",
      "pygments_lexer": "ipython3",
      "version": "3.9.1"
    }
  },
  "nbformat": 4,
  "nbformat_minor": 0
}